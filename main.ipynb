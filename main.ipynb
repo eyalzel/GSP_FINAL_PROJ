{
 "cells": [
  {
   "cell_type": "markdown",
   "id": "a7269907016b4ac8",
   "metadata": {
    "collapsed": false
   },
   "source": [
    "# GSP Final Project\n",
    "In this notebook, we will demonstrate estimation of graph signals using a GSP-based technique vs.  a deep-learning-based technique. "
   ]
  },
  {
   "cell_type": "code",
   "execution_count": 9,
   "id": "51bc23eb3352395a",
   "metadata": {
    "collapsed": false,
    "ExecuteTime": {
     "end_time": "2024-04-28T14:51:11.223585300Z",
     "start_time": "2024-04-28T14:51:09.993771700Z"
    }
   },
   "outputs": [],
   "source": [
    "import util\n",
    "import torch\n",
    "import torch.nn as nn\n",
    "import numpy as np\n",
    "import scipy.sparse as ssparse\n",
    "import scipy.io as sio\n",
    "import torch_geometric as tg\n",
    "import matplotlib.pyplot as plt\n",
    "from torch_geometric.data import Data\n",
    "from torch_geometric.loader import DataLoader"
   ]
  },
  {
   "cell_type": "code",
   "outputs": [],
   "source": [
    "colab = False\n",
    "if colab:\n",
    "    drive_path = './' # For colab integration type here your path and set 'colab = True'\n",
    "else:\n",
    "    drive_path = './'"
   ],
   "metadata": {
    "collapsed": false,
    "ExecuteTime": {
     "end_time": "2024-04-28T14:51:15.483375800Z",
     "start_time": "2024-04-28T14:51:15.479857700Z"
    }
   },
   "id": "fd09165e91d52875",
   "execution_count": 10
  },
  {
   "cell_type": "code",
   "outputs": [],
   "source": [
    "device = 'cpu'"
   ],
   "metadata": {
    "collapsed": false,
    "ExecuteTime": {
     "end_time": "2024-04-25T20:37:11.570749900Z",
     "start_time": "2024-04-25T20:37:11.566213200Z"
    }
   },
   "id": "d00f3a9fdcec97d7",
   "execution_count": 10
  },
  {
   "cell_type": "code",
   "execution_count": 11,
   "id": "cf0bb1d0827071d9",
   "metadata": {
    "collapsed": false,
    "ExecuteTime": {
     "end_time": "2024-04-28T14:51:21.782992300Z",
     "start_time": "2024-04-28T14:51:21.621644600Z"
    }
   },
   "outputs": [
    {
     "name": "stdout",
     "output_type": "stream",
     "text": [
      "Sun Apr 28 17:51:21 2024       \n",
      "+-----------------------------------------------------------------------------------------+\n",
      "| NVIDIA-SMI 552.22                 Driver Version: 552.22         CUDA Version: 12.4     |\n",
      "|-----------------------------------------+------------------------+----------------------+\n",
      "| GPU  Name                     TCC/WDDM  | Bus-Id          Disp.A | Volatile Uncorr. ECC |\n",
      "| Fan  Temp   Perf          Pwr:Usage/Cap |           Memory-Usage | GPU-Util  Compute M. |\n",
      "|                                         |                        |               MIG M. |\n",
      "|=========================================+========================+======================|\n",
      "|   0  NVIDIA GeForce RTX 4060 ...  WDDM  |   00000000:01:00.0  On |                  N/A |\n",
      "| N/A   42C    P8              3W /  115W |    1754MiB /   8188MiB |      4%      Default |\n",
      "|                                         |                        |                  N/A |\n",
      "+-----------------------------------------+------------------------+----------------------+\n",
      "                                                                                         \n",
      "+-----------------------------------------------------------------------------------------+\n",
      "| Processes:                                                                              |\n",
      "|  GPU   GI   CI        PID   Type   Process name                              GPU Memory |\n",
      "|        ID   ID                                                               Usage      |\n",
      "|=========================================================================================|\n",
      "|    0   N/A  N/A      4844    C+G   ...0.0_x64__cv1g1gvanyjgm\\WhatsApp.exe      N/A      |\n",
      "|    0   N/A  N/A     13424    C+G   ...ASUSACCI\\ArmouryCrateKeyControl.exe      N/A      |\n",
      "|    0   N/A  N/A     16784    C+G   ...ys\\WinUI3Apps\\PowerToys.Peek.UI.exe      N/A      |\n",
      "|    0   N/A  N/A     17564    C+G   ...werToys\\PowerToys.PowerLauncher.exe      N/A      |\n",
      "|    0   N/A  N/A     17708    C+G   ...ekyb3d8bbwe\\PhoneExperienceHost.exe      N/A      |\n",
      "|    0   N/A  N/A     18604    C+G   ...on\\123.0.2420.97\\msedgewebview2.exe      N/A      |\n",
      "|    0   N/A  N/A     20808    C+G   ...Programs\\Microsoft VS Code\\Code.exe      N/A      |\n",
      "|    0   N/A  N/A     21860    C+G   ...Google\\NearbyShare\\nearby_share.exe      N/A      |\n",
      "|    0   N/A  N/A     23868    C+G   ...r\\AppData\\Roaming\\Zoom\\bin\\Zoom.exe      N/A      |\n",
      "|    0   N/A  N/A     27368    C+G   ...siveControlPanel\\SystemSettings.exe      N/A      |\n",
      "|    0   N/A  N/A     27636    C+G   ...nt.CBS_cw5n1h2txyewy\\SearchHost.exe      N/A      |\n",
      "|    0   N/A  N/A     32192    C+G   ...crosoft\\Edge\\Application\\msedge.exe      N/A      |\n",
      "|    0   N/A  N/A     34532    C+G   ...t Office\\root\\Office16\\POWERPNT.EXE      N/A      |\n",
      "|    0   N/A  N/A     41296    C+G   ...les\\Microsoft OneDrive\\OneDrive.exe      N/A      |\n",
      "|    0   N/A  N/A     41564    C+G   ...t.LockApp_cw5n1h2txyewy\\LockApp.exe      N/A      |\n",
      "|    0   N/A  N/A     45412    C+G   C:\\Windows\\explorer.exe                     N/A      |\n",
      "|    0   N/A  N/A     47344    C+G   ...wekyb3d8bbwe\\XboxGameBarWidgets.exe      N/A      |\n",
      "|    0   N/A  N/A     47584    C+G   ...utube-music\\3.2.2\\YouTube Music.exe      N/A      |\n",
      "|    0   N/A  N/A     47644    C+G   ...CBS_cw5n1h2txyewy\\TextInputHost.exe      N/A      |\n",
      "|    0   N/A  N/A     47680    C+G   ...pdnekdrzrea0\\XboxGameBarSpotify.exe      N/A      |\n",
      "|    0   N/A  N/A     48040    C+G   ...ft Office\\root\\Office16\\WINWORD.EXE      N/A      |\n",
      "|    0   N/A  N/A     49376    C+G   ...GeForce Experience\\NVIDIA Share.exe      N/A      |\n",
      "|    0   N/A  N/A     52260    C+G   ...5n1h2txyewy\\ShellExperienceHost.exe      N/A      |\n",
      "|    0   N/A  N/A     54620    C+G   ...2txyewy\\StartMenuExperienceHost.exe      N/A      |\n",
      "+-----------------------------------------------------------------------------------------+\n"
     ]
    }
   ],
   "source": [
    "# Enable CUDA\n",
    "device = torch.device(\"cuda\" if torch.cuda.is_available() else \"cpu\")\n",
    "\n",
    "gpu_info = !nvidia-smi\n",
    "gpu_info = '\\n'.join(gpu_info)\n",
    "if gpu_info.find('failed') >= 0:\n",
    "  print('Not connected to a GPU')\n",
    "else:\n",
    "  print(gpu_info)"
   ]
  },
  {
   "cell_type": "code",
   "outputs": [],
   "source": [
    "# To empty GPU cache - No need to run\n",
    "torch.cuda.empty_cache()\n",
    "torch.cuda.reset_peak_memory_stats()"
   ],
   "metadata": {
    "collapsed": false,
    "ExecuteTime": {
     "end_time": "2024-04-25T16:35:44.523414100Z",
     "start_time": "2024-04-25T16:35:44.519385100Z"
    }
   },
   "id": "6ac6c06b25d50eb1",
   "execution_count": 23
  },
  {
   "cell_type": "markdown",
   "id": "ca9c2d7b0168bd9c",
   "metadata": {
    "collapsed": false
   },
   "source": [
    "## Task\n",
    "\n",
    "$$\\mathbf{x} \\longrightarrow  \\boxed{\\text{Physical Model}} \\longrightarrow \\mathbf{y}  \\longrightarrow \\boxed{\\text{Estimator}}  \\longrightarrow \\hat{\\mathbf{x}}$$ \n",
    "\n",
    "### Physical Model\n",
    "$$ \\mathbf{y} = \\mathbf{g}(\\mathbf{x};\\mathbf{L}) + \\mathbf{w} $$\n",
    "\n",
    "- $\\mathbf{x} \\sim p(\\mathbf{x})$.\n",
    "- $\\mathbf{g}$ - a non-linear measurement function.\n",
    "- $\\mathbf{L}$ - the Laplacian matrix of the graph.\n",
    " \n",
    "### Estimator\n",
    "- $\\mathbf{y}$ - input of the estimator\n",
    "- $\\mathbf{x}$ - ground-truth corresponding label\n",
    "- The estimator is given a dataset pairs of $\\{\\mathbf{x_t}, \\mathbf{y_t} \\}_t$ for training.\n",
    "\n",
    "**Goal**: The estimator should recover $\\mathbf{x}$ out of $\\mathbf{y}$ with minimum MSE.\n",
    "#### GSP-based\n",
    "\n",
    "Use a GSP-based technique for estimation.\n",
    "\n",
    "#### GNN-based\n",
    "\n",
    "Use a GNN deep-learning architecture for estimation.\n",
    "\n",
    "**NOTE:**  $\\mathbf{y}$ is the input to the DP model and $\\mathbf{x}$ is the output (i.e., the label) not vise versa!"
   ]
  },
  {
   "cell_type": "markdown",
   "id": "6e5f862e6b2a95fa",
   "metadata": {
    "collapsed": false
   },
   "source": [
    "## Part 1: Physical Model"
   ]
  },
  {
   "cell_type": "code",
   "execution_count": 12,
   "id": "860a8f216a91cbae",
   "metadata": {
    "collapsed": false,
    "ExecuteTime": {
     "end_time": "2024-04-28T14:51:38.743552800Z",
     "start_time": "2024-04-28T14:51:38.735549200Z"
    }
   },
   "outputs": [],
   "source": [
    "def laplacian_evd(Y):\n",
    "    L = - np.imag(Y)\n",
    "    Lambda, V = np.linalg.eig(L)\n",
    "    Lambda = np.real(Lambda)\n",
    "    sorted_indices = np.argsort(Lambda)\n",
    "    Lambda = Lambda[sorted_indices]\n",
    "    Lambda = np.diag(Lambda)\n",
    "    V = V[:, sorted_indices]\n",
    "    return L, Lambda, V\n",
    "    \n",
    "def g_xL(Y, x):\n",
    "    v = np.exp(1j * x)\n",
    "    g_x = np.real(v * np.conj(Y @ v))\n",
    "    return g_x\n",
    "    \n",
    "def generate_data(nt, Y, Lambda, V, beta=3, c_ww=0.05):\n",
    "    N = Y.shape[0]\n",
    "    xt = (V[:, 1:] @ np.random.multivariate_normal(np.zeros(N - 1), beta * np.diag(1 / np.diag(Lambda)[1:]), nt).T).T\n",
    "    if nt == 1:\n",
    "        xt = xt[0, :]\n",
    "    \n",
    "    yt = np.zeros(xt.shape)\n",
    "    for t in range(0, nt):\n",
    "        yt[t] = g_xL(Y, xt[t])\n",
    "    yt += np.sqrt(c_ww) * np.random.randn(yt.shape[0], yt.shape[1])\n",
    "    \n",
    "    return xt, yt\n",
    "\n",
    "# filename = 'grid_data_ieee118cdf.mat'\n",
    "# grid_data = sio.loadmat(filename)\n",
    "# Y = grid_data['Y']\n",
    "# N = Y.shape[0]\n",
    "# nt = 1000\n",
    "# \n",
    "# L, Lambda, V = laplacian_evd(Y)\n",
    "# xt_train, yt_train = generate_data(nt, Y, Lambda, V, )"
   ]
  },
  {
   "cell_type": "markdown",
   "id": "2f1667db35646052",
   "metadata": {
    "collapsed": false
   },
   "source": [
    "## Part 2: GSP-LMMSE Estimator\n",
    "\n",
    "The GSP-LMMSE estimator is defined as an estimator which minimize the MSE among all estimators in the form of a graph filter:\n",
    "$$\n",
    "\\{\\bf{h}, \\bf{b} \\} = \\text{argmin}~ \\mathbb{E} [(\\bf{x} - \\hat{\\bf{x}}(\\bf{y}))^2]\n",
    "$$\n",
    "\n",
    "where $\\hat{\\bf{x}}(\\bf{y}) =  \\bf{V} \\text{diag} (\\bf{h}) \\bf{V}^T \\bf{y}+ \\bf{b}$.\n",
    "\n",
    "A closed form expression would be:\n",
    "$$ \\hat{\\bf{x}}(\\bf{y}) =  \\bf{V} \\text{diag} (\\bf{d}_{\\bf{xy}}\\oslash \\bf{d}_{\\bf{yy}}) \\bf{V}^T \\bf{y} + \\bar{\\bf{x}}$$\n",
    "\n",
    "where $\\bf{d}_{\\bf{xy}} := \\text{diag}(\\text{cov}(\\bf{V}^T \\bf{x}, \\bf{V}^T \\bf{y}))$, $\\bf{d}_{\\bf{yy}} := \\text{diag}(\\text{var}(\\bf{V}^T \\bf{y}))$ and $\\bar{\\bf{x}} :=\\mathbb{E}\\bf{x}$"
   ]
  },
  {
   "cell_type": "code",
   "execution_count": 31,
   "id": "b344e0714d5c5312",
   "metadata": {
    "collapsed": false,
    "ExecuteTime": {
     "end_time": "2024-04-28T15:21:11.141556Z",
     "start_time": "2024-04-28T15:21:11.089719600Z"
    }
   },
   "outputs": [],
   "source": [
    "def train_gsp_lmmse_estimator(xt, yt, V):\n",
    "    xt = xt.T     # column vectors representation\n",
    "    yt = yt.T     # column vectors representation\n",
    "\n",
    "    xt_mean = np.mean(xt, axis=1)[:, np.newaxis]\n",
    "    yt_mean = np.mean(yt, axis=1)[:, np.newaxis]\n",
    "\n",
    "    d_xy = np.mean( ( V.T @ (xt - xt_mean) ) * ( V.T @ (yt - yt_mean) ) , axis=1)\n",
    "\n",
    "    d_yy = np.mean( ( V.T @ (yt - yt_mean) ) ** 2 , axis=1)\n",
    "    \n",
    "    h = d_xy / d_yy\n",
    "    \n",
    "    print(f\"xt {xt.shape} - yt {yt.shape}\")\n",
    "    print(f\"d_xy {d_xy}\")\n",
    "    print(f\"d_yy {d_yy}\")\n",
    "    \n",
    "    return h, xt_mean"
   ]
  },
  {
   "cell_type": "code",
   "outputs": [],
   "source": [
    "def test_estimator_mse(h, b, xt_test, yt_test, V):\n",
    "    xt_test = xt_test.T     # column vectors representation\n",
    "    yt_test = yt_test.T     # column vectors representation\n",
    "\n",
    "    err = V @ np.diag(h) @ V.T @ yt_test + b - xt_test\n",
    "    s_mse = np.linalg.norm(err, axis=0)\n",
    "    mse = np.mean(s_mse)\n",
    "    return mse\n"
   ],
   "metadata": {
    "collapsed": false,
    "ExecuteTime": {
     "end_time": "2024-04-28T14:51:41.674153500Z",
     "start_time": "2024-04-28T14:51:41.669584500Z"
    }
   },
   "id": "f86da8f2c3400c5c",
   "execution_count": 14
  },
  {
   "cell_type": "markdown",
   "id": "2d1c730c8e33707b",
   "metadata": {
    "collapsed": false
   },
   "source": [
    "## Part 3: GNN and Deep Learning based Estimation\n",
    "\n",
    "### Define Model Architecture"
   ]
  },
  {
   "cell_type": "code",
   "execution_count": 15,
   "id": "2196692421d14ac6",
   "metadata": {
    "collapsed": false,
    "ExecuteTime": {
     "end_time": "2024-04-28T14:51:43.421934900Z",
     "start_time": "2024-04-28T14:51:43.419930500Z"
    }
   },
   "outputs": [],
   "source": [
    "# class GNN(torch.nn.Module):\n",
    "#     def __init__(self, K = 30 ):  # K is the order of the Chebyshev polynomial\n",
    "#         super(GNN, self).__init__()\n",
    "#         \n",
    "#         self.conv1 = tg.nn.ChebConv(1, 1, K=K, normalization=None)\n",
    "#         self.relu1 = nn.LeakyReLU()\n",
    "#         self.conv2 = tg.nn.ChebConv(1, 1, K=K, normalization=None)\n",
    "#         self.relu2 = nn.ReLU()\n",
    "#         self.conv3 = tg.nn.ChebConv(1, 1, K=K, normalization=None)  \n",
    "# \n",
    "#     def forward(self, data):\n",
    "#         x, edge_index = data.x, data.edge_index\n",
    "#         x = self.conv1(x, edge_index=edge_index)\n",
    "#         x = self.relu1(x)\n",
    "#         x = self.conv2(x, edge_index=edge_index)\n",
    "#         # x = self.relu2(x)\n",
    "#         # x = self.conv3(x, edge_index=edge_index)\n",
    "#         return x\n",
    "# \n",
    "import torch.nn.functional as F\n",
    "\n",
    "class GNN(torch.nn.Module):\n",
    "    def __init__(self):\n",
    "        super(GNN, self).__init__()\n",
    "        # Since input and output features are 1, we set up the intermediate layers with a higher dimension\n",
    "        # Intermediate dimension for hidden layers\n",
    "        hidden_dim = 16\n",
    "        K = 30\n",
    "        # First GCN layer with 1 input feature and hidden_dim output features\n",
    "        self.conv1 = tg.nn.ChebConv(1, hidden_dim,  K=K, normalization=None)\n",
    "        # Second GCN layer\n",
    "        self.conv2 = tg.nn.ChebConv(hidden_dim, hidden_dim,  K=K, normalization=None)\n",
    "        # Third GCN layer, outputs hidden_dim features\n",
    "        self.conv3 = tg.nn.ChebConv(hidden_dim, hidden_dim,  K=K, normalization=None)\n",
    "        # Output linear layer to reduce back to 1 feature\n",
    "        self.linear = torch.nn.Linear(hidden_dim, 1, )\n",
    "        self.relu1 = nn.LeakyReLU()\n",
    "        self.relu2 = nn.LeakyReLU()\n",
    "        # self.relu1 = nn.LeakyReLU()\n",
    "\n",
    "    def forward(self, data):\n",
    "        x, edge_index, edge_weight = data.x, data.edge_index, data.edge_attr\n",
    "\n",
    "        # Apply the first convolution\n",
    "        x = self.conv1(x, edge_index, edge_weight=edge_weight)\n",
    "        x = self.relu1(x)  \n",
    "        # x = F.dropout(x, training=self.training)  # Apply dropout to avoid overfitting\n",
    "\n",
    "        # Apply the second convolution\n",
    "        x = self.conv2(x, edge_index, edge_weight=edge_weight)\n",
    "        x = self.relu2(x)  \n",
    "        # x = F.dropout(x, training=self.training)  # Apply dropout to avoid overfitting\n",
    "\n",
    "        # Apply the third convolution\n",
    "        x = self.conv3(x, edge_index, edge_weight=edge_weight)\n",
    "        # x = F.relu(x)\n",
    "\n",
    "        # Apply a final linear transformation\n",
    "        x = self.linear(x)\n",
    "\n",
    "        return x"
   ]
  },
  {
   "cell_type": "markdown",
   "id": "4cb09e26efe52704",
   "metadata": {
    "collapsed": false
   },
   "source": [
    "### Define training function\n",
    "\n",
    "In order to run on GPU via CUDA set device accordingly."
   ]
  },
  {
   "cell_type": "code",
   "execution_count": 16,
   "id": "b411d15073a81b43",
   "metadata": {
    "collapsed": false,
    "ExecuteTime": {
     "end_time": "2024-04-28T14:51:45.515273900Z",
     "start_time": "2024-04-28T14:51:45.506586500Z"
    }
   },
   "outputs": [],
   "source": [
    "def train_model(model, train_data, valid_data, batch_size=500, valid_batch_size = 200, epochs=40, lr=0.01, weight_decay=1e-4, device='cpu'):\n",
    "    \n",
    "    train_loader = DataLoader(train_data, batch_size=batch_size, shuffle=True)\n",
    "    valid_loader = DataLoader(valid_data, batch_size=valid_batch_size, shuffle=False)\n",
    "\n",
    "    criterion = nn.MSELoss()\n",
    "    optimizer = torch.optim.Adam(model.parameters(), lr=lr, weight_decay=weight_decay)\n",
    "    \n",
    "    train_mse, valid_mse = [], []\n",
    "    \n",
    "    best_state_dict = None\n",
    "    best_val_loss = float('inf')\n",
    "    \n",
    "    for epoch in range(epochs):\n",
    "                \n",
    "        # Training\n",
    "        model.train() \n",
    "        # train_loss = 0\n",
    "        # iters = 0\n",
    "        # test_loss = None\n",
    "        for data in train_loader:\n",
    "            data = data.to(device) \n",
    "            optimizer.zero_grad()\n",
    "            out = model(data)\n",
    "            loss = criterion(out, data.y)\n",
    "            loss.backward()\n",
    "            optimizer.step()\n",
    "            # test_loss = float(loss.item())\n",
    "            # train_loss += float(loss.item())\n",
    "            # iters += 1\n",
    "        test_loss = evaluate_model(model, train_loader, device=device)\n",
    "        train_mse.append(test_loss)\n",
    "\n",
    "        # Validation\n",
    "        valid_loss = evaluate_model(model, valid_loader, device=device)\n",
    "        valid_mse.append(valid_loss)\n",
    "\n",
    "        if valid_mse[-1] <= min(valid_mse):\n",
    "            print(\"Current State Saved\")\n",
    "            # torch.save(model.state_dict(), path + f\"{valid_mse[-1]}.pk\")\n",
    "            best_state_dict = model.state_dict()\n",
    "            best_val_loss = valid_mse[-1]\n",
    "\n",
    "        print(f\"Epoch: {epoch}, Train MSE {train_mse[-1]}, Validation MSE {valid_mse[-1]}\")\n",
    "    \n",
    "    return train_mse, valid_mse, best_state_dict, best_val_loss\n",
    "        \n",
    "def evaluate_model(model, test_loader, device='cpu'):\n",
    "    # criterion = nn.MSELoss(reduction='sum')\n",
    "    N = test_loader.dataset[0].x.shape[0]\n",
    "    model.eval()\n",
    "    mse = 0\n",
    "    iters = 0\n",
    "    with torch.no_grad():\n",
    "        for data in test_loader:\n",
    "            data = data.to(device) \n",
    "    \n",
    "            output = model(data)\n",
    "            # loss = criterion(output,data.y)\n",
    "            # mse += float(loss.item())\n",
    "            # print(f\"{output.shape}, {data.y.shape}\")\n",
    "            err = output - data.y\n",
    "            err = err.view(-1, N)\n",
    "            s_mse = torch.linalg.norm(err, dim=1)\n",
    "            m_mse = torch.mean(s_mse)\n",
    "            mse += m_mse\n",
    "            iters += 1\n",
    "    # print(s_mse)\n",
    "    # print(f\"{s_mse.shape}\")\n",
    "    # print(f\"{m_mse}\")\n",
    "    return float(mse) / iters\n",
    "\n",
    "def plot_learning_curve(train_mse, valid_mse):\n",
    "    plt.figure(figsize=(10, 5))\n",
    "    plt.plot(train_mse, label='Training MSE', color='blue')\n",
    "    plt.plot(valid_mse, label='Validation MSE', color='black')\n",
    "    plt.title('Training and Validation Losses')\n",
    "    plt.xlabel('Epochs')\n",
    "    plt.ylabel('MSE')\n",
    "    plt.legend()\n",
    "    plt.show()"
   ]
  },
  {
   "cell_type": "markdown",
   "id": "89560b0932c2d00d",
   "metadata": {
    "collapsed": false
   },
   "source": [
    "## Part 4: Train"
   ]
  },
  {
   "cell_type": "code",
   "outputs": [
    {
     "name": "stdout",
     "output_type": "stream",
     "text": [
      "nt_array = [    10    100   1000  10000 100000]\n"
     ]
    }
   ],
   "source": [
    "nt_arr = np.arange(1, 6)\n",
    "nt_arr = np.power(10, nt_arr)\n",
    "print(f\"nt_array = {nt_arr}\")"
   ],
   "metadata": {
    "collapsed": false,
    "ExecuteTime": {
     "end_time": "2024-04-28T14:51:47.140053100Z",
     "start_time": "2024-04-28T14:51:47.136450100Z"
    }
   },
   "id": "3594d836612d41",
   "execution_count": 17
  },
  {
   "cell_type": "code",
   "outputs": [],
   "source": [
    "nt = nt_arr[3]\n",
    "filename = drive_path + 'grid_data_ieee118cdf.mat'\n",
    "grid_data = sio.loadmat(filename)\n",
    "Y = grid_data['Y']\n",
    "N = Y.shape[0]\n",
    "c_ww = 0.4\n",
    "\n",
    "L, Lambda, V = laplacian_evd(Y)\n",
    "xt_total, yt_total = generate_data(nt, Y, Lambda, V, c_ww=c_ww)\n"
   ],
   "metadata": {
    "collapsed": false,
    "ExecuteTime": {
     "end_time": "2024-04-28T15:37:09.249021200Z",
     "start_time": "2024-04-28T15:37:07.651357300Z"
    }
   },
   "id": "8159c1744d97022e",
   "execution_count": 34
  },
  {
   "cell_type": "code",
   "execution_count": 26,
   "id": "d16ed3b52df55492",
   "metadata": {
    "collapsed": false,
    "ExecuteTime": {
     "end_time": "2024-04-28T15:01:43.242115Z",
     "start_time": "2024-04-28T14:55:53.379084200Z"
    }
   },
   "outputs": [
    {
     "name": "stdout",
     "output_type": "stream",
     "text": [
      "Current State Saved\n",
      "Epoch: 0, Train MSE 30.2462646484375, Validation MSE 30.088223266601563\n",
      "Current State Saved\n",
      "Epoch: 1, Train MSE 16.760173034667968, Validation MSE 16.664215087890625\n",
      "Current State Saved\n",
      "Epoch: 2, Train MSE 12.675479125976562, Validation MSE 12.592813110351562\n",
      "Current State Saved\n",
      "Epoch: 3, Train MSE 10.778224182128906, Validation MSE 10.694152069091796\n",
      "Current State Saved\n",
      "Epoch: 4, Train MSE 9.713465881347656, Validation MSE 9.634273529052734\n",
      "Current State Saved\n",
      "Epoch: 5, Train MSE 8.969471740722657, Validation MSE 8.895232391357421\n",
      "Current State Saved\n",
      "Epoch: 6, Train MSE 8.479909515380859, Validation MSE 8.409950256347656\n",
      "Current State Saved\n",
      "Epoch: 7, Train MSE 8.111621856689453, Validation MSE 8.042768859863282\n",
      "Current State Saved\n",
      "Epoch: 8, Train MSE 7.821260833740235, Validation MSE 7.756187438964844\n",
      "Current State Saved\n",
      "Epoch: 9, Train MSE 7.583560943603516, Validation MSE 7.522880554199219\n",
      "Current State Saved\n",
      "Epoch: 10, Train MSE 7.3853759765625, Validation MSE 7.328433227539063\n",
      "Current State Saved\n",
      "Epoch: 11, Train MSE 7.223697662353516, Validation MSE 7.169134521484375\n",
      "Current State Saved\n",
      "Epoch: 12, Train MSE 7.073594665527343, Validation MSE 7.020931243896484\n",
      "Current State Saved\n",
      "Epoch: 13, Train MSE 6.938990783691406, Validation MSE 6.8876701354980465\n",
      "Current State Saved\n",
      "Epoch: 14, Train MSE 6.8252410888671875, Validation MSE 6.775103759765625\n",
      "Current State Saved\n",
      "Epoch: 15, Train MSE 6.714804840087891, Validation MSE 6.665541076660157\n",
      "Current State Saved\n",
      "Epoch: 16, Train MSE 6.612853240966797, Validation MSE 6.564554595947266\n",
      "Current State Saved\n",
      "Epoch: 17, Train MSE 6.518146514892578, Validation MSE 6.471363830566406\n",
      "Current State Saved\n",
      "Epoch: 18, Train MSE 6.429216003417968, Validation MSE 6.3837333679199215\n",
      "Current State Saved\n",
      "Epoch: 19, Train MSE 6.344732666015625, Validation MSE 6.300713348388672\n",
      "Current State Saved\n",
      "Epoch: 20, Train MSE 6.265019226074219, Validation MSE 6.222077941894531\n",
      "Current State Saved\n",
      "Epoch: 21, Train MSE 6.188291931152344, Validation MSE 6.145845794677735\n",
      "Current State Saved\n",
      "Epoch: 22, Train MSE 6.1149028778076175, Validation MSE 6.073116683959961\n",
      "Current State Saved\n",
      "Epoch: 23, Train MSE 6.042956924438476, Validation MSE 6.001874923706055\n",
      "Current State Saved\n",
      "Epoch: 24, Train MSE 5.975615310668945, Validation MSE 5.935047912597656\n",
      "Current State Saved\n",
      "Epoch: 25, Train MSE 5.912292861938477, Validation MSE 5.872138977050781\n",
      "Current State Saved\n",
      "Epoch: 26, Train MSE 5.847835540771484, Validation MSE 5.808111572265625\n",
      "Current State Saved\n",
      "Epoch: 27, Train MSE 5.788758087158203, Validation MSE 5.749654388427734\n",
      "Current State Saved\n",
      "Epoch: 28, Train MSE 5.732543563842773, Validation MSE 5.693882751464844\n",
      "Current State Saved\n",
      "Epoch: 29, Train MSE 5.6795917510986325, Validation MSE 5.641643524169922\n",
      "Current State Saved\n",
      "Epoch: 30, Train MSE 5.629394149780273, Validation MSE 5.592023849487305\n",
      "Current State Saved\n",
      "Epoch: 31, Train MSE 5.581693649291992, Validation MSE 5.544995498657227\n",
      "Current State Saved\n",
      "Epoch: 32, Train MSE 5.537039566040039, Validation MSE 5.500821685791015\n",
      "Current State Saved\n",
      "Epoch: 33, Train MSE 5.494107437133789, Validation MSE 5.458599853515625\n",
      "Current State Saved\n",
      "Epoch: 34, Train MSE 5.453815460205078, Validation MSE 5.41883430480957\n",
      "Current State Saved\n",
      "Epoch: 35, Train MSE 5.413184356689453, Validation MSE 5.378760528564453\n",
      "Current State Saved\n",
      "Epoch: 36, Train MSE 5.374336624145508, Validation MSE 5.340462112426758\n",
      "Current State Saved\n",
      "Epoch: 37, Train MSE 5.336051559448242, Validation MSE 5.302724075317383\n",
      "Current State Saved\n",
      "Epoch: 38, Train MSE 5.297642517089844, Validation MSE 5.264906692504883\n",
      "Current State Saved\n",
      "Epoch: 39, Train MSE 5.258722305297852, Validation MSE 5.226233291625976\n"
     ]
    },
    {
     "data": {
      "text/plain": "<Figure size 1000x500 with 1 Axes>",
      "image/png": "[encoded data removed]"
     },
     "metadata": {},
     "output_type": "display_data"
    }
   ],
   "source": [
    "lr = 0.01\n",
    "batch_size = 100\n",
    "# path = drive_path + f\"model1_nt_{nt}_lr_{lr}_bs_{batch_size}\"\n",
    "GNN_model = GNN()\n",
    "\n",
    "L_sparse = ssparse.csr_matrix(np.diag(np.diag(L)) -L)\n",
    "edge_index, edge_weight = tg.utils.from_scipy_sparse_matrix(L_sparse)\n",
    "\n",
    "edge_weight = edge_weight.to(dtype=torch.float32)\n",
    "\n",
    "xt_total = torch.tensor(xt_total, dtype=torch.float32)\n",
    "yt_total = torch.tensor(yt_total, dtype=torch.float32)\n",
    "\n",
    "# NOTE: yt is the input for the model, and xt is the label, in Data object x is the input and y is the label!\n",
    "total_data = [Data(x=yt_total[i].unsqueeze(-1), y=xt_total[i].unsqueeze(-1), edge_index=edge_index, edge_attr=edge_weight) for i in range(len(yt_total))]\n",
    "\n",
    "train_data = total_data[:int(len(total_data) * 0.8)]\n",
    "valid_data = total_data[int(len(total_data) * 0.8):]\n",
    "\n",
    "GNN_model.to(device)\n",
    "\n",
    "train_mse, valid_mse, best_state_dict, best_val_loss = train_model(GNN_model, train_data, valid_data, batch_size=batch_size, lr = lr, device=device)\n",
    "torch.save(best_state_dict, drive_path + f\"models/model1_nt_{nt}_lr_{lr}_bs_{batch_size}_loss_{best_val_loss}.pk\")\n",
    "\n",
    "plot_learning_curve(train_mse, valid_mse)"
   ]
  },
  {
   "cell_type": "markdown",
   "id": "de1915ae1723bcbb",
   "metadata": {
    "collapsed": false
   },
   "source": [
    "## Part 4: Comparison"
   ]
  },
  {
   "cell_type": "code",
   "outputs": [
    {
     "name": "stdout",
     "output_type": "stream",
     "text": [
      "nt: 10 loss: 42.701515197753906\n",
      "nt: 1000 loss: 10.074037551879883\n",
      "nt: 10000 loss: 5.791524505615234\n"
     ]
    }
   ],
   "source": [
    "import glob\n",
    "\n",
    "models_prop = []\n",
    "models_path = drive_path + \"models/*\"\n",
    "files = sorted([file for file in glob.glob(models_path)])\n",
    "for file in files:\n",
    "    file = file.replace(\"\\\\\", \"/\")\n",
    "    name = \".\".join(file.split(\"/\")[-1].split(\".\")[0:-1])\n",
    "    # print(name)\n",
    "    prop = name.split(\"_\")\n",
    "    models_prop.append({})\n",
    "    models_prop[-1][\"file\"] = file\n",
    "    models_prop[-1][\"nt\"] = int(prop[2])\n",
    "    models_prop[-1][\"loss\"] = prop[-1]\n",
    "    # print(f\"nt: {models_prop[-1][\"nt\"]} loss: {models_prop[-1]['loss']}\")\n",
    "\n",
    "# print(models_prop)\n",
    "best_models = {}\n",
    "\n",
    "for nt in nt_arr:\n",
    "    filtered_prop = [prop for prop in models_prop if prop['nt'] == nt]\n",
    "    if filtered_prop:\n",
    "        best_models[nt] = (min(filtered_prop, key=lambda x: x['loss']))\n",
    "\n",
    "for md in best_models:\n",
    "    print(f\"nt: {best_models[md]['nt']} loss: {best_models[md]['loss']}\")"
   ],
   "metadata": {
    "collapsed": false,
    "ExecuteTime": {
     "end_time": "2024-04-28T14:51:59.745927800Z",
     "start_time": "2024-04-28T14:51:59.740243800Z"
    }
   },
   "id": "2c2cbcefa4270328",
   "execution_count": 18
  },
  {
   "cell_type": "code",
   "outputs": [
    {
     "name": "stdout",
     "output_type": "stream",
     "text": [
      "xt (118, 10) - yt (118, 10)\n",
      "d_xy [-2.53949177e-14  2.83421342e+00  2.66731254e+00  3.19935441e+00\n",
      "  1.60454245e+00  1.29186710e+00  1.32051858e+00  3.38164271e+00\n",
      "  1.97929530e+00  3.44783791e+00  2.16916505e+00  4.85389900e-01\n",
      "  4.51868622e+00  4.34266038e+00  3.81205955e+00  6.64160022e+00\n",
      "  1.90187391e+00  4.02013396e+00  1.40840104e+00  2.23496386e+00\n",
      "  3.30361087e+00  1.46529403e+00  5.95124939e+00  1.64220914e+00\n",
      "  5.17511310e+00  1.34917194e+00  1.33577524e+00  3.18219741e+00\n",
      "  1.23655150e+00  1.03826232e+00  2.06843251e+00  1.04979563e+00\n",
      "  5.03583635e-01  2.31231268e+00  2.98604323e+00  2.06982375e+00\n",
      "  1.41154681e+00  1.92149111e+00  2.87043105e+00  1.36735131e+00\n",
      "  4.50070359e-01  1.11371385e+00  1.35737133e+00  3.04081846e+00\n",
      "  1.23224861e+00  2.96773711e+00  1.99735008e+00  3.17042038e+00\n",
      "  1.63419529e+00  2.26003851e+00  3.46663557e+00  2.44685540e+00\n",
      "  2.61552667e+00  4.23040242e+00  1.52209095e+00  2.26355830e+00\n",
      "  4.68319753e+00  2.65003536e+00  2.75053198e+00  3.14811429e+00\n",
      "  9.93069580e-01  1.92255441e+00  2.18091065e+00  1.97553488e+00\n",
      "  1.47463053e+00  3.40973905e+00  1.30246638e+00  2.13105127e+00\n",
      "  3.99876913e+00  3.19827815e+00  3.41278462e+00  3.71164827e+00\n",
      "  2.08327689e+00  1.40519166e+00  1.90722951e+00  1.31439003e+00\n",
      "  1.69986330e+00  3.73304177e+00  2.20939809e+00  3.17585706e+00\n",
      "  1.91483064e+00  1.30568259e+00  2.88900736e+00  3.77505850e+00\n",
      "  2.52311828e+00  4.54125086e+00  2.78033979e+00  1.58600252e+00\n",
      "  1.39813339e+00  2.55441434e+00  2.91944576e+00  3.20522257e+00\n",
      "  3.26353081e+00  2.31983359e+00  4.56907261e+00  3.30127507e+00\n",
      "  1.62132277e+00  2.29429271e+00  1.89967322e+00  3.22284987e+00\n",
      "  2.63550454e+00  1.67787287e+00  1.56673182e+00  1.06687499e+00\n",
      "  4.23739251e+00  3.00616412e+00  3.42675978e-01  3.57488206e+00\n",
      "  1.74085294e+00  1.54557998e+00  1.22229903e+00  4.41040474e+00\n",
      "  2.16314466e+00  2.66188073e+00  2.28025847e+00  3.36706717e+00\n",
      "  4.14406232e+00  2.79288603e+00]\n",
      "d_yy [1.78712312e+00 1.59490765e+00 2.88128762e+00 4.95691467e+00\n",
      " 3.91424946e+00 2.47790045e+00 2.75422142e+00 7.97873479e+00\n",
      " 7.21409291e+00 1.04583473e+01 6.91419358e+00 2.67173601e+00\n",
      " 2.18312739e+01 1.86112067e+01 1.93402745e+01 3.46702893e+01\n",
      " 1.07147739e+01 3.03538513e+01 9.41966039e+00 1.93297535e+01\n",
      " 2.50901522e+01 1.57612752e+01 4.91873090e+01 1.35003994e+01\n",
      " 4.77248899e+01 1.35786536e+01 1.56107692e+01 3.45708117e+01\n",
      " 1.56284299e+01 1.30496209e+01 2.53852751e+01 1.17567711e+01\n",
      " 5.40309670e+00 2.58190969e+01 3.53779954e+01 2.81136470e+01\n",
      " 1.70235737e+01 2.54575805e+01 3.90554871e+01 1.86242845e+01\n",
      " 7.04809632e+00 1.94556765e+01 2.54240670e+01 5.04076800e+01\n",
      " 2.02596587e+01 5.18191552e+01 3.58494428e+01 5.15468000e+01\n",
      " 3.36089879e+01 4.53521830e+01 7.10456677e+01 5.17686617e+01\n",
      " 6.16734113e+01 1.01666836e+02 3.53494511e+01 5.38274547e+01\n",
      " 1.15049228e+02 6.97281053e+01 6.87688424e+01 7.52978231e+01\n",
      " 2.51944586e+01 5.96519565e+01 6.16331308e+01 6.09142199e+01\n",
      " 4.94537948e+01 1.08389343e+02 4.62237641e+01 7.71691635e+01\n",
      " 1.48352715e+02 1.32727630e+02 1.44304354e+02 1.54996983e+02\n",
      " 9.09132724e+01 6.00678098e+01 9.11036378e+01 6.50774340e+01\n",
      " 8.50129771e+01 1.84574053e+02 1.11667738e+02 1.69660084e+02\n",
      " 1.08186013e+02 7.83593683e+01 1.54868253e+02 2.22214125e+02\n",
      " 1.56656249e+02 2.92313422e+02 1.81281451e+02 1.05869593e+02\n",
      " 9.56455206e+01 1.65584349e+02 2.02774133e+02 2.20008264e+02\n",
      " 2.23416593e+02 1.75233600e+02 3.45932777e+02 2.54311332e+02\n",
      " 1.36627128e+02 1.90462572e+02 1.59057783e+02 2.70967015e+02\n",
      " 2.10549639e+02 1.42427678e+02 1.72605816e+02 1.11895742e+02\n",
      " 4.52179823e+02 3.46334745e+02 4.37720704e+01 4.81181765e+02\n",
      " 2.87397206e+02 2.58361224e+02 2.34406886e+02 8.60192798e+02\n",
      " 4.38839900e+02 5.61643181e+02 5.93837330e+02 9.06268772e+02\n",
      " 1.19144231e+03 1.59735455e+03]\n",
      "xt (118, 100) - yt (118, 100)\n",
      "d_xy [-3.02542793e-16  3.13868893e+00  2.63017139e+00  3.06145079e+00\n",
      "  2.25615691e+00  2.14219748e+00  3.55058888e+00  2.59675731e+00\n",
      "  2.10062485e+00  2.29910679e+00  2.36245372e+00  2.88675555e+00\n",
      "  2.82780241e+00  3.20985521e+00  2.75638349e+00  2.72908690e+00\n",
      "  2.63366813e+00  2.82896619e+00  2.05504430e+00  2.37793669e+00\n",
      "  3.14117997e+00  3.39202782e+00  2.91295797e+00  3.18550655e+00\n",
      "  2.73948817e+00  2.81114503e+00  1.74552812e+00  2.40322599e+00\n",
      "  2.42603978e+00  3.33321113e+00  2.52820329e+00  2.37458103e+00\n",
      "  2.41779716e+00  2.52127801e+00  2.75098645e+00  2.81276866e+00\n",
      "  2.92449106e+00  3.02526618e+00  3.11259793e+00  2.63624727e+00\n",
      "  2.84888163e+00  1.60237704e+00  2.95213504e+00  2.68182373e+00\n",
      "  3.20484802e+00  2.93677424e+00  2.61202221e+00  2.46653619e+00\n",
      "  2.06993523e+00  2.93706744e+00  3.03060992e+00  2.70827208e+00\n",
      "  2.08018307e+00  2.50972887e+00  3.16723332e+00  2.60988006e+00\n",
      "  2.30283642e+00  3.19713461e+00  2.31881046e+00  2.93639568e+00\n",
      "  2.99753266e+00  2.37820977e+00  2.76988214e+00  3.31854166e+00\n",
      "  2.76174287e+00  2.93328818e+00  2.69414046e+00  2.83601860e+00\n",
      "  3.22985627e+00  2.19208584e+00  2.16720455e+00  2.87595191e+00\n",
      "  2.95226185e+00  2.72546436e+00  2.55741889e+00  2.68705183e+00\n",
      "  2.42018735e+00  3.08977096e+00  2.31201503e+00  3.50976547e+00\n",
      "  2.84871006e+00  2.53070089e+00  2.54226393e+00  3.36989096e+00\n",
      "  2.51351445e+00  2.33143468e+00  3.37446887e+00  3.20281909e+00\n",
      "  2.52383977e+00  2.54750051e+00  3.13981648e+00  2.70485301e+00\n",
      "  2.55158239e+00  3.22269132e+00  2.67761014e+00  2.68665491e+00\n",
      "  2.75603032e+00  3.15461764e+00  2.15026641e+00  4.21281679e+00\n",
      "  1.92088802e+00  3.11957642e+00  3.36280012e+00  2.26607123e+00\n",
      "  2.65728591e+00  3.21213919e+00  2.28155822e+00  2.17602955e+00\n",
      "  2.59329461e+00  3.03897019e+00  3.48795627e+00  2.83575273e+00\n",
      "  2.41138307e+00  3.56586543e+00  2.40305066e+00  2.58401761e+00\n",
      "  3.03384065e+00  2.81951898e+00]\n",
      "d_yy [1.27702389e+00 2.01810641e+00 2.91711736e+00 4.73468633e+00\n",
      " 4.03432392e+00 5.01539155e+00 7.94633123e+00 6.76469043e+00\n",
      " 7.34672708e+00 8.14120094e+00 9.31945942e+00 1.23950288e+01\n",
      " 1.40458076e+01 1.75503129e+01 1.53963409e+01 1.62409972e+01\n",
      " 1.52795631e+01 1.88104352e+01 1.47309480e+01 1.90989127e+01\n",
      " 2.41938537e+01 2.82293542e+01 2.50433229e+01 2.95977265e+01\n",
      " 2.79620018e+01 3.07784817e+01 1.78824910e+01 2.55687284e+01\n",
      " 2.73415454e+01 3.89104661e+01 3.06019541e+01 2.82279679e+01\n",
      " 3.13555223e+01 3.28539900e+01 3.47596296e+01 3.69771382e+01\n",
      " 4.00985246e+01 4.17157975e+01 4.54788218e+01 4.07650918e+01\n",
      " 4.49758679e+01 2.60673825e+01 4.65728770e+01 4.41784181e+01\n",
      " 5.18104878e+01 4.94647914e+01 4.60332732e+01 4.35823665e+01\n",
      " 3.79555281e+01 6.01716255e+01 6.11642477e+01 5.74067921e+01\n",
      " 4.54498093e+01 5.71318902e+01 7.29188671e+01 6.37081859e+01\n",
      " 5.71185098e+01 8.16655188e+01 5.95861613e+01 7.66347959e+01\n",
      " 8.06629676e+01 7.09232546e+01 7.94927139e+01 1.04367511e+02\n",
      " 8.78978545e+01 9.17493642e+01 9.19411214e+01 1.04667587e+02\n",
      " 1.26606062e+02 8.91702030e+01 9.05452183e+01 1.22434022e+02\n",
      " 1.28480342e+02 1.24840624e+02 1.21222529e+02 1.24985671e+02\n",
      " 1.21177041e+02 1.56569991e+02 1.17165877e+02 1.90971248e+02\n",
      " 1.62260783e+02 1.42584132e+02 1.41801038e+02 1.95121318e+02\n",
      " 1.52810977e+02 1.49964075e+02 2.18393179e+02 2.06362172e+02\n",
      " 1.68076097e+02 1.74097361e+02 2.15162236e+02 1.87391396e+02\n",
      " 1.83007214e+02 2.44091840e+02 2.02552919e+02 2.06254399e+02\n",
      " 2.15529145e+02 2.57192551e+02 1.77941342e+02 3.46057090e+02\n",
      " 1.61865754e+02 2.74653498e+02 3.50456839e+02 2.41567126e+02\n",
      " 2.89616608e+02 3.71611846e+02 2.90191356e+02 2.92230193e+02\n",
      " 4.22520527e+02 4.87184768e+02 6.56535699e+02 5.52396207e+02\n",
      " 4.80873482e+02 7.27840949e+02 6.18200941e+02 6.76843153e+02\n",
      " 8.79762428e+02 1.61776728e+03]\n",
      "xt (118, 1000) - yt (118, 1000)\n",
      "d_xy [1.68122716e-16 2.45260343e+00 2.69718195e+00 2.59729663e+00\n",
      " 2.84609854e+00 2.69261508e+00 2.47821143e+00 2.69028178e+00\n",
      " 2.48508064e+00 2.56447956e+00 2.75985903e+00 2.73655291e+00\n",
      " 2.87206987e+00 2.49392113e+00 2.60498186e+00 2.77137972e+00\n",
      " 2.56452984e+00 2.85843883e+00 2.64044312e+00 2.46835783e+00\n",
      " 2.52257924e+00 2.74371332e+00 2.91742597e+00 2.91282648e+00\n",
      " 2.65963449e+00 2.63718189e+00 2.87433373e+00 2.52655203e+00\n",
      " 2.64066052e+00 2.83048223e+00 2.71141969e+00 2.51876498e+00\n",
      " 2.67625765e+00 2.68763552e+00 2.58367031e+00 2.50598885e+00\n",
      " 2.55559357e+00 2.60668116e+00 2.87074753e+00 2.59361307e+00\n",
      " 2.81663763e+00 2.74919694e+00 2.61619858e+00 2.87825704e+00\n",
      " 2.79048235e+00 2.70828544e+00 2.69752610e+00 2.50365643e+00\n",
      " 2.82270066e+00 2.94980781e+00 2.72551423e+00 2.84138274e+00\n",
      " 2.54229223e+00 2.79767330e+00 2.97194905e+00 2.89712051e+00\n",
      " 2.81584334e+00 2.84161445e+00 2.64453050e+00 2.68946186e+00\n",
      " 2.68618171e+00 2.95204018e+00 2.47458185e+00 2.62977295e+00\n",
      " 2.97286717e+00 2.51327832e+00 2.68194798e+00 2.54766355e+00\n",
      " 2.63089288e+00 2.67271283e+00 2.78125383e+00 3.15872375e+00\n",
      " 2.53822259e+00 2.68798668e+00 2.81491873e+00 2.51161968e+00\n",
      " 2.78049184e+00 2.87112583e+00 2.80248965e+00 2.83819595e+00\n",
      " 2.81990962e+00 2.81449012e+00 2.79362806e+00 2.68070554e+00\n",
      " 2.82567414e+00 2.79464091e+00 2.92844041e+00 2.60638009e+00\n",
      " 2.96544571e+00 2.82717818e+00 2.79920288e+00 2.82973188e+00\n",
      " 2.80511124e+00 3.17184357e+00 2.69549416e+00 3.13969274e+00\n",
      " 2.68408133e+00 2.66068731e+00 2.88374008e+00 3.00667692e+00\n",
      " 2.93383878e+00 2.91275385e+00 3.02149657e+00 2.75817110e+00\n",
      " 3.08220350e+00 2.83754857e+00 2.87611668e+00 2.92349073e+00\n",
      " 3.04280804e+00 2.93608068e+00 2.83711457e+00 2.90408036e+00\n",
      " 2.96373716e+00 2.73065495e+00 2.83495291e+00 3.04754575e+00\n",
      " 2.85972339e+00 2.91308996e+00]\n",
      "d_yy [1.47058705e+00 2.15168523e+00 3.37756222e+00 3.99663966e+00\n",
      " 5.06712753e+00 5.76614982e+00 6.11053333e+00 7.06414113e+00\n",
      " 8.37922447e+00 8.70192357e+00 1.04100546e+01 1.14337167e+01\n",
      " 1.39434675e+01 1.30246701e+01 1.45810146e+01 1.60011051e+01\n",
      " 1.57113113e+01 1.98450225e+01 1.84774865e+01 1.91567764e+01\n",
      " 1.98595619e+01 2.32928639e+01 2.54195876e+01 2.77396576e+01\n",
      " 2.66980984e+01 2.75307625e+01 2.94687260e+01 2.64964697e+01\n",
      " 2.87533246e+01 3.35597500e+01 3.21061263e+01 2.99189657e+01\n",
      " 3.41019364e+01 3.44556714e+01 3.29843115e+01 3.24126156e+01\n",
      " 3.47470318e+01 3.56888105e+01 4.29057941e+01 3.90306851e+01\n",
      " 4.38743933e+01 4.29156223e+01 4.13481938e+01 4.63697082e+01\n",
      " 4.43359766e+01 4.52624248e+01 4.77298140e+01 4.41996004e+01\n",
      " 5.33575615e+01 5.85139061e+01 5.51531223e+01 6.00018068e+01\n",
      " 5.64177864e+01 6.42421650e+01 6.78694706e+01 6.96052229e+01\n",
      " 6.85582743e+01 7.23853565e+01 6.63295689e+01 6.92521281e+01\n",
      " 7.08979205e+01 8.86170817e+01 7.07084073e+01 8.23540174e+01\n",
      " 9.43339541e+01 7.94099671e+01 9.18846776e+01 9.22490066e+01\n",
      " 1.02206723e+02 1.08098779e+02 1.14687216e+02 1.33904972e+02\n",
      " 1.13048470e+02 1.24163634e+02 1.30179527e+02 1.17096138e+02\n",
      " 1.38341742e+02 1.44520293e+02 1.44798199e+02 1.54203206e+02\n",
      " 1.58987444e+02 1.58097588e+02 1.56829028e+02 1.53990735e+02\n",
      " 1.73477297e+02 1.76734414e+02 1.88256551e+02 1.71329205e+02\n",
      " 2.00079943e+02 1.95482106e+02 1.92460444e+02 1.98963800e+02\n",
      " 1.98548272e+02 2.38725356e+02 2.06815660e+02 2.41292468e+02\n",
      " 2.11895505e+02 2.14642800e+02 2.39350152e+02 2.48183402e+02\n",
      " 2.39473441e+02 2.54303638e+02 3.16540942e+02 2.92030338e+02\n",
      " 3.36078291e+02 3.25313619e+02 3.64379348e+02 3.90643599e+02\n",
      " 4.94833592e+02 4.73773550e+02 5.36656699e+02 5.66780395e+02\n",
      " 5.90388969e+02 5.60130490e+02 7.27207853e+02 8.01805225e+02\n",
      " 8.25471250e+02 1.66907548e+03]\n",
      "xt (118, 10000) - yt (118, 10000)\n",
      "d_xy [-1.23445967e-15  2.69882812e+00  2.65192826e+00  2.67529387e+00\n",
      "  2.70378996e+00  2.67439315e+00  2.59918113e+00  2.60739023e+00\n",
      "  2.63748796e+00  2.63611551e+00  2.64991614e+00  2.56058179e+00\n",
      "  2.69462123e+00  2.59628695e+00  2.60420568e+00  2.70754008e+00\n",
      "  2.66377077e+00  2.74058994e+00  2.73601786e+00  2.66143186e+00\n",
      "  2.69445939e+00  2.68671990e+00  2.65219918e+00  2.66933757e+00\n",
      "  2.71164707e+00  2.71411795e+00  2.63816678e+00  2.51131470e+00\n",
      "  2.61610145e+00  2.73591240e+00  2.67772464e+00  2.70212206e+00\n",
      "  2.65608720e+00  2.69362573e+00  2.50677119e+00  2.51037753e+00\n",
      "  2.70086842e+00  2.66294276e+00  2.78827895e+00  2.71205412e+00\n",
      "  2.73474909e+00  2.73572294e+00  2.66449777e+00  2.71837115e+00\n",
      "  2.65148875e+00  2.75466249e+00  2.81011897e+00  2.65033621e+00\n",
      "  2.69112923e+00  2.76292018e+00  2.71932052e+00  2.69994989e+00\n",
      "  2.71805443e+00  2.73086337e+00  2.68871661e+00  2.70243754e+00\n",
      "  2.71383442e+00  2.72487454e+00  2.65855991e+00  2.73951765e+00\n",
      "  2.70049295e+00  2.89662272e+00  2.54728063e+00  2.79612268e+00\n",
      "  2.71786080e+00  2.65059942e+00  2.79786332e+00  2.79151332e+00\n",
      "  2.72991654e+00  2.82691704e+00  2.72069771e+00  2.74674769e+00\n",
      "  2.73003598e+00  2.72533853e+00  2.61031671e+00  2.74968436e+00\n",
      "  2.80321927e+00  2.84440000e+00  2.83241330e+00  2.83133790e+00\n",
      "  2.82281077e+00  2.78452774e+00  2.73655474e+00  2.71503543e+00\n",
      "  2.86182449e+00  2.78484021e+00  2.80139999e+00  2.77805410e+00\n",
      "  2.89696128e+00  2.83044776e+00  2.80341457e+00  2.82393069e+00\n",
      "  2.83079825e+00  2.87526543e+00  2.83972493e+00  2.84850276e+00\n",
      "  2.76511114e+00  2.75131693e+00  2.84356563e+00  2.81682455e+00\n",
      "  2.75080201e+00  2.80402150e+00  2.90558786e+00  2.84308992e+00\n",
      "  2.81127507e+00  2.81361611e+00  2.87831191e+00  2.83421192e+00\n",
      "  2.91981841e+00  2.88541528e+00  2.96656883e+00  3.00402281e+00\n",
      "  2.88258307e+00  2.86930643e+00  2.98656267e+00  2.89238047e+00\n",
      "  3.00750024e+00  2.94291398e+00]\n",
      "d_yy [1.38284764e+00 2.17096141e+00 3.17296374e+00 4.05466249e+00\n",
      " 4.85821886e+00 5.85838071e+00 6.23133371e+00 6.89725787e+00\n",
      " 8.81619169e+00 8.90554200e+00 1.01499764e+01 1.07291558e+01\n",
      " 1.29845977e+01 1.36519320e+01 1.44904925e+01 1.57017989e+01\n",
      " 1.64616937e+01 1.89793809e+01 1.92423338e+01 2.06903359e+01\n",
      " 2.11230312e+01 2.28580587e+01 2.35198316e+01 2.54888606e+01\n",
      " 2.71505136e+01 2.84682205e+01 2.71416815e+01 2.63498305e+01\n",
      " 2.88057199e+01 3.25338331e+01 3.19682740e+01 3.23767860e+01\n",
      " 3.38298411e+01 3.44676923e+01 3.22434458e+01 3.23976861e+01\n",
      " 3.67297599e+01 3.65682939e+01 4.17853043e+01 4.08674808e+01\n",
      " 4.27642871e+01 4.29061832e+01 4.19887502e+01 4.39801586e+01\n",
      " 4.23587572e+01 4.60026050e+01 4.93714851e+01 4.63136855e+01\n",
      " 5.05122582e+01 5.49525040e+01 5.47916242e+01 5.75256443e+01\n",
      " 6.02627562e+01 6.24005013e+01 6.20210275e+01 6.53043095e+01\n",
      " 6.66314902e+01 6.96131206e+01 6.66299993e+01 7.02640497e+01\n",
      " 7.10449134e+01 8.67452193e+01 7.27215419e+01 8.77635856e+01\n",
      " 8.69003806e+01 8.26424084e+01 9.60406332e+01 1.00533290e+02\n",
      " 1.06463602e+02 1.14033440e+02 1.12672617e+02 1.17823586e+02\n",
      " 1.20945696e+02 1.26225676e+02 1.21531801e+02 1.27634603e+02\n",
      " 1.38869576e+02 1.42978492e+02 1.46628536e+02 1.54471156e+02\n",
      " 1.58427768e+02 1.57114442e+02 1.54353265e+02 1.56518509e+02\n",
      " 1.76208158e+02 1.76094407e+02 1.80066687e+02 1.82931812e+02\n",
      " 1.94219762e+02 1.95162510e+02 1.92455442e+02 1.97614901e+02\n",
      " 2.00721959e+02 2.16541519e+02 2.17756419e+02 2.19293264e+02\n",
      " 2.17959575e+02 2.21747880e+02 2.35637944e+02 2.32543393e+02\n",
      " 2.26155442e+02 2.46243735e+02 3.03897657e+02 3.00455411e+02\n",
      " 3.06255299e+02 3.23308121e+02 3.65198388e+02 3.79015576e+02\n",
      " 4.75936742e+02 4.63949930e+02 5.60388375e+02 5.86353300e+02\n",
      " 5.73578843e+02 5.89663998e+02 7.66511311e+02 7.59011194e+02\n",
      " 8.69170114e+02 1.68614422e+03]\n",
      "xt (118, 100000) - yt (118, 100000)\n",
      "d_xy [1.42208319e-16 2.71207183e+00 2.69189159e+00 2.64616254e+00\n",
      " 2.68461984e+00 2.63804189e+00 2.65028455e+00 2.57711108e+00\n",
      " 2.59042022e+00 2.62559897e+00 2.71067836e+00 2.66892557e+00\n",
      " 2.76368125e+00 2.66856676e+00 2.61186918e+00 2.65880230e+00\n",
      " 2.67190206e+00 2.64230903e+00 2.64114555e+00 2.66308241e+00\n",
      " 2.64537513e+00 2.66722005e+00 2.67008695e+00 2.71333902e+00\n",
      " 2.65601977e+00 2.69138566e+00 2.65562891e+00 2.61071300e+00\n",
      " 2.66745787e+00 2.69572107e+00 2.68146569e+00 2.59714683e+00\n",
      " 2.66923659e+00 2.67455353e+00 2.56818921e+00 2.49545224e+00\n",
      " 2.69817078e+00 2.68504510e+00 2.73332670e+00 2.68968497e+00\n",
      " 2.77067922e+00 2.71105731e+00 2.67167839e+00 2.71764087e+00\n",
      " 2.65534868e+00 2.76706190e+00 2.76140847e+00 2.65241426e+00\n",
      " 2.64685692e+00 2.71267819e+00 2.74583937e+00 2.68750510e+00\n",
      " 2.71978392e+00 2.75182578e+00 2.65827697e+00 2.68819021e+00\n",
      " 2.71931314e+00 2.77600495e+00 2.69750807e+00 2.74011724e+00\n",
      " 2.68912125e+00 2.82798998e+00 2.63656459e+00 2.83173884e+00\n",
      " 2.75581840e+00 2.67821746e+00 2.78919400e+00 2.82061821e+00\n",
      " 2.78679303e+00 2.78108474e+00 2.72210713e+00 2.79688521e+00\n",
      " 2.73452993e+00 2.77394738e+00 2.68006410e+00 2.68989855e+00\n",
      " 2.76958750e+00 2.80813514e+00 2.81230698e+00 2.80156277e+00\n",
      " 2.81195635e+00 2.78664061e+00 2.77194749e+00 2.74839119e+00\n",
      " 2.83568476e+00 2.80926340e+00 2.78262805e+00 2.82932029e+00\n",
      " 2.83823751e+00 2.85662100e+00 2.82270672e+00 2.83942403e+00\n",
      " 2.80224207e+00 2.86862727e+00 2.81412701e+00 2.83174063e+00\n",
      " 2.80275673e+00 2.82003260e+00 2.82610208e+00 2.78403084e+00\n",
      " 2.74114447e+00 2.77279757e+00 2.89904175e+00 2.86110480e+00\n",
      " 2.89378112e+00 2.83898964e+00 2.91011182e+00 2.85634087e+00\n",
      " 2.89701102e+00 2.83837122e+00 2.92467174e+00 2.95800670e+00\n",
      " 2.95150699e+00 2.91304535e+00 2.94753053e+00 2.92006096e+00\n",
      " 2.95437309e+00 2.99086149e+00]\n",
      "d_yy [1.38624975e+00 2.17098984e+00 3.20004142e+00 4.05571765e+00\n",
      " 4.83371261e+00 5.81281160e+00 6.31532106e+00 6.79249520e+00\n",
      " 8.68160333e+00 8.87620139e+00 1.03079970e+01 1.12154703e+01\n",
      " 1.33853213e+01 1.39754188e+01 1.45827441e+01 1.54223342e+01\n",
      " 1.65404394e+01 1.83304961e+01 1.85556762e+01 2.05571991e+01\n",
      " 2.06972960e+01 2.27051731e+01 2.35626834e+01 2.59520689e+01\n",
      " 2.66427780e+01 2.83364541e+01 2.73311723e+01 2.73446086e+01\n",
      " 2.93817207e+01 3.21410070e+01 3.20302893e+01 3.10920619e+01\n",
      " 3.39200048e+01 3.42789156e+01 3.31740443e+01 3.20990272e+01\n",
      " 3.66940980e+01 3.69164424e+01 4.08167555e+01 4.05655455e+01\n",
      " 4.32207273e+01 4.25475513e+01 4.20074486e+01 4.38830086e+01\n",
      " 4.26305922e+01 4.62452171e+01 4.84355933e+01 4.62969155e+01\n",
      " 4.96090633e+01 5.40336830e+01 5.54369858e+01 5.72187025e+01\n",
      " 6.03904164e+01 6.28611981e+01 6.12885066e+01 6.49639126e+01\n",
      " 6.65176980e+01 7.10205836e+01 6.77026771e+01 7.02875240e+01\n",
      " 7.08636224e+01 8.48311510e+01 7.53136209e+01 8.87173012e+01\n",
      " 8.79604850e+01 8.38271039e+01 9.55898070e+01 1.01661177e+02\n",
      " 1.08820506e+02 1.12359477e+02 1.13015944e+02 1.19832450e+02\n",
      " 1.21252739e+02 1.28234081e+02 1.24740866e+02 1.24899852e+02\n",
      " 1.37184798e+02 1.41190273e+02 1.45400381e+02 1.52701113e+02\n",
      " 1.58088640e+02 1.57282185e+02 1.56356879e+02 1.58559696e+02\n",
      " 1.74668014e+02 1.77707727e+02 1.78830164e+02 1.86352285e+02\n",
      " 1.90266684e+02 1.96732352e+02 1.94002740e+02 1.98907809e+02\n",
      " 1.98626646e+02 2.15975289e+02 2.15989425e+02 2.18000455e+02\n",
      " 2.20657772e+02 2.27216158e+02 2.34156354e+02 2.29629451e+02\n",
      " 2.25088492e+02 2.43499086e+02 3.03108056e+02 3.02465792e+02\n",
      " 3.15454050e+02 3.25936683e+02 3.69723904e+02 3.81412734e+02\n",
      " 4.72177180e+02 4.56436689e+02 5.52553101e+02 5.77665978e+02\n",
      " 5.86991052e+02 5.98583824e+02 7.56432013e+02 7.66313003e+02\n",
      " 8.53651943e+02 1.71394215e+03]\n",
      "[10274.57875         inf 18043.35125 21280.93            inf]\n",
      "[3.90308173 3.53392863 3.33320841 3.34973561 3.3596835 ]\n"
     ]
    },
    {
     "data": {
      "text/plain": "<Figure size 1000x500 with 1 Axes>",
      "image/png": "[encoded data removed]"
     },
     "metadata": {},
     "output_type": "display_data"
    }
   ],
   "source": [
    "gnn_mse_nt = np.full(len(nt_arr), np.inf)\n",
    "gsp_mse_nt = np.full(len(nt_arr), np.inf)\n",
    "\n",
    "for i in range(len(nt_arr)):\n",
    "    nt = nt_arr[i]\n",
    "    xt_train_gnn, yt_train_gsp = generate_data(nt, Y, Lambda, V, c_ww=c_ww)\n",
    "    xt_test, yt_test = generate_data(50000, Y, Lambda, V, c_ww=c_ww)\n",
    "    \n",
    "    h_gsp, b_gsp = train_gsp_lmmse_estimator(xt_train_gnn, yt_train_gsp, V)\n",
    "    mse_gsp = test_estimator_mse(h_gsp, b_gsp, xt_test, yt_test, V)\n",
    "    gsp_mse_nt[i] = mse_gsp\n",
    "    \n",
    "    if nt not in best_models:\n",
    "        continue\n",
    "        \n",
    "    yt_test_torch = torch.tensor(yt_test, dtype=torch.float32)\n",
    "    xt_test_torch = torch.tensor(xt_test, dtype=torch.float32)\n",
    "        \n",
    "    GNN_model = GNN()\n",
    "    GNN_model.load_state_dict(torch.load(best_models[nt]['file']))\n",
    "    GNN_model.to(device)\n",
    "    \n",
    "    test_data = [Data(x=yt_test_torch[i].unsqueeze(-1), y=xt_test_torch[i].unsqueeze(-1), edge_index=edge_index, edge_attr=edge_weight) for i in range(len(yt_test))]\n",
    "    test_loader = DataLoader(test_data, batch_size=500, shuffle=False)\n",
    "\n",
    "    mse_gnn = evaluate_model(GNN_model, test_loader, device=device)\n",
    "    gnn_mse_nt[i] = mse_gnn\n",
    "\n",
    "print(gnn_mse_nt)\n",
    "print(gsp_mse_nt)\n"
   ],
   "metadata": {
    "collapsed": false,
    "ExecuteTime": {
     "end_time": "2024-04-28T15:46:27.109231200Z",
     "start_time": "2024-04-28T15:45:33.632271200Z"
    }
   },
   "id": "9f7148426bfc0538",
   "execution_count": 36
  },
  {
   "cell_type": "code",
   "outputs": [
    {
     "data": {
      "text/plain": "<Figure size 1000x500 with 1 Axes>",
      "image/png": "[encoded data removed]"
     },
     "metadata": {},
     "output_type": "display_data"
    }
   ],
   "source": [
    "plt.figure(figsize=(10, 5))\n",
    "plt.semilogx(np.array(nt_arr)[gnn_mse_nt != np.inf], gnn_mse_nt[gnn_mse_nt != np.inf], label='GNN', color='blue')\n",
    "plt.semilogx( np.array(nt_arr), gsp_mse_nt, label='GSP', color='black')\n",
    "plt.title('MSE')\n",
    "plt.xlabel('nt')\n",
    "plt.ylabel('MSE')\n",
    "plt.legend()\n",
    "plt.show()"
   ],
   "metadata": {
    "collapsed": false,
    "ExecuteTime": {
     "end_time": "2024-04-28T15:52:24.180508700Z",
     "start_time": "2024-04-28T15:52:24.035585Z"
    }
   },
   "id": "e1eed8de07f82c5",
   "execution_count": 43
  },
  {
   "cell_type": "code",
   "outputs": [],
   "source": [],
   "metadata": {
    "collapsed": false
   },
   "id": "96654839cba22a6a"
  },
  {
   "cell_type": "code",
   "outputs": [],
   "source": [
    "# xt_test, yt_test = generate_data(nt, Y, Lambda, V )\n",
    "# test_estimator_mse(h_gsp, b_gsp, xt_test, yt_test, V)"
   ],
   "metadata": {
    "collapsed": false
   },
   "id": "d57f0adee34122e4"
  },
  {
   "cell_type": "markdown",
   "source": [],
   "metadata": {
    "collapsed": false
   },
   "id": "6da45120c71f1e7d"
  },
  {
   "cell_type": "code",
   "outputs": [],
   "source": [],
   "metadata": {
    "collapsed": false
   },
   "id": "320046b4ec25cd53"
  }
 ],
 "metadata": {
  "kernelspec": {
   "display_name": "Python 3 (ipykernel)",
   "language": "python",
   "name": "python3"
  },
  "language_info": {
   "codemirror_mode": {
    "name": "ipython",
    "version": 3
   },
   "file_extension": ".py",
   "mimetype": "text/x-python",
   "name": "python",
   "nbconvert_exporter": "python",
   "pygments_lexer": "ipython3",
   "version": "3.12.2"
  }
 },
 "nbformat": 4,
 "nbformat_minor": 5
}
