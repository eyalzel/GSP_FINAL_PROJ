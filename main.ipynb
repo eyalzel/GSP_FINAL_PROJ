{
 "cells": [
  {
   "cell_type": "markdown",
   "id": "a7269907016b4ac8",
   "metadata": {
    "collapsed": false
   },
   "source": [
    "# GSP Final Project\n",
    "In this notebook, we will demonstrate estimation of graph signals using a GSP-based technique vs.  a deep-learning-based technique. "
   ]
  },
  {
   "cell_type": "code",
   "execution_count": 1,
   "id": "51bc23eb3352395a",
   "metadata": {
    "collapsed": false,
    "ExecuteTime": {
     "end_time": "2024-05-13T13:29:46.276625700Z",
     "start_time": "2024-05-13T13:29:43.877131600Z"
    }
   },
   "outputs": [],
   "source": [
    "import torch\n",
    "import torch.nn as nn\n",
    "import numpy as np\n",
    "import scipy.sparse as ssparse\n",
    "import scipy.io as sio\n",
    "import torch_geometric as tg\n",
    "import matplotlib.pyplot as plt\n",
    "from torch_geometric.data import Data\n",
    "from torch_geometric.loader import DataLoader\n",
    "\n",
    "colab = False\n",
    "if colab:\n",
    "    drive_path = './' # For colab integration type here your path and set 'colab = True'\n",
    "else:\n",
    "    drive_path = './'\n",
    "\n",
    "# Set device CPU as default \n",
    "device = 'cpu'"
   ]
  },
  {
   "cell_type": "code",
   "execution_count": 2,
   "id": "cf0bb1d0827071d9",
   "metadata": {
    "collapsed": false,
    "ExecuteTime": {
     "end_time": "2024-05-13T13:29:48.162193700Z",
     "start_time": "2024-05-13T13:29:48.001776100Z"
    }
   },
   "outputs": [
    {
     "name": "stdout",
     "output_type": "stream",
     "text": [
      "Connected to a GPU\n"
     ]
    }
   ],
   "source": [
    "# Enable CUDA, use if supported\n",
    "device = torch.device(\"cuda\" if torch.cuda.is_available() else \"cpu\")\n",
    "\n",
    "gpu_info = !nvidia-smi\n",
    "gpu_info = '\\n'.join(gpu_info)\n",
    "if gpu_info.find('failed') >= 0:\n",
    "    print('Not connected to a GPU')\n",
    "else:\n",
    "  # print(gpu_info)\n",
    "    print('Connected to a GPU')"
   ]
  },
  {
   "cell_type": "code",
   "outputs": [],
   "source": [
    "# To empty GPU cache - No need to run\n",
    "torch.cuda.empty_cache()\n",
    "torch.cuda.reset_peak_memory_stats()"
   ],
   "metadata": {
    "collapsed": false,
    "ExecuteTime": {
     "end_time": "2024-04-30T12:16:02.615128800Z",
     "start_time": "2024-04-30T12:16:02.608131Z"
    }
   },
   "id": "6ac6c06b25d50eb1",
   "execution_count": 3
  },
  {
   "cell_type": "markdown",
   "id": "ca9c2d7b0168bd9c",
   "metadata": {
    "collapsed": false
   },
   "source": [
    "## Task\n",
    "\n",
    "$$\\mathbf{x} \\longrightarrow  \\boxed{\\text{Physical Model}} \\longrightarrow \\mathbf{y}  \\longrightarrow \\boxed{\\text{Estimator}}  \\longrightarrow \\hat{\\mathbf{x}}$$ \n",
    "\n",
    "### Physical Model\n",
    "$$ \\mathbf{y} = \\mathbf{g}(\\mathbf{x};\\mathbf{L}) + \\mathbf{w} $$\n",
    "\n",
    "- $\\mathbf{x} \\sim p(\\mathbf{x})$.\n",
    "- $\\mathbf{g}$ - a non-linear measurement function.\n",
    "- $\\mathbf{L}$ - the Laplacian matrix of the graph.\n",
    " \n",
    "### Estimator\n",
    "- $\\mathbf{y}$ - input of the estimator\n",
    "- $\\mathbf{x}$ - ground-truth corresponding label\n",
    "- The estimator is given a dataset pairs of $\\{\\mathbf{x_t}, \\mathbf{y_t} \\}_t$ for training.\n",
    "\n",
    "**Goal**: The estimator should recover $\\mathbf{x}$ out of $\\mathbf{y}$ with minimum MSE.\n",
    "#### GSP-based\n",
    "\n",
    "Use a GSP-based technique for estimation.\n",
    "\n",
    "#### GNN-based\n",
    "\n",
    "Use a GNN deep-learning architecture for estimation.\n",
    "\n",
    "**NOTE:**  $\\mathbf{y}$ is the input to the DP model and $\\mathbf{x}$ is the output (i.e., the label) not vise versa!"
   ]
  },
  {
   "cell_type": "markdown",
   "id": "6e5f862e6b2a95fa",
   "metadata": {
    "collapsed": false
   },
   "source": [
    "## Part 1: Physical Model"
   ]
  },
  {
   "cell_type": "code",
   "execution_count": 3,
   "id": "860a8f216a91cbae",
   "metadata": {
    "collapsed": false,
    "ExecuteTime": {
     "end_time": "2024-05-13T13:29:51.960590300Z",
     "start_time": "2024-05-13T13:29:51.956590400Z"
    }
   },
   "outputs": [],
   "source": [
    "def laplacian_evd(Y):\n",
    "    L = - np.imag(Y)\n",
    "    Lambda, V = np.linalg.eig(L)\n",
    "    Lambda = np.real(Lambda)\n",
    "    sorted_indices = np.argsort(Lambda)\n",
    "    Lambda = Lambda[sorted_indices]\n",
    "    Lambda = np.diag(Lambda)\n",
    "    V = V[:, sorted_indices]\n",
    "    return L, Lambda, V\n",
    "    \n",
    "def g_xL(Y, x):\n",
    "    v = np.exp(1j * x)\n",
    "    g_x = np.real(v * np.conj(Y @ v))\n",
    "    return g_x\n",
    "    \n",
    "def generate_data(nt, Y, Lambda, V, beta=3, c_ww=0.05):\n",
    "    N = Y.shape[0]\n",
    "    xt = (V[:, 1:] @ np.random.multivariate_normal(np.zeros(N - 1), beta * np.diag(1 / np.diag(Lambda)[1:]), nt).T).T\n",
    "    if nt == 1:\n",
    "        xt = xt[0, :]\n",
    "    \n",
    "    yt = np.zeros(xt.shape)\n",
    "    for t in range(0, nt):\n",
    "        yt[t] = g_xL(Y, xt[t])\n",
    "    yt += np.sqrt(c_ww) * np.random.randn(yt.shape[0], yt.shape[1])\n",
    "    \n",
    "    return xt, yt"
   ]
  },
  {
   "cell_type": "markdown",
   "id": "2f1667db35646052",
   "metadata": {
    "collapsed": false
   },
   "source": [
    "## Part 2: GSP-LMMSE Estimator\n",
    "\n",
    "The GSP-LMMSE estimator is defined as an estimator which minimize the MSE among all estimators in the form of a graph filter:\n",
    "$$\n",
    "\\{\\bf{h}, \\bf{b} \\} = \\text{argmin}~ \\mathbb{E} [(\\bf{x} - \\hat{\\bf{x}}(\\bf{y}))^2]\n",
    "$$\n",
    "\n",
    "where $\\hat{\\bf{x}}(\\bf{y}) =  \\bf{V} \\text{diag} (\\bf{h}) \\bf{V}^T \\bf{y}+ \\bf{b}$.\n",
    "\n",
    "A closed form expression would be:\n",
    "$$ \\hat{\\bf{x}}(\\bf{y}) =  \\bf{V} \\text{diag} (\\bf{d}_{\\bf{xy}}\\oslash \\bf{d}_{\\bf{yy}}) \\bf{V}^T \\bf{y} + \\bar{\\bf{x}}$$\n",
    "\n",
    "where $\\bf{d}_{\\bf{xy}} := \\text{diag}(\\text{cov}(\\bf{V}^T \\bf{x}, \\bf{V}^T \\bf{y}))$, $\\bf{d}_{\\bf{yy}} := \\text{diag}(\\text{var}(\\bf{V}^T \\bf{y}))$ and $\\bar{\\bf{x}} :=\\mathbb{E}\\bf{x}$"
   ]
  },
  {
   "cell_type": "code",
   "execution_count": 4,
   "id": "b344e0714d5c5312",
   "metadata": {
    "collapsed": false,
    "ExecuteTime": {
     "end_time": "2024-05-13T13:29:53.806160100Z",
     "start_time": "2024-05-13T13:29:53.803120100Z"
    }
   },
   "outputs": [],
   "source": [
    "def train_gsp_lmmse_estimator(xt, yt, V):\n",
    "    xt = xt.T     # column vectors representation\n",
    "    yt = yt.T     # column vectors representation\n",
    "\n",
    "    xt_mean = np.mean(xt, axis=1)[:, np.newaxis]\n",
    "    yt_mean = np.mean(yt, axis=1)[:, np.newaxis]\n",
    "\n",
    "    d_xy = np.mean( ( V.T @ (xt - xt_mean) ) * ( V.T @ (yt - yt_mean) ) , axis=1)\n",
    "\n",
    "    d_yy = np.mean( ( V.T @ (yt - yt_mean) ) ** 2 , axis=1)\n",
    "    \n",
    "    h = d_xy / d_yy\n",
    "\n",
    "    return h, xt_mean\n",
    "\n",
    "def test_estimator_mse(h, b, xt_test, yt_test, V):\n",
    "    xt_test = xt_test.T     # column vectors representation\n",
    "    yt_test = yt_test.T     # column vectors representation\n",
    "\n",
    "    err = V @ np.diag(h) @ V.T @ yt_test + b - xt_test\n",
    "    s_mse = np.linalg.norm(err, axis=0)\n",
    "    mse = np.mean(s_mse)\n",
    "    return mse\n"
   ]
  },
  {
   "cell_type": "markdown",
   "id": "2d1c730c8e33707b",
   "metadata": {
    "collapsed": false
   },
   "source": [
    "## Part 3: GNN and Deep Learning based Estimation\n",
    "\n",
    "### Define Model Architecture"
   ]
  },
  {
   "cell_type": "code",
   "execution_count": 5,
   "id": "2196692421d14ac6",
   "metadata": {
    "collapsed": false,
    "ExecuteTime": {
     "end_time": "2024-05-13T13:29:55.095808100Z",
     "start_time": "2024-05-13T13:29:55.093802800Z"
    }
   },
   "outputs": [],
   "source": [
    "class GNN(torch.nn.Module):\n",
    "    def __init__(self):\n",
    "        super(GNN, self).__init__()\n",
    "        hidden_dim = 16\n",
    "        K = 30\n",
    "        self.conv1 = tg.nn.ChebConv(1, hidden_dim,  K=K, normalization=None)\n",
    "        self.conv2 = tg.nn.ChebConv(hidden_dim, hidden_dim,  K=K, normalization=None)\n",
    "        self.conv3 = tg.nn.ChebConv(hidden_dim, hidden_dim,  K=K, normalization=None)\n",
    "        self.linear = torch.nn.Linear(hidden_dim, 1, )\n",
    "        self.relu1 = nn.LeakyReLU()\n",
    "        self.relu2 = nn.LeakyReLU()\n",
    "\n",
    "    def forward(self, data):\n",
    "        x, edge_index, edge_weight = data.x, data.edge_index, data.edge_attr\n",
    "\n",
    "        x = self.conv1(x, edge_index, edge_weight=edge_weight)\n",
    "        x = self.relu1(x)  \n",
    "\n",
    "        x = self.conv2(x, edge_index, edge_weight=edge_weight)\n",
    "        x = self.relu2(x)  \n",
    "\n",
    "        x = self.conv3(x, edge_index, edge_weight=edge_weight)\n",
    "\n",
    "        x = self.linear(x)\n",
    "\n",
    "        return x"
   ]
  },
  {
   "cell_type": "markdown",
   "id": "4cb09e26efe52704",
   "metadata": {
    "collapsed": false
   },
   "source": [
    "### Define training function\n",
    "\n",
    "In order to run on GPU via CUDA set device accordingly."
   ]
  },
  {
   "cell_type": "code",
   "execution_count": 6,
   "id": "b411d15073a81b43",
   "metadata": {
    "collapsed": false,
    "ExecuteTime": {
     "end_time": "2024-05-13T13:29:56.847555500Z",
     "start_time": "2024-05-13T13:29:56.844552100Z"
    }
   },
   "outputs": [],
   "source": [
    "def train_model(model, train_data, valid_data, batch_size=500, valid_batch_size = 200, epochs=40, lr=0.01, weight_decay=1e-4, device='cpu'):\n",
    "    \n",
    "    train_loader = DataLoader(train_data, batch_size=batch_size, shuffle=True)\n",
    "    valid_loader = DataLoader(valid_data, batch_size=valid_batch_size, shuffle=False)\n",
    "\n",
    "    criterion = nn.MSELoss()\n",
    "    optimizer = torch.optim.Adam(model.parameters(), lr=lr, weight_decay=weight_decay)\n",
    "    \n",
    "    train_mse, valid_mse = [], []\n",
    "    \n",
    "    best_state_dict = None\n",
    "    best_val_loss = float('inf')\n",
    "    \n",
    "    for epoch in range(epochs):\n",
    "                \n",
    "        # Training\n",
    "        model.train() \n",
    "        # train_loss = 0\n",
    "        # iters = 0\n",
    "        # test_loss = None\n",
    "        for data in train_loader:\n",
    "            data = data.to(device) \n",
    "            optimizer.zero_grad()\n",
    "            out = model(data)\n",
    "            loss = criterion(out, data.y)\n",
    "            loss.backward()\n",
    "            optimizer.step()\n",
    "            # test_loss = float(loss.item())\n",
    "            # train_loss += float(loss.item())\n",
    "            # iters += 1\n",
    "        test_loss = evaluate_model(model, train_loader, device=device)\n",
    "        train_mse.append(test_loss)\n",
    "\n",
    "        # Validation\n",
    "        valid_loss = evaluate_model(model, valid_loader, device=device)\n",
    "        valid_mse.append(valid_loss)\n",
    "\n",
    "        if valid_mse[-1] <= min(valid_mse):\n",
    "            print(\"Current State Saved\")\n",
    "            # torch.save(model.state_dict(), path + f\"{valid_mse[-1]}.pk\")\n",
    "            best_state_dict = model.state_dict()\n",
    "            best_val_loss = valid_mse[-1]\n",
    "\n",
    "        print(f\"Epoch: {epoch}, Train MSE {train_mse[-1]}, Validation MSE {valid_mse[-1]}\")\n",
    "    \n",
    "    return train_mse, valid_mse, best_state_dict, best_val_loss\n",
    "        \n",
    "def evaluate_model(model, test_loader, device='cpu'):\n",
    "    # criterion = nn.MSELoss(reduction='sum')\n",
    "    N = test_loader.dataset[0].x.shape[0]\n",
    "    model.eval()\n",
    "    mse = 0\n",
    "    iters = 0\n",
    "    with torch.no_grad():\n",
    "        for data in test_loader:\n",
    "            data = data.to(device) \n",
    "    \n",
    "            output = model(data)\n",
    "            # loss = criterion(output,data.y)\n",
    "            # mse += float(loss.item())\n",
    "            # print(f\"{output.shape}, {data.y.shape}\")\n",
    "            err = output - data.y\n",
    "            err = err.view(-1, N)\n",
    "            s_mse = torch.linalg.norm(err, dim=1)\n",
    "            m_mse = torch.mean(s_mse)\n",
    "            mse += m_mse\n",
    "            iters += 1\n",
    "    # print(s_mse)\n",
    "    # print(f\"{s_mse.shape}\")\n",
    "    # print(f\"{m_mse}\")\n",
    "    return float(mse) / iters\n",
    "\n",
    "def plot_learning_curve(train_mse, valid_mse):\n",
    "    plt.figure(figsize=(10, 5))\n",
    "    plt.plot(train_mse, label='Training MSE', color='blue')\n",
    "    plt.plot(valid_mse, label='Validation MSE', color='black')\n",
    "    plt.title('Training and Validation Losses')\n",
    "    plt.xlabel('Epochs')\n",
    "    plt.ylabel('MSE')\n",
    "    plt.legend()\n",
    "    plt.show()"
   ]
  },
  {
   "cell_type": "markdown",
   "id": "89560b0932c2d00d",
   "metadata": {
    "collapsed": false
   },
   "source": [
    "## Part 4: Train\n",
    "We will test the estimators performances in different dataset sizes $n_t$ and compare the results.\n",
    "Define the $n_t$'s we would like to test:"
   ]
  },
  {
   "cell_type": "code",
   "outputs": [
    {
     "name": "stdout",
     "output_type": "stream",
     "text": [
      "nt_array = [    10    100   1000  10000 100000]\n"
     ]
    }
   ],
   "source": [
    "nt_arr = np.arange(1, 6)\n",
    "nt_arr = np.power(10, nt_arr)\n",
    "print(f\"nt_array = {nt_arr}\")"
   ],
   "metadata": {
    "collapsed": false,
    "ExecuteTime": {
     "end_time": "2024-05-13T13:29:59.624093200Z",
     "start_time": "2024-05-13T13:29:59.619089500Z"
    }
   },
   "id": "3594d836612d41",
   "execution_count": 7
  },
  {
   "cell_type": "markdown",
   "source": [
    "Generate a dataset of size $\\texttt{nt_array[i]}$.\n",
    "Please select the $i$.\n",
    "Then we will train the model for this dataset.\n",
    "You can adjust th hyper-parameters for better convergence."
   ],
   "metadata": {
    "collapsed": false
   },
   "id": "c18b95f98ce2b8ec"
  },
  {
   "cell_type": "code",
   "outputs": [],
   "source": [
    "filename = drive_path + 'grid_data_ieee118cdf.mat'\n",
    "grid_data = sio.loadmat(filename)\n",
    "Y = grid_data['Y']\n",
    "N = Y.shape[0]\n",
    "L, Lambda, V = laplacian_evd(Y)\n",
    "c_ww = 0.4\n",
    "L_sparse = ssparse.csr_matrix(np.diag(np.diag(L)) -L)\n",
    "edge_index, edge_weight = tg.utils.from_scipy_sparse_matrix(L_sparse)\n",
    "edge_weight = edge_weight.to(dtype=torch.float32)"
   ],
   "metadata": {
    "collapsed": false,
    "ExecuteTime": {
     "end_time": "2024-05-13T13:30:02.395946200Z",
     "start_time": "2024-05-13T13:30:02.367183300Z"
    }
   },
   "id": "a59ac5371a3b0837",
   "execution_count": 8
  },
  {
   "cell_type": "code",
   "outputs": [
    {
     "name": "stdout",
     "output_type": "stream",
     "text": [
      "Current State Saved\n",
      "Epoch: 0, Train MSE 7.953886413574219, Validation MSE 8.059751892089844\n",
      "Current State Saved\n",
      "Epoch: 1, Train MSE 7.123298645019531, Validation MSE 7.234470367431641\n",
      "Current State Saved\n",
      "Epoch: 2, Train MSE 6.591330718994141, Validation MSE 6.688839721679687\n",
      "Current State Saved\n",
      "Epoch: 3, Train MSE 6.262735748291016, Validation MSE 6.348479080200195\n",
      "Current State Saved\n",
      "Epoch: 4, Train MSE 6.01898193359375, Validation MSE 6.096660232543945\n",
      "Current State Saved\n",
      "Epoch: 5, Train MSE 5.752322387695313, Validation MSE 5.822059631347656\n",
      "Current State Saved\n",
      "Epoch: 6, Train MSE 5.562438583374023, Validation MSE 5.625315093994141\n",
      "Current State Saved\n",
      "Epoch: 7, Train MSE 5.355692291259766, Validation MSE 5.4111988067626955\n",
      "Current State Saved\n",
      "Epoch: 8, Train MSE 5.228768539428711, Validation MSE 5.2752433776855465\n",
      "Current State Saved\n",
      "Epoch: 9, Train MSE 5.1038257598876955, Validation MSE 5.146618270874024\n",
      "Current State Saved\n",
      "Epoch: 10, Train MSE 4.994940948486328, Validation MSE 5.032355880737304\n",
      "Current State Saved\n",
      "Epoch: 11, Train MSE 4.923590469360351, Validation MSE 4.955272674560547\n",
      "Current State Saved\n",
      "Epoch: 12, Train MSE 4.860029220581055, Validation MSE 4.887065124511719\n",
      "Current State Saved\n",
      "Epoch: 13, Train MSE 4.815277481079102, Validation MSE 4.833455276489258\n",
      "Current State Saved\n",
      "Epoch: 14, Train MSE 4.742159271240235, Validation MSE 4.760919570922852\n",
      "Current State Saved\n",
      "Epoch: 15, Train MSE 4.672535705566406, Validation MSE 4.685148239135742\n",
      "Current State Saved\n",
      "Epoch: 16, Train MSE 4.657255935668945, Validation MSE 4.665667724609375\n",
      "Current State Saved\n",
      "Epoch: 17, Train MSE 4.552343368530273, Validation MSE 4.559320449829102\n",
      "Current State Saved\n",
      "Epoch: 18, Train MSE 4.485689926147461, Validation MSE 4.490667724609375\n",
      "Current State Saved\n",
      "Epoch: 19, Train MSE 4.472074127197265, Validation MSE 4.475074386596679\n",
      "Current State Saved\n",
      "Epoch: 20, Train MSE 4.392076873779297, Validation MSE 4.396945953369141\n",
      "Current State Saved\n",
      "Epoch: 21, Train MSE 4.298354721069336, Validation MSE 4.299803161621094\n",
      "Current State Saved\n",
      "Epoch: 22, Train MSE 4.268292999267578, Validation MSE 4.265911483764649\n",
      "Current State Saved\n",
      "Epoch: 23, Train MSE 4.261883926391602, Validation MSE 4.259095764160156\n",
      "Current State Saved\n",
      "Epoch: 24, Train MSE 4.02103271484375, Validation MSE 4.018110275268555\n",
      "Epoch: 25, Train MSE 5.316962814331054, Validation MSE 5.32767333984375\n",
      "Current State Saved\n",
      "Epoch: 26, Train MSE 3.926116180419922, Validation MSE 3.9252651214599608\n",
      "Epoch: 27, Train MSE 4.578988647460937, Validation MSE 4.5844989776611325\n",
      "Current State Saved\n",
      "Epoch: 28, Train MSE 3.673097610473633, Validation MSE 3.6692340850830076\n",
      "Epoch: 29, Train MSE 3.693737030029297, Validation MSE 3.691066360473633\n",
      "Epoch: 30, Train MSE 6.385600280761719, Validation MSE 6.396022033691406\n",
      "Epoch: 31, Train MSE 4.6849922180175785, Validation MSE 4.694899368286133\n",
      "Epoch: 32, Train MSE 7.327046203613281, Validation MSE 7.333096313476562\n",
      "Epoch: 33, Train MSE 3.8314373016357424, Validation MSE 3.8355667114257814\n",
      "Epoch: 34, Train MSE 5.028647232055664, Validation MSE 5.032081604003906\n",
      "Current State Saved\n",
      "Epoch: 35, Train MSE 3.6571365356445313, Validation MSE 3.6566017150878904\n",
      "Current State Saved\n",
      "Epoch: 36, Train MSE 3.4707382202148436, Validation MSE 3.469321441650391\n",
      "Epoch: 37, Train MSE 4.574370574951172, Validation MSE 4.584675598144531\n",
      "Epoch: 38, Train MSE 5.497076797485351, Validation MSE 5.499105453491211\n",
      "Epoch: 39, Train MSE 4.576902389526367, Validation MSE 4.579475784301758\n"
     ]
    },
    {
     "data": {
      "text/plain": "<Figure size 1000x500 with 1 Axes>",
      "image/png": "[encoded data removed]"
     },
     "metadata": {},
     "output_type": "display_data"
    }
   ],
   "source": [
    "i = 3\n",
    "nt = nt_arr[i]\n",
    "xt_total, yt_total = generate_data(nt, Y, Lambda, V, c_ww=c_ww)\n",
    "\n",
    "lr = 0.02\n",
    "batch_size = 50\n",
    "# path = drive_path + f\"model1_nt_{nt}_lr_{lr}_bs_{batch_size}\"\n",
    "GNN_model = GNN()\n",
    "\n",
    "xt_total = torch.tensor(xt_total, dtype=torch.float32)\n",
    "yt_total = torch.tensor(yt_total, dtype=torch.float32)\n",
    "\n",
    "# NOTE: yt is the input for the model, and xt is the label, in Data object x is the input and y is the label!\n",
    "total_data = [Data(x=yt_total[i].unsqueeze(-1), y=xt_total[i].unsqueeze(-1), edge_index=edge_index, edge_attr=edge_weight) for i in range(len(yt_total))]\n",
    "\n",
    "train_data = total_data[:int(len(total_data) * 0.8)]\n",
    "valid_data = total_data[int(len(total_data) * 0.8):]\n",
    "\n",
    "GNN_model.to(device)\n",
    "\n",
    "train_mse, valid_mse, best_state_dict, best_val_loss = train_model(GNN_model, train_data, valid_data, batch_size=batch_size, lr = lr, device=device)\n",
    "torch.save(best_state_dict, drive_path + f\"models/model1_nt_{nt}_lr_{lr}_bs_{batch_size}_loss_{best_val_loss}.pk\")\n",
    "\n",
    "plot_learning_curve(train_mse, valid_mse)"
   ],
   "metadata": {
    "collapsed": false,
    "ExecuteTime": {
     "end_time": "2024-04-30T12:21:23.053415600Z",
     "start_time": "2024-04-30T12:16:02.672779300Z"
    }
   },
   "id": "8159c1744d97022e",
   "execution_count": 10
  },
  {
   "cell_type": "markdown",
   "id": "de1915ae1723bcbb",
   "metadata": {
    "collapsed": false
   },
   "source": [
    "## Part 4: Comparison\n",
    "After we train the DL model for all data sizes we will compare its performance to those of the GSP-LMMSE estimator."
   ]
  },
  {
   "cell_type": "code",
   "outputs": [
    {
     "name": "stdout",
     "output_type": "stream",
     "text": [
      "[{'file': './models/model_nt_10_lr_0.02_bs_5_loss_8.850927352905273.pk', 'nt': 10, 'loss': 8.850927352905273}]\n",
      "[{'file': './models/model1_nt_100_lr_0.017_bs_75_loss_7.788823127746582.pk', 'nt': 100, 'loss': 7.788823127746582}, {'file': './models/model1_nt_100_lr_0.01_bs_100_loss_15.756387710571289.pk', 'nt': 100, 'loss': 15.756387710571289}, {'file': './models/model1_nt_100_lr_0.01_bs_10_loss_9.4478178024292.pk', 'nt': 100, 'loss': 9.4478178024292}, {'file': './models/model1_nt_100_lr_0.02_bs_5_loss_6.5818047523498535.pk', 'nt': 100, 'loss': 6.5818047523498535}, {'file': './models/model1_nt_100_lr_0.05_bs_5_loss_8.85502815246582.pk', 'nt': 100, 'loss': 8.85502815246582}]\n",
      "[{'file': './models/model1_nt_1000_lr_0.02_bs_5_loss_3.391406774520874.pk', 'nt': 1000, 'loss': 3.391406774520874}, {'file': './models/model1_nt_1000_lr_0.02_bs_75_loss_7.407615661621094.pk', 'nt': 1000, 'loss': 7.407615661621094}]\n",
      "[{'file': './models/model1_nt_10000_lr_0.01_bs_100_loss_5.089002227783203.pk', 'nt': 10000, 'loss': 5.089002227783203}, {'file': './models/model1_nt_10000_lr_0.02_bs_50_loss_3.469136047363281.pk', 'nt': 10000, 'loss': 3.469136047363281}, {'file': './models/model1_nt_10000_lr_0.02_bs_50_loss_3.469321441650391.pk', 'nt': 10000, 'loss': 3.469321441650391}]\n",
      "[{'file': './models/model1_nt_100000_lr_0.01_bs_1000_loss_3.549333190917969.pk', 'nt': 100000, 'loss': 3.549333190917969}]\n",
      "nt: 10 loss: 8.850927352905273\n",
      "nt: 100 loss: 6.5818047523498535\n",
      "nt: 1000 loss: 3.391406774520874\n",
      "nt: 10000 loss: 3.469136047363281\n",
      "nt: 100000 loss: 3.549333190917969\n"
     ]
    }
   ],
   "source": [
    "import glob\n",
    "\n",
    "models_prop = []\n",
    "models_path = drive_path + \"models/*\"\n",
    "files = sorted([file for file in glob.glob(models_path)])\n",
    "for file in files:\n",
    "    file = file.replace(\"\\\\\", \"/\")\n",
    "    name = \".\".join(file.split(\"/\")[-1].split(\".\")[0:-1])\n",
    "    # print(name)\n",
    "    prop = name.split(\"_\")\n",
    "    models_prop.append({})\n",
    "    models_prop[-1][\"file\"] = file\n",
    "    models_prop[-1][\"nt\"] = int(prop[2])\n",
    "    models_prop[-1][\"loss\"] = float(prop[-1])\n",
    "    # print(f\"nt: {models_prop[-1][\"nt\"]} loss: {models_prop[-1]['loss']}\")\n",
    "\n",
    "# print(models_prop)\n",
    "best_models = {}\n",
    "\n",
    "for nt in nt_arr:\n",
    "    filtered_prop = [prop for prop in models_prop if prop['nt'] == nt]\n",
    "    print(filtered_prop)\n",
    "    if filtered_prop:\n",
    "        best_models[nt] = (min(filtered_prop, key=lambda x: x['loss']))\n",
    "\n",
    "for md in best_models:\n",
    "    print(f\"nt: {best_models[md]['nt']} loss: {best_models[md]['loss']}\")"
   ],
   "metadata": {
    "collapsed": false,
    "ExecuteTime": {
     "end_time": "2024-05-13T13:30:12.616463300Z",
     "start_time": "2024-05-13T13:30:12.612982600Z"
    }
   },
   "id": "2c2cbcefa4270328",
   "execution_count": 9
  },
  {
   "cell_type": "markdown",
   "source": [
    "### MSE vs. data-size $n_t$"
   ],
   "metadata": {
    "collapsed": false
   },
   "id": "9f3e1537f29fb27f"
  },
  {
   "cell_type": "code",
   "outputs": [
    {
     "data": {
      "text/plain": "<Figure size 1000x500 with 1 Axes>",
      "image/png": "[encoded data removed]"
     },
     "metadata": {},
     "output_type": "display_data"
    }
   ],
   "source": [
    "gnn_mse_nt = np.full(len(nt_arr), np.inf)\n",
    "gsp_mse_nt = np.full(len(nt_arr), np.inf)\n",
    "\n",
    "for i in range(len(nt_arr)):\n",
    "    nt = nt_arr[i]\n",
    "    xt_train_gsp, yt_train_gsp = generate_data(nt, Y, Lambda, V, c_ww=c_ww)\n",
    "    xt_test, yt_test = generate_data(50000, Y, Lambda, V, c_ww=c_ww)\n",
    "    \n",
    "    h_gsp, b_gsp = train_gsp_lmmse_estimator(xt_train_gsp, yt_train_gsp, V)\n",
    "    mse_gsp = test_estimator_mse(h_gsp, b_gsp, xt_test, yt_test, V)\n",
    "    gsp_mse_nt[i] = mse_gsp\n",
    "    \n",
    "    if nt not in best_models:\n",
    "        continue\n",
    "        \n",
    "    yt_test_torch = torch.tensor(yt_test, dtype=torch.float32)\n",
    "    xt_test_torch = torch.tensor(xt_test, dtype=torch.float32)\n",
    "        \n",
    "    GNN_model = GNN()\n",
    "    GNN_model.load_state_dict(torch.load(best_models[nt]['file']))\n",
    "    GNN_model.to(device)\n",
    "    \n",
    "    test_data = [Data(x=yt_test_torch[i].unsqueeze(-1), y=xt_test_torch[i].unsqueeze(-1), edge_index=edge_index, edge_attr=edge_weight) for i in range(len(yt_test))]\n",
    "    test_loader = DataLoader(test_data, batch_size=200, shuffle=False)\n",
    "\n",
    "    mse_gnn = evaluate_model(GNN_model, test_loader, device=device)\n",
    "    gnn_mse_nt[i] = mse_gnn\n",
    "\n",
    "plt.figure(figsize=(10, 5))\n",
    "plt.semilogx(np.array(nt_arr)[gnn_mse_nt != np.inf], gnn_mse_nt[gnn_mse_nt != np.inf], label='GNN', color='blue')\n",
    "plt.semilogx( np.array(nt_arr), gsp_mse_nt, label='GSP', color='black')\n",
    "plt.title('MSE')\n",
    "plt.xlabel('nt')\n",
    "plt.ylabel('MSE')\n",
    "plt.legend()\n",
    "plt.show()"
   ],
   "metadata": {
    "collapsed": false,
    "ExecuteTime": {
     "end_time": "2024-04-30T12:22:30.810252500Z",
     "start_time": "2024-04-30T12:21:23.060427800Z"
    }
   },
   "id": "9f7148426bfc0538",
   "execution_count": 12
  },
  {
   "cell_type": "markdown",
   "source": [
    "### MSE vs. SNR"
   ],
   "metadata": {
    "collapsed": false
   },
   "id": "38fe29c488b6ec1"
  },
  {
   "cell_type": "code",
   "outputs": [
    {
     "data": {
      "text/plain": "<Figure size 900x500 with 1 Axes>",
      "image/png": "[encoded data removed]"
     },
     "metadata": {},
     "output_type": "display_data"
    }
   ],
   "source": [
    "c_ww_arr = np.arange(1, -5, -1, dtype=float)\n",
    "c_ww_arr = np.power(10, c_ww_arr)\n",
    "snr_arr = 1 / c_ww_arr\n",
    "\n",
    "gnn_mse_snr = np.full(len(c_ww_arr), np.inf)\n",
    "gsp_mse_snr = np.full(len(c_ww_arr), np.inf)\n",
    "\n",
    "GNN_model = GNN()\n",
    "nt = nt_arr[-1]\n",
    "GNN_model.load_state_dict(torch.load(best_models[nt]['file']))\n",
    "GNN_model.to(device)\n",
    "\n",
    "for i in range(len(c_ww_arr)):\n",
    "    c_ww = c_ww_arr[i]\n",
    "    xt_train_gsp, yt_train_gsp = generate_data(nt, Y, Lambda, V, c_ww=c_ww)\n",
    "    xt_test, yt_test = generate_data(50000, Y, Lambda, V, c_ww=c_ww)\n",
    "    \n",
    "    h_gsp, b_gsp = train_gsp_lmmse_estimator(xt_train_gsp, yt_train_gsp, V)\n",
    "    mse_gsp = test_estimator_mse(h_gsp, b_gsp, xt_test, yt_test, V)\n",
    "    gsp_mse_snr[i] = mse_gsp\n",
    "        \n",
    "    yt_test_torch = torch.tensor(yt_test, dtype=torch.float32)\n",
    "    xt_test_torch = torch.tensor(xt_test, dtype=torch.float32)\n",
    "    \n",
    "    test_data = [Data(x=yt_test_torch[i].unsqueeze(-1), y=xt_test_torch[i].unsqueeze(-1), edge_index=edge_index, edge_attr=edge_weight) for i in range(len(yt_test))]\n",
    "    test_loader = DataLoader(test_data, batch_size=200, shuffle=False)\n",
    "\n",
    "    mse_gnn = evaluate_model(GNN_model, test_loader, device=device)\n",
    "    gnn_mse_snr[i] = mse_gnn\n",
    "\n",
    "plt.figure(figsize=(9, 5))\n",
    "plt.semilogx(snr_arr, gnn_mse_snr, label='GNN', color='blue')\n",
    "plt.semilogx(snr_arr, gsp_mse_snr, label='GSP', color='black')\n",
    "plt.title('MSE')\n",
    "plt.xlabel('snr')\n",
    "plt.ylabel('MSE')\n",
    "plt.legend()\n",
    "plt.show()"
   ],
   "metadata": {
    "collapsed": false,
    "ExecuteTime": {
     "end_time": "2024-04-30T12:24:32.947406300Z",
     "start_time": "2024-04-30T12:22:30.807242300Z"
    }
   },
   "id": "d57f0adee34122e4",
   "execution_count": 13
  },
  {
   "cell_type": "markdown",
   "source": [
    "### Mismatch\n",
    "\n",
    "#### MSE vs. probability of connection/disconnection"
   ],
   "metadata": {
    "collapsed": false
   },
   "id": "dd1c5f9d6df9664d"
  },
  {
   "cell_type": "code",
   "outputs": [
    {
     "name": "stdout",
     "output_type": "stream",
     "text": [
      "0\n",
      "1\n",
      "2\n",
      "3\n",
      "4\n",
      "5\n"
     ]
    },
    {
     "data": {
      "text/plain": "<Figure size 900x500 with 1 Axes>",
      "image/png": "[encoded data removed]"
     },
     "metadata": {},
     "output_type": "display_data"
    }
   ],
   "source": [
    "def modify_edges(Y, prob_conn, prob_dis):\n",
    "    N = Y.shape[0]\n",
    "    \n",
    "    arr = Y[np.tri(N) == 0]\n",
    "    arr = arr[arr != 0]\n",
    "    mean_G = np.mean(np.real(arr))\n",
    "    std_G = min(abs(mean_G)/3., np.std(np.real(arr)))\n",
    "    mean_B = np.mean(np.imag(arr))\n",
    "    std_B = min(abs(mean_G)/3., np.std(np.imag(arr)))\n",
    "\n",
    "    # Find unconnected edges\n",
    "    temp = Y + np.tri(N)\n",
    "    unconnected = np.where(temp == 0)\n",
    "\n",
    "    # Find connected edges\n",
    "    temp = np.copy(Y)\n",
    "    temp[np.tri(N) == 1] = 0\n",
    "    connected = np.where(temp != 0)\n",
    "\n",
    "    t = 0\n",
    "    while True:\n",
    "        Y_mod = np.copy(Y)\n",
    "\n",
    "        for idx in range(len(unconnected[0])):\n",
    "            if np.random.rand() <= prob_conn:\n",
    "                i, j = unconnected[0][idx], unconnected[1][idx]\n",
    "                g_ij = -abs(np.random.normal(mean_G, std_G))\n",
    "                b_ij = abs(np.random.normal(mean_B, std_B))\n",
    "                y_ij = g_ij + 1j * b_ij\n",
    "                Y_mod[i, i] -= y_ij\n",
    "                Y_mod[j, j] -= y_ij\n",
    "                Y_mod[i, j] += y_ij\n",
    "                Y_mod[j, i] += y_ij\n",
    "\n",
    "        for idx in range(len(connected[0])):\n",
    "            if np.random.rand() <= prob_dis:\n",
    "                i, j = connected[0][idx], connected[1][idx]\n",
    "                y_ij = Y_mod[i, j]\n",
    "                Y_mod[i, i] += y_ij\n",
    "                Y_mod[j, j] += y_ij\n",
    "                Y_mod[i, j] = 0\n",
    "                Y_mod[j, i] = 0\n",
    "\n",
    "        L_mod, Lambda_mod, V_mod = laplacian_evd(Y_mod)\n",
    "        \n",
    "        if abs(Lambda_mod[1, 1]) > 10 ** -5:\n",
    "            return Y_mod, L_mod, Lambda_mod, V_mod\n",
    "        elif t > 50:  # time-out\n",
    "            raise ValueError(\"Generating connected graph failed\")\n",
    "        t += 1\n",
    "\n",
    "prob_arr = np.logspace(-4, np.log10(0.05), num=6)[::-1]\n",
    "\n",
    "gnn_mse_prob = np.full(len(prob_arr), np.inf)\n",
    "gsp_mse_prob = np.full(len(prob_arr), np.inf)\n",
    "\n",
    "GNN_model = GNN()\n",
    "nt = nt_arr[-1]\n",
    "GNN_model.load_state_dict(torch.load(best_models[nt]['file']))\n",
    "GNN_model.to(device)\n",
    "\n",
    "plot_type = \"remove\"\n",
    "\n",
    "for i in range(len(prob_arr)):\n",
    "    iters = 10\n",
    "    mse_gsp = 0\n",
    "    mse_gnn = 0\n",
    "    if plot_type == \"both\":\n",
    "            prob_conn = prob_arr[i]\n",
    "            prob_dis = prob_arr[i]\n",
    "    elif plot_type == \"add\":\n",
    "        prob_conn = prob_arr[i]\n",
    "        prob_dis = 0\n",
    "    else:\n",
    "        prob_conn = 0\n",
    "        prob_dis = prob_arr[i]\n",
    "    for _ in range(iters):\n",
    "        Y_mod, L_mod, Lambda_mod, V_mod = modify_edges(Y, prob_conn, prob_dis)\n",
    "        xt_train_gsp, yt_train_gsp = generate_data(nt, Y, Lambda, V, c_ww=c_ww)\n",
    "        xt_test, yt_test = generate_data(5000, Y_mod, Lambda_mod, V_mod, c_ww=c_ww)\n",
    "        \n",
    "        h_gsp, b_gsp = train_gsp_lmmse_estimator(xt_train_gsp, yt_train_gsp, V)\n",
    "        mse_gsp += test_estimator_mse(h_gsp, b_gsp, xt_test, yt_test, V)\n",
    "            \n",
    "        yt_test_torch = torch.tensor(yt_test, dtype=torch.float32)\n",
    "        xt_test_torch = torch.tensor(xt_test, dtype=torch.float32)\n",
    "        \n",
    "        L_sparse = ssparse.csr_matrix(np.diag(np.diag(L_mod)) - L_mod)\n",
    "        edge_index_mod, edge_weight_mod = tg.utils.from_scipy_sparse_matrix(L_sparse)\n",
    "        edge_weight_mod = edge_weight_mod.to(dtype=torch.float32)\n",
    "        \n",
    "        test_data = [Data(x=yt_test_torch[i].unsqueeze(-1), y=xt_test_torch[i].unsqueeze(-1), edge_index=edge_index_mod, edge_attr=edge_weight_mod) for i in range(len(yt_test))]\n",
    "        test_loader = DataLoader(test_data, batch_size=200, shuffle=False)\n",
    "    \n",
    "        mse_gnn += evaluate_model(GNN_model, test_loader, device=device)\n",
    "        \n",
    "    gsp_mse_prob[i] = mse_gsp / iters\n",
    "    gnn_mse_prob[i] = mse_gnn / iters\n",
    "    print(i)\n",
    "\n",
    "plt.figure(figsize=(9, 5))\n",
    "plt.semilogx(prob_arr, gnn_mse_prob, label='GNN', color='blue')\n",
    "plt.semilogx(prob_arr, gsp_mse_prob, label='GSP', color='black')\n",
    "plt.title(f'MSE case {plot_type}')\n",
    "plt.xlabel('prob')\n",
    "plt.ylabel('MSE')\n",
    "plt.legend()\n",
    "plt.show()\n"
   ],
   "metadata": {
    "collapsed": false,
    "ExecuteTime": {
     "end_time": "2024-05-13T13:40:48.607438700Z",
     "start_time": "2024-05-13T13:30:40.116886600Z"
    }
   },
   "id": "3ec5f4235fa6fbb1",
   "execution_count": 10
  },
  {
   "cell_type": "markdown",
   "source": [
    "### MSE vs. no. of edges added/removed"
   ],
   "metadata": {
    "collapsed": false
   },
   "id": "6da45120c71f1e7d"
  },
  {
   "cell_type": "code",
   "outputs": [],
   "source": [],
   "metadata": {
    "collapsed": false
   },
   "id": "ac97099b29fa0245"
  }
 ],
 "metadata": {
  "kernelspec": {
   "display_name": "Python 3 (ipykernel)",
   "language": "python",
   "name": "python3"
  },
  "language_info": {
   "codemirror_mode": {
    "name": "ipython",
    "version": 3
   },
   "file_extension": ".py",
   "mimetype": "text/x-python",
   "name": "python",
   "nbconvert_exporter": "python",
   "pygments_lexer": "ipython3",
   "version": "3.12.2"
  }
 },
 "nbformat": 4,
 "nbformat_minor": 5
}
