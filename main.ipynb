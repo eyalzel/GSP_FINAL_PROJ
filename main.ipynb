{
 "cells": [
  {
   "cell_type": "markdown",
   "id": "a7269907016b4ac8",
   "metadata": {
    "collapsed": false
   },
   "source": [
    "# GSP Final Project\n",
    "In this notebook, we will demonstrate estimation of graph signals using a GSP-based technique vs.  a deep-learning-based technique. "
   ]
  },
  {
   "cell_type": "code",
   "execution_count": 21,
   "id": "51bc23eb3352395a",
   "metadata": {
    "collapsed": false,
    "ExecuteTime": {
     "end_time": "2024-04-26T12:05:38.535223800Z",
     "start_time": "2024-04-26T12:05:38.532202900Z"
    }
   },
   "outputs": [],
   "source": [
    "import util\n",
    "import torch\n",
    "import torch.nn as nn\n",
    "import numpy as np\n",
    "import scipy.sparse as ssparse\n",
    "import scipy.io as sio\n",
    "import torch_geometric as tg\n",
    "import matplotlib.pyplot as plt\n",
    "from torch_geometric.data import Data\n",
    "from torch_geometric.loader import DataLoader"
   ]
  },
  {
   "cell_type": "code",
   "outputs": [],
   "source": [
    "colab = False\n",
    "if colab:\n",
    "    drive_path = './' # For colab integration type here your path and set 'colab = True'\n",
    "else:\n",
    "    drive_path = './'"
   ],
   "metadata": {
    "collapsed": false,
    "ExecuteTime": {
     "end_time": "2024-04-26T11:52:10.885914500Z",
     "start_time": "2024-04-26T11:52:10.883404Z"
    }
   },
   "id": "fd09165e91d52875",
   "execution_count": 2
  },
  {
   "cell_type": "code",
   "outputs": [],
   "source": [
    "device = 'cpu'"
   ],
   "metadata": {
    "collapsed": false,
    "ExecuteTime": {
     "end_time": "2024-04-25T20:37:11.570749900Z",
     "start_time": "2024-04-25T20:37:11.566213200Z"
    }
   },
   "id": "d00f3a9fdcec97d7",
   "execution_count": 10
  },
  {
   "cell_type": "code",
   "execution_count": 3,
   "id": "cf0bb1d0827071d9",
   "metadata": {
    "collapsed": false,
    "ExecuteTime": {
     "end_time": "2024-04-26T11:52:16.570848700Z",
     "start_time": "2024-04-26T11:52:16.370940100Z"
    }
   },
   "outputs": [
    {
     "name": "stdout",
     "output_type": "stream",
     "text": [
      "Fri Apr 26 14:52:16 2024       \n",
      "+-----------------------------------------------------------------------------------------+\n",
      "| NVIDIA-SMI 552.22                 Driver Version: 552.22         CUDA Version: 12.4     |\n",
      "|-----------------------------------------+------------------------+----------------------+\n",
      "| GPU  Name                     TCC/WDDM  | Bus-Id          Disp.A | Volatile Uncorr. ECC |\n",
      "| Fan  Temp   Perf          Pwr:Usage/Cap |           Memory-Usage | GPU-Util  Compute M. |\n",
      "|                                         |                        |               MIG M. |\n",
      "|=========================================+========================+======================|\n",
      "|   0  NVIDIA GeForce RTX 4060 ...  WDDM  |   00000000:01:00.0  On |                  N/A |\n",
      "| N/A   41C    P8              2W /  115W |    1282MiB /   8188MiB |      5%      Default |\n",
      "|                                         |                        |                  N/A |\n",
      "+-----------------------------------------+------------------------+----------------------+\n",
      "                                                                                         \n",
      "+-----------------------------------------------------------------------------------------+\n",
      "| Processes:                                                                              |\n",
      "|  GPU   GI   CI        PID   Type   Process name                              GPU Memory |\n",
      "|        ID   ID                                                               Usage      |\n",
      "|=========================================================================================|\n",
      "|    0   N/A  N/A     16784    C+G   ...ys\\WinUI3Apps\\PowerToys.Peek.UI.exe      N/A      |\n",
      "|    0   N/A  N/A     17564    C+G   ...werToys\\PowerToys.PowerLauncher.exe      N/A      |\n",
      "|    0   N/A  N/A     17708    C+G   ...ekyb3d8bbwe\\PhoneExperienceHost.exe      N/A      |\n",
      "|    0   N/A  N/A     18604    C+G   ...on\\123.0.2420.97\\msedgewebview2.exe      N/A      |\n",
      "|    0   N/A  N/A     20808    C+G   ...Programs\\Microsoft VS Code\\Code.exe      N/A      |\n",
      "|    0   N/A  N/A     21860    C+G   ...Google\\NearbyShare\\nearby_share.exe      N/A      |\n",
      "|    0   N/A  N/A     26984    C+G   ...soft Office\\root\\Office16\\EXCEL.EXE      N/A      |\n",
      "|    0   N/A  N/A     27320    C+G   ...2txyewy\\StartMenuExperienceHost.exe      N/A      |\n",
      "|    0   N/A  N/A     27368    C+G   ...siveControlPanel\\SystemSettings.exe      N/A      |\n",
      "|    0   N/A  N/A     30464    C+G   ...t.LockApp_cw5n1h2txyewy\\LockApp.exe      N/A      |\n",
      "|    0   N/A  N/A     32192    C+G   ...crosoft\\Edge\\Application\\msedge.exe      N/A      |\n",
      "|    0   N/A  N/A     32940    C+G   ...utube-music\\3.2.2\\YouTube Music.exe      N/A      |\n",
      "|    0   N/A  N/A     34532    C+G   ...t Office\\root\\Office16\\POWERPNT.EXE      N/A      |\n",
      "|    0   N/A  N/A     40876    C+G   C:\\Windows\\explorer.exe                     N/A      |\n",
      "|    0   N/A  N/A     40944    C+G   ...r\\AppData\\Roaming\\Zoom\\bin\\Zoom.exe      N/A      |\n",
      "|    0   N/A  N/A     41296    C+G   ...les\\Microsoft OneDrive\\OneDrive.exe      N/A      |\n",
      "|    0   N/A  N/A     46092    C+G   ...CBS_cw5n1h2txyewy\\TextInputHost.exe      N/A      |\n",
      "|    0   N/A  N/A     46640    C+G   ...nt.CBS_cw5n1h2txyewy\\SearchHost.exe      N/A      |\n",
      "|    0   N/A  N/A     46736    C+G   ...GeForce Experience\\NVIDIA Share.exe      N/A      |\n",
      "|    0   N/A  N/A     47344    C+G   ...wekyb3d8bbwe\\XboxGameBarWidgets.exe      N/A      |\n",
      "|    0   N/A  N/A     47680    C+G   ...pdnekdrzrea0\\XboxGameBarSpotify.exe      N/A      |\n",
      "|    0   N/A  N/A     47924    C+G   ...8.0_x64__cv1g1gvanyjgm\\WhatsApp.exe      N/A      |\n",
      "|    0   N/A  N/A     50584    C+G   ...5n1h2txyewy\\ShellExperienceHost.exe      N/A      |\n",
      "|    0   N/A  N/A     52032    C+G   ...ASUSACCI\\ArmouryCrateKeyControl.exe      N/A      |\n",
      "+-----------------------------------------------------------------------------------------+\n"
     ]
    }
   ],
   "source": [
    "# Enable CUDA\n",
    "device = torch.device(\"cuda\" if torch.cuda.is_available() else \"cpu\")\n",
    "\n",
    "gpu_info = !nvidia-smi\n",
    "gpu_info = '\\n'.join(gpu_info)\n",
    "if gpu_info.find('failed') >= 0:\n",
    "  print('Not connected to a GPU')\n",
    "else:\n",
    "  print(gpu_info)"
   ]
  },
  {
   "cell_type": "code",
   "outputs": [],
   "source": [
    "# To empty GPU cache - No need to run\n",
    "torch.cuda.empty_cache()\n",
    "torch.cuda.reset_peak_memory_stats()"
   ],
   "metadata": {
    "collapsed": false,
    "ExecuteTime": {
     "end_time": "2024-04-25T16:35:44.523414100Z",
     "start_time": "2024-04-25T16:35:44.519385100Z"
    }
   },
   "id": "6ac6c06b25d50eb1",
   "execution_count": 23
  },
  {
   "cell_type": "markdown",
   "id": "ca9c2d7b0168bd9c",
   "metadata": {
    "collapsed": false
   },
   "source": [
    "## Task\n",
    "\n",
    "$$\\mathbf{x} \\longrightarrow  \\boxed{\\text{Physical Model}} \\longrightarrow \\mathbf{y}  \\longrightarrow \\boxed{\\text{Estimator}}  \\longrightarrow \\hat{\\mathbf{x}}$$ \n",
    "\n",
    "### Physical Model\n",
    "$$ \\mathbf{y} = \\mathbf{g}(\\mathbf{x};\\mathbf{L}) + \\mathbf{w} $$\n",
    "\n",
    "- $\\mathbf{x} \\sim p(\\mathbf{x})$.\n",
    "- $\\mathbf{g}$ - a non-linear measurement function.\n",
    "- $\\mathbf{L}$ - the Laplacian matrix of the graph.\n",
    " \n",
    "### Estimator\n",
    "- $\\mathbf{y}$ - input of the estimator\n",
    "- $\\mathbf{x}$ - ground-truth corresponding label\n",
    "- The estimator is given a dataset pairs of $\\{\\mathbf{x_t}, \\mathbf{y_t} \\}_t$ for training.\n",
    "\n",
    "**Goal**: The estimator should recover $\\mathbf{x}$ out of $\\mathbf{y}$ with minimum MSE.\n",
    "#### GSP-based\n",
    "\n",
    "Use a GSP-based technique for estimation.\n",
    "\n",
    "#### GNN-based\n",
    "\n",
    "Use a GNN deep-learning architecture for estimation.\n",
    "\n",
    "**NOTE:**  $\\mathbf{y}$ is the input to the DP model and $\\mathbf{x}$ is the output (i.e., the label) not vise versa!"
   ]
  },
  {
   "cell_type": "markdown",
   "id": "6e5f862e6b2a95fa",
   "metadata": {
    "collapsed": false
   },
   "source": [
    "## Part 1: Physical Model"
   ]
  },
  {
   "cell_type": "code",
   "execution_count": 22,
   "id": "860a8f216a91cbae",
   "metadata": {
    "collapsed": false,
    "ExecuteTime": {
     "end_time": "2024-04-26T12:07:26.762259200Z",
     "start_time": "2024-04-26T12:07:26.759829500Z"
    }
   },
   "outputs": [],
   "source": [
    "def laplacian_evd(Y):\n",
    "    L = - np.imag(Y)\n",
    "    Lambda, V = np.linalg.eig(L)\n",
    "    Lambda = np.real(Lambda)\n",
    "    sorted_indices = np.argsort(Lambda)\n",
    "    Lambda = Lambda[sorted_indices]\n",
    "    Lambda = np.diag(Lambda)\n",
    "    V = V[:, sorted_indices]\n",
    "    return L, Lambda, V\n",
    "    \n",
    "def g_xL(Y, x):\n",
    "    v = np.exp(1j * x)\n",
    "    g_x = np.real(v * np.conj(Y @ v))\n",
    "    return g_x\n",
    "    \n",
    "def generate_data(nt, Y, Lambda, V, beta=3, c_ww=0.05):\n",
    "    N = Y.shape[0]\n",
    "    xt = (V[:, 1:] @ np.random.multivariate_normal(np.zeros(N - 1), beta * np.diag(1 / np.diag(Lambda)[1:]), nt).T).T\n",
    "    if nt == 1:\n",
    "        xt = xt[0, :]\n",
    "    \n",
    "    yt = np.zeros(xt.shape)\n",
    "    for t in range(0, nt):\n",
    "        yt[t] = g_xL(Y, xt[t])\n",
    "    yt += np.sqrt(c_ww) * np.random.randn(yt.shape[0], yt.shape[1])\n",
    "    \n",
    "    return xt, yt\n",
    "\n",
    "# filename = 'grid_data_ieee118cdf.mat'\n",
    "# grid_data = sio.loadmat(filename)\n",
    "# Y = grid_data['Y']\n",
    "# N = Y.shape[0]\n",
    "# nt = 1000\n",
    "# \n",
    "# L, Lambda, V = laplacian_evd(Y)\n",
    "# xt_train, yt_train = generate_data(nt, Y, Lambda, V, )"
   ]
  },
  {
   "cell_type": "markdown",
   "id": "2f1667db35646052",
   "metadata": {
    "collapsed": false
   },
   "source": [
    "## Part 2: GSP-LMMSE Estimator\n",
    "\n",
    "The GSP-LMMSE estimator is defined as an estimator which minimize the MSE among all estimators in the form of a graph filter:\n",
    "$$\n",
    "\\{\\bf{h}, \\bf{b} \\} = \\text{argmin}~ \\mathbb{E} [(\\bf{x} - \\hat{\\bf{x}}(\\bf{y}))^2]\n",
    "$$\n",
    "\n",
    "where $\\hat{\\bf{x}}(\\bf{y}) =  \\bf{V} \\text{diag} (\\bf{h}) \\bf{V}^T \\bf{y}+ \\bf{b}$.\n",
    "\n",
    "A closed form expression would be:\n",
    "$$ \\hat{\\bf{x}}(\\bf{y}) =  \\bf{V} \\text{diag} (\\bf{d}_{\\bf{xy}}\\oslash \\bf{d}_{\\bf{yy}}) \\bf{V}^T \\bf{y} + \\bar{\\bf{x}}$$\n",
    "\n",
    "where $\\bf{d}_{\\bf{xy}} := \\text{diag}(\\text{cov}(\\bf{V}^T \\bf{x}, \\bf{V}^T \\bf{y}))$, $\\bf{d}_{\\bf{yy}} := \\text{diag}(\\text{var}(\\bf{V}^T \\bf{y}))$ and $\\bar{\\bf{x}} :=\\mathbb{E}\\bf{x}$"
   ]
  },
  {
   "cell_type": "code",
   "execution_count": 23,
   "id": "b344e0714d5c5312",
   "metadata": {
    "collapsed": false,
    "ExecuteTime": {
     "end_time": "2024-04-26T12:07:30.201921900Z",
     "start_time": "2024-04-26T12:07:30.197414Z"
    }
   },
   "outputs": [],
   "source": [
    "def train_gsp_lmmse_estimator(xt, yt, V):\n",
    "    xt = xt.T     # column vectors representation\n",
    "    yt = yt.T     # column vectors representation\n",
    "\n",
    "    xt_mean = np.mean(xt, axis=1)[:, np.newaxis]\n",
    "    yt_mean = np.mean(yt, axis=1)[:, np.newaxis]\n",
    "\n",
    "    d_xy = np.mean( ( V.T @ (xt - xt_mean) ) * ( V.T @ (yt - yt_mean) ) , axis=1)\n",
    "\n",
    "    d_yy = np.mean( ( V.T @ (yt - yt_mean) ) ** 2 , axis=1)\n",
    "    \n",
    "    h = d_xy / d_yy\n",
    "    \n",
    "    return h, xt_mean"
   ]
  },
  {
   "cell_type": "code",
   "outputs": [],
   "source": [
    "def test_estimator_mse(h, b, xt_test, yt_test, V):\n",
    "    xt_test = xt_test.T     # column vectors representation\n",
    "    yt_test = yt_test.T     # column vectors representation\n",
    "\n",
    "    err = V @ np.diag(h) @ V.T @ yt_test + b - xt_test\n",
    "    s_mse = np.linalg.norm(err, axis=0)\n",
    "    mse = np.mean(s_mse)\n",
    "    return mse\n"
   ],
   "metadata": {
    "collapsed": false,
    "ExecuteTime": {
     "end_time": "2024-04-26T11:52:30.662068800Z",
     "start_time": "2024-04-26T11:52:30.658537700Z"
    }
   },
   "id": "f86da8f2c3400c5c",
   "execution_count": 6
  },
  {
   "cell_type": "markdown",
   "id": "2d1c730c8e33707b",
   "metadata": {
    "collapsed": false
   },
   "source": [
    "## Part 3: GNN and Deep Learning based Estimation\n",
    "\n",
    "### Define Model Architecture"
   ]
  },
  {
   "cell_type": "code",
   "execution_count": 7,
   "id": "2196692421d14ac6",
   "metadata": {
    "collapsed": false,
    "ExecuteTime": {
     "end_time": "2024-04-26T11:52:34.183160200Z",
     "start_time": "2024-04-26T11:52:34.179459100Z"
    }
   },
   "outputs": [],
   "source": [
    "# class GNN(torch.nn.Module):\n",
    "#     def __init__(self, K = 30 ):  # K is the order of the Chebyshev polynomial\n",
    "#         super(GNN, self).__init__()\n",
    "#         \n",
    "#         self.conv1 = tg.nn.ChebConv(1, 1, K=K, normalization=None)\n",
    "#         self.relu1 = nn.LeakyReLU()\n",
    "#         self.conv2 = tg.nn.ChebConv(1, 1, K=K, normalization=None)\n",
    "#         self.relu2 = nn.ReLU()\n",
    "#         self.conv3 = tg.nn.ChebConv(1, 1, K=K, normalization=None)  \n",
    "# \n",
    "#     def forward(self, data):\n",
    "#         x, edge_index = data.x, data.edge_index\n",
    "#         x = self.conv1(x, edge_index=edge_index)\n",
    "#         x = self.relu1(x)\n",
    "#         x = self.conv2(x, edge_index=edge_index)\n",
    "#         # x = self.relu2(x)\n",
    "#         # x = self.conv3(x, edge_index=edge_index)\n",
    "#         return x\n",
    "# \n",
    "import torch.nn.functional as F\n",
    "\n",
    "class GNN(torch.nn.Module):\n",
    "    def __init__(self):\n",
    "        super(GNN, self).__init__()\n",
    "        # Since input and output features are 1, we set up the intermediate layers with a higher dimension\n",
    "        # Intermediate dimension for hidden layers\n",
    "        hidden_dim = 16\n",
    "        K = 30\n",
    "        # First GCN layer with 1 input feature and hidden_dim output features\n",
    "        self.conv1 = tg.nn.ChebConv(1, hidden_dim,  K=K, normalization=None)\n",
    "        # Second GCN layer\n",
    "        self.conv2 = tg.nn.ChebConv(hidden_dim, hidden_dim,  K=K, normalization=None)\n",
    "        # Third GCN layer, outputs hidden_dim features\n",
    "        self.conv3 = tg.nn.ChebConv(hidden_dim, hidden_dim,  K=K, normalization=None)\n",
    "        # Output linear layer to reduce back to 1 feature\n",
    "        self.linear = torch.nn.Linear(hidden_dim, 1, )\n",
    "        self.relu1 = nn.LeakyReLU()\n",
    "        self.relu2 = nn.LeakyReLU()\n",
    "        # self.relu1 = nn.LeakyReLU()\n",
    "\n",
    "    def forward(self, data):\n",
    "        x, edge_index, edge_weight = data.x, data.edge_index, data.edge_attr\n",
    "\n",
    "        # Apply the first convolution\n",
    "        x = self.conv1(x, edge_index, edge_weight=edge_weight)\n",
    "        x = self.relu1(x)  \n",
    "        # x = F.dropout(x, training=self.training)  # Apply dropout to avoid overfitting\n",
    "\n",
    "        # Apply the second convolution\n",
    "        x = self.conv2(x, edge_index, edge_weight=edge_weight)\n",
    "        x = self.relu2(x)  \n",
    "        # x = F.dropout(x, training=self.training)  # Apply dropout to avoid overfitting\n",
    "\n",
    "        # Apply the third convolution\n",
    "        x = self.conv3(x, edge_index, edge_weight=edge_weight)\n",
    "        # x = F.relu(x)\n",
    "\n",
    "        # Apply a final linear transformation\n",
    "        x = self.linear(x)\n",
    "\n",
    "        return x"
   ]
  },
  {
   "cell_type": "markdown",
   "id": "4cb09e26efe52704",
   "metadata": {
    "collapsed": false
   },
   "source": [
    "### Define training function\n",
    "\n",
    "In order to run on GPU via CUDA set device accordingly."
   ]
  },
  {
   "cell_type": "code",
   "execution_count": 19,
   "id": "b411d15073a81b43",
   "metadata": {
    "collapsed": false,
    "ExecuteTime": {
     "end_time": "2024-04-26T11:59:33.832594800Z",
     "start_time": "2024-04-26T11:59:33.822179400Z"
    }
   },
   "outputs": [],
   "source": [
    "def train_model(model, train_data, valid_data, batch_size=500, valid_batch_size = 200, epochs=40, lr=0.01, weight_decay=1e-4, path=None, device='cpu'):\n",
    "    \n",
    "    train_loader = DataLoader(train_data, batch_size=batch_size, shuffle=True)\n",
    "    valid_loader = DataLoader(valid_data, batch_size=valid_batch_size, shuffle=False)\n",
    "\n",
    "    criterion = nn.MSELoss()\n",
    "    optimizer = torch.optim.Adam(model.parameters(), lr=lr, weight_decay=weight_decay)\n",
    "    \n",
    "    train_mse, valid_mse = [], []\n",
    "    \n",
    "    best_state_dict = None\n",
    "    best_val_loss = float('inf')\n",
    "    \n",
    "    for epoch in range(epochs):\n",
    "                \n",
    "        # Training\n",
    "        model.train() \n",
    "        # train_loss = 0\n",
    "        # iters = 0\n",
    "        # test_loss = None\n",
    "        for data in train_loader:\n",
    "            data = data.to(device) \n",
    "            optimizer.zero_grad()\n",
    "            out = model(data)\n",
    "            loss = criterion(out, data.y)\n",
    "            loss.backward()\n",
    "            optimizer.step()\n",
    "            # test_loss = float(loss.item())\n",
    "            # train_loss += float(loss.item())\n",
    "            # iters += 1\n",
    "        test_loss = evaluate_model(model, train_loader, batch_size, device=device)\n",
    "        train_mse.append(test_loss)\n",
    "\n",
    "        # Validation\n",
    "        valid_loss = evaluate_model(model, valid_loader, valid_batch_size, device=device)\n",
    "        valid_mse.append(valid_loss)\n",
    "\n",
    "        if valid_mse[-1] <= min(valid_mse) and path is not None:\n",
    "            print(\"Current State Saved\")\n",
    "            # torch.save(model.state_dict(), path + f\"{valid_mse[-1]}.pk\")\n",
    "            best_state_dict = model.state_dict()\n",
    "            best_val_loss = valid_mse[-1]\n",
    "\n",
    "        print(f\"Epoch: {epoch}, Train MSE {train_mse[-1]}, Validation MSE {valid_mse[-1]}\")\n",
    "    \n",
    "    return train_mse, valid_mse, best_state_dict, best_val_loss\n",
    "        \n",
    "def evaluate_model(model, test_loader, batch_size, device='cpu'):\n",
    "    # criterion = nn.MSELoss(reduction='sum')\n",
    "    N = test_loader.dataset[0].x.shape[0]\n",
    "    model.eval()\n",
    "    mse = 0\n",
    "    iters = 0\n",
    "    with torch.no_grad():\n",
    "        for data in test_loader:\n",
    "            data = data.to(device) \n",
    "    \n",
    "            output = model(data)\n",
    "            # loss = criterion(output,data.y)\n",
    "            # mse += float(loss.item())\n",
    "            # print(f\"{output.shape}, {data.y.shape}\")\n",
    "            err = output - data.y\n",
    "            err = err.view(-1, N)\n",
    "            s_mse = torch.linalg.norm(err, dim=1)\n",
    "            m_mse = torch.mean(s_mse)\n",
    "            mse += m_mse\n",
    "            iters += 1\n",
    "    # print(s_mse)\n",
    "    # print(f\"{s_mse.shape}\")\n",
    "    # print(f\"{m_mse}\")\n",
    "    return float(mse) / iters\n",
    "\n",
    "def plot_learning_curve(train_mse, valid_mse):\n",
    "    plt.figure(figsize=(10, 5))\n",
    "    plt.plot(train_mse, label='Training MSE', color='blue')\n",
    "    plt.plot(valid_mse, label='Validation MSE', color='black')\n",
    "    plt.title('Training and Validation Losses')\n",
    "    plt.xlabel('Epochs')\n",
    "    plt.ylabel('MSE')\n",
    "    plt.legend()\n",
    "    plt.show()"
   ]
  },
  {
   "cell_type": "markdown",
   "id": "89560b0932c2d00d",
   "metadata": {
    "collapsed": false
   },
   "source": [
    "## Part 4: Train"
   ]
  },
  {
   "cell_type": "code",
   "outputs": [
    {
     "name": "stdout",
     "output_type": "stream",
     "text": [
      "nt_array = [    10    100   1000  10000 100000]\n"
     ]
    }
   ],
   "source": [
    "nt_arr = np.arange(1, 6)\n",
    "nt_arr = np.power(10, nt_arr)\n",
    "print(f\"nt_array = {nt_arr}\")"
   ],
   "metadata": {
    "collapsed": false,
    "ExecuteTime": {
     "end_time": "2024-04-26T12:15:30.770024800Z",
     "start_time": "2024-04-26T12:15:30.769020800Z"
    }
   },
   "id": "3594d836612d41",
   "execution_count": 24
  },
  {
   "cell_type": "code",
   "outputs": [],
   "source": [
    "nt = nt_arr[2]\n",
    "filename = drive_path + 'grid_data_ieee118cdf.mat'\n",
    "grid_data = sio.loadmat(filename)\n",
    "Y = grid_data['Y']\n",
    "N = Y.shape[0]\n",
    "\n",
    "L, Lambda, V = laplacian_evd(Y)\n",
    "xt_total, yt_total = generate_data(nt, Y, Lambda, V )\n"
   ],
   "metadata": {
    "collapsed": false,
    "ExecuteTime": {
     "end_time": "2024-04-26T12:18:22.966708300Z",
     "start_time": "2024-04-26T12:18:22.786769200Z"
    }
   },
   "id": "8159c1744d97022e",
   "execution_count": 27
  },
  {
   "cell_type": "code",
   "execution_count": 20,
   "id": "d16ed3b52df55492",
   "metadata": {
    "collapsed": false,
    "ExecuteTime": {
     "end_time": "2024-04-26T11:59:40.100811700Z",
     "start_time": "2024-04-26T11:59:37.488723600Z"
    }
   },
   "outputs": [
    {
     "name": "stdout",
     "output_type": "stream",
     "text": [
      "Current State Saved\n",
      "Epoch: 0, Train MSE 143.29193115234375, Validation MSE 121.33808135986328\n",
      "Current State Saved\n",
      "Epoch: 1, Train MSE 131.584716796875, Validation MSE 112.40092468261719\n",
      "Epoch: 2, Train MSE 132.30824279785156, Validation MSE 112.68841552734375\n",
      "Current State Saved\n",
      "Epoch: 3, Train MSE 124.873779296875, Validation MSE 107.09619140625\n",
      "Current State Saved\n",
      "Epoch: 4, Train MSE 121.9365234375, Validation MSE 104.78544616699219\n",
      "Current State Saved\n",
      "Epoch: 5, Train MSE 120.83152770996094, Validation MSE 103.75604248046875\n",
      "Current State Saved\n",
      "Epoch: 6, Train MSE 119.58802795410156, Validation MSE 102.50160217285156\n",
      "Current State Saved\n",
      "Epoch: 7, Train MSE 117.76654815673828, Validation MSE 100.64057922363281\n",
      "Current State Saved\n",
      "Epoch: 8, Train MSE 115.03726196289062, Validation MSE 97.95587158203125\n",
      "Current State Saved\n",
      "Epoch: 9, Train MSE 111.09208679199219, Validation MSE 94.03811645507812\n",
      "Current State Saved\n",
      "Epoch: 10, Train MSE 106.16268920898438, Validation MSE 89.0960922241211\n",
      "Current State Saved\n",
      "Epoch: 11, Train MSE 102.33415222167969, Validation MSE 84.90438842773438\n",
      "Current State Saved\n",
      "Epoch: 12, Train MSE 102.18870544433594, Validation MSE 84.09306335449219\n",
      "Current State Saved\n",
      "Epoch: 13, Train MSE 100.53841400146484, Validation MSE 82.29000854492188\n",
      "Current State Saved\n",
      "Epoch: 14, Train MSE 99.97482299804688, Validation MSE 81.70269775390625\n",
      "Epoch: 15, Train MSE 100.13995361328125, Validation MSE 81.8612060546875\n",
      "Current State Saved\n",
      "Epoch: 16, Train MSE 96.301025390625, Validation MSE 78.4730224609375\n",
      "Current State Saved\n",
      "Epoch: 17, Train MSE 94.34906768798828, Validation MSE 76.83021545410156\n",
      "Current State Saved\n",
      "Epoch: 18, Train MSE 92.36532592773438, Validation MSE 75.23846435546875\n",
      "Current State Saved\n",
      "Epoch: 19, Train MSE 89.54354858398438, Validation MSE 72.77371215820312\n",
      "Current State Saved\n",
      "Epoch: 20, Train MSE 88.48853302001953, Validation MSE 71.99510955810547\n",
      "Current State Saved\n",
      "Epoch: 21, Train MSE 87.02392578125, Validation MSE 71.09563446044922\n",
      "Current State Saved\n",
      "Epoch: 22, Train MSE 84.08299255371094, Validation MSE 69.06918334960938\n",
      "Current State Saved\n",
      "Epoch: 23, Train MSE 81.76559448242188, Validation MSE 67.82347106933594\n",
      "Current State Saved\n",
      "Epoch: 24, Train MSE 78.87966918945312, Validation MSE 66.11233520507812\n",
      "Current State Saved\n",
      "Epoch: 25, Train MSE 74.50838470458984, Validation MSE 63.02415466308594\n",
      "Current State Saved\n",
      "Epoch: 26, Train MSE 71.2880859375, Validation MSE 60.92987060546875\n",
      "Current State Saved\n",
      "Epoch: 27, Train MSE 67.57392883300781, Validation MSE 58.25997543334961\n",
      "Current State Saved\n",
      "Epoch: 28, Train MSE 64.81327056884766, Validation MSE 56.431427001953125\n",
      "Current State Saved\n",
      "Epoch: 29, Train MSE 62.368255615234375, Validation MSE 54.207374572753906\n",
      "Current State Saved\n",
      "Epoch: 30, Train MSE 61.067203521728516, Validation MSE 52.35413360595703\n",
      "Current State Saved\n",
      "Epoch: 31, Train MSE 58.648765563964844, Validation MSE 49.73089599609375\n",
      "Current State Saved\n",
      "Epoch: 32, Train MSE 58.56702423095703, Validation MSE 49.35108184814453\n",
      "Current State Saved\n",
      "Epoch: 33, Train MSE 57.360748291015625, Validation MSE 48.07111358642578\n",
      "Current State Saved\n",
      "Epoch: 34, Train MSE 54.82110595703125, Validation MSE 46.23884582519531\n",
      "Epoch: 35, Train MSE 54.35515594482422, Validation MSE 46.40352249145508\n",
      "Current State Saved\n",
      "Epoch: 36, Train MSE 53.505977630615234, Validation MSE 45.982627868652344\n",
      "Current State Saved\n",
      "Epoch: 37, Train MSE 51.2396125793457, Validation MSE 44.27218246459961\n",
      "Current State Saved\n",
      "Epoch: 38, Train MSE 50.86686706542969, Validation MSE 43.849586486816406\n",
      "Current State Saved\n",
      "Epoch: 39, Train MSE 49.96830749511719, Validation MSE 42.701515197753906\n"
     ]
    },
    {
     "data": {
      "text/plain": "<Figure size 1000x500 with 1 Axes>",
      "image/png": "[encoded data removed]"
     },
     "metadata": {},
     "output_type": "display_data"
    }
   ],
   "source": [
    "lr = 0.01\n",
    "batch_size = 100\n",
    "# path = drive_path + f\"model1_nt_{nt}_lr_{lr}_bs_{batch_size}\"\n",
    "GNN_model = GNN()\n",
    "\n",
    "L_sparse = ssparse.csr_matrix(np.diag(np.diag(L)) -L)\n",
    "edge_index, edge_weight = tg.utils.from_scipy_sparse_matrix(L_sparse)\n",
    "\n",
    "edge_weight = edge_weight.to(dtype=torch.float32)\n",
    "\n",
    "yt_train = torch.tensor(xt_total, dtype=torch.float32)\n",
    "xt_train = torch.tensor(yt_total, dtype=torch.float32)\n",
    "\n",
    "# NOTE: yt is the input for the model, and xt is the label, in Data object x is the input and y is the label!\n",
    "total_data = [Data(x=yt_train[i].unsqueeze(-1), y=xt_train[i].unsqueeze(-1), edge_index=edge_index, edge_attr=edge_weight) for i in range(len(yt_train))]\n",
    "\n",
    "train_data = total_data[:int(len(total_data) * 0.8)]\n",
    "valid_data = total_data[int(len(total_data) * 0.8):]\n",
    "\n",
    "GNN_model.to(device)\n",
    "\n",
    "train_mse, valid_mse, best_state_dict, best_val_loss = train_model(GNN_model, train_data, valid_data, batch_size=batch_size, lr = lr, path=path, device=device)\n",
    "torch.save(best_state_dict, drive_path + f\"models/model1_nt_{nt}_lr_{lr}_bs_{batch_size}_loss_{best_val_loss}.pk\")\n",
    "\n",
    "plot_learning_curve(train_mse, valid_mse)"
   ]
  },
  {
   "cell_type": "markdown",
   "id": "de1915ae1723bcbb",
   "metadata": {
    "collapsed": false
   },
   "source": [
    "## Part 4: Comparison"
   ]
  },
  {
   "cell_type": "code",
   "outputs": [],
   "source": [
    "GNN_model = GNN()\n",
    "GNN_model.load_state_dict(torch.load(path))\n",
    "\n",
    "valid_loader = DataLoader(valid_data, batch_size=100, shuffle=False)\n",
    "\n"
   ],
   "metadata": {
    "collapsed": false,
    "ExecuteTime": {
     "end_time": "2024-04-25T20:44:48.357143700Z",
     "start_time": "2024-04-25T20:44:48.331603200Z"
    }
   },
   "id": "9f7148426bfc0538",
   "execution_count": 17
  },
  {
   "cell_type": "code",
   "outputs": [],
   "source": [
    "xt_test, yt_test = generate_data(nt, Y, Lambda, V )\n",
    "test_estimator_mse(h_gsp, b_gsp, xt_test, yt_test, V)"
   ],
   "metadata": {
    "collapsed": false
   },
   "id": "d57f0adee34122e4"
  },
  {
   "cell_type": "code",
   "outputs": [],
   "source": [
    "h_gsp, b_gsp = train_gsp_lmmse_estimator(xt_total, yt_total, V)"
   ],
   "metadata": {
    "collapsed": false
   },
   "id": "320046b4ec25cd53"
  }
 ],
 "metadata": {
  "kernelspec": {
   "display_name": "Python 3 (ipykernel)",
   "language": "python",
   "name": "python3"
  },
  "language_info": {
   "codemirror_mode": {
    "name": "ipython",
    "version": 3
   },
   "file_extension": ".py",
   "mimetype": "text/x-python",
   "name": "python",
   "nbconvert_exporter": "python",
   "pygments_lexer": "ipython3",
   "version": "3.12.2"
  }
 },
 "nbformat": 4,
 "nbformat_minor": 5
}
