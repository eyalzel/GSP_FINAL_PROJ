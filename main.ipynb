{
 "cells": [
  {
   "cell_type": "markdown",
   "id": "a7269907016b4ac8",
   "metadata": {
    "collapsed": false
   },
   "source": [
    "# GSP Final Project\n",
    "In this notebook, we will demonstrate estimation of graph signals using a GSP-based technique vs.  a deep-learning-based technique. "
   ]
  },
  {
   "cell_type": "code",
   "execution_count": 2,
   "id": "51bc23eb3352395a",
   "metadata": {
    "collapsed": false,
    "ExecuteTime": {
     "end_time": "2024-04-25T20:36:21.511294Z",
     "start_time": "2024-04-25T20:36:19.265149700Z"
    }
   },
   "outputs": [],
   "source": [
    "import util\n",
    "import torch\n",
    "import torch.nn as nn\n",
    "import numpy as np\n",
    "import scipy.sparse as ssparse\n",
    "import scipy.io as sio\n",
    "import torch_geometric as tg\n",
    "import matplotlib.pyplot as plt\n",
    "from torch_geometric.data import Data\n",
    "from torch_geometric.loader import DataLoader"
   ]
  },
  {
   "cell_type": "code",
   "outputs": [],
   "source": [
    "device = 'cpu'"
   ],
   "metadata": {
    "collapsed": false,
    "ExecuteTime": {
     "end_time": "2024-04-25T20:37:11.570749900Z",
     "start_time": "2024-04-25T20:37:11.566213200Z"
    }
   },
   "id": "d00f3a9fdcec97d7",
   "execution_count": 10
  },
  {
   "cell_type": "code",
   "execution_count": 15,
   "id": "cf0bb1d0827071d9",
   "metadata": {
    "collapsed": false,
    "ExecuteTime": {
     "end_time": "2024-04-25T20:43:28.326405600Z",
     "start_time": "2024-04-25T20:43:28.112834300Z"
    }
   },
   "outputs": [
    {
     "name": "stdout",
     "output_type": "stream",
     "text": [
      "Thu Apr 25 23:43:28 2024       \n",
      "+-----------------------------------------------------------------------------------------+\n",
      "| NVIDIA-SMI 552.22                 Driver Version: 552.22         CUDA Version: 12.4     |\n",
      "|-----------------------------------------+------------------------+----------------------+\n",
      "| GPU  Name                     TCC/WDDM  | Bus-Id          Disp.A | Volatile Uncorr. ECC |\n",
      "| Fan  Temp   Perf          Pwr:Usage/Cap |           Memory-Usage | GPU-Util  Compute M. |\n",
      "|                                         |                        |               MIG M. |\n",
      "|=========================================+========================+======================|\n",
      "|   0  NVIDIA GeForce RTX 4060 ...  WDDM  |   00000000:01:00.0  On |                  N/A |\n",
      "| N/A   47C    P8              3W /  115W |    1420MiB /   8188MiB |      5%      Default |\n",
      "|                                         |                        |                  N/A |\n",
      "+-----------------------------------------+------------------------+----------------------+\n",
      "                                                                                         \n",
      "+-----------------------------------------------------------------------------------------+\n",
      "| Processes:                                                                              |\n",
      "|  GPU   GI   CI        PID   Type   Process name                              GPU Memory |\n",
      "|        ID   ID                                                               Usage      |\n",
      "|=========================================================================================|\n",
      "|    0   N/A  N/A     10900    C+G   ...ASUSACCI\\ArmouryCrateKeyControl.exe      N/A      |\n",
      "|    0   N/A  N/A     16784    C+G   ...ys\\WinUI3Apps\\PowerToys.Peek.UI.exe      N/A      |\n",
      "|    0   N/A  N/A     17564    C+G   ...werToys\\PowerToys.PowerLauncher.exe      N/A      |\n",
      "|    0   N/A  N/A     17708    C+G   ...ekyb3d8bbwe\\PhoneExperienceHost.exe      N/A      |\n",
      "|    0   N/A  N/A     18604    C+G   ...on\\123.0.2420.97\\msedgewebview2.exe      N/A      |\n",
      "|    0   N/A  N/A     20808    C+G   ...Programs\\Microsoft VS Code\\Code.exe      N/A      |\n",
      "|    0   N/A  N/A     21860    C+G   ...Google\\NearbyShare\\nearby_share.exe      N/A      |\n",
      "|    0   N/A  N/A     26984    C+G   ...soft Office\\root\\Office16\\EXCEL.EXE      N/A      |\n",
      "|    0   N/A  N/A     27320    C+G   ...2txyewy\\StartMenuExperienceHost.exe      N/A      |\n",
      "|    0   N/A  N/A     27368    C+G   ...siveControlPanel\\SystemSettings.exe      N/A      |\n",
      "|    0   N/A  N/A     28148    C+G   ...GeForce Experience\\NVIDIA Share.exe      N/A      |\n",
      "|    0   N/A  N/A     32192    C+G   ...crosoft\\Edge\\Application\\msedge.exe      N/A      |\n",
      "|    0   N/A  N/A     32940    C+G   ...utube-music\\3.2.2\\YouTube Music.exe      N/A      |\n",
      "|    0   N/A  N/A     34532    C+G   ...t Office\\root\\Office16\\POWERPNT.EXE      N/A      |\n",
      "|    0   N/A  N/A     34604    C+G   ...GeForce Experience\\NVIDIA Share.exe      N/A      |\n",
      "|    0   N/A  N/A     40600    C+G   ...t.LockApp_cw5n1h2txyewy\\LockApp.exe      N/A      |\n",
      "|    0   N/A  N/A     40876    C+G   C:\\Windows\\explorer.exe                     N/A      |\n",
      "|    0   N/A  N/A     40944    C+G   ...r\\AppData\\Roaming\\Zoom\\bin\\Zoom.exe      N/A      |\n",
      "|    0   N/A  N/A     41296    C+G   ...les\\Microsoft OneDrive\\OneDrive.exe      N/A      |\n",
      "|    0   N/A  N/A     43108    C+G   ...8.0_x64__cv1g1gvanyjgm\\WhatsApp.exe      N/A      |\n",
      "|    0   N/A  N/A     46092    C+G   ...CBS_cw5n1h2txyewy\\TextInputHost.exe      N/A      |\n",
      "|    0   N/A  N/A     46240    C+G   ...5n1h2txyewy\\ShellExperienceHost.exe      N/A      |\n",
      "|    0   N/A  N/A     46640    C+G   ...nt.CBS_cw5n1h2txyewy\\SearchHost.exe      N/A      |\n",
      "+-----------------------------------------------------------------------------------------+\n"
     ]
    }
   ],
   "source": [
    "# Enable CUDA\n",
    "device = torch.device(\"cuda\" if torch.cuda.is_available() else \"cpu\")\n",
    "\n",
    "gpu_info = !nvidia-smi\n",
    "gpu_info = '\\n'.join(gpu_info)\n",
    "if gpu_info.find('failed') >= 0:\n",
    "  print('Not connected to a GPU')\n",
    "else:\n",
    "  print(gpu_info)"
   ]
  },
  {
   "cell_type": "code",
   "outputs": [],
   "source": [
    "# To empty GPU cache - No need to run\n",
    "torch.cuda.empty_cache()\n",
    "torch.cuda.reset_peak_memory_stats()"
   ],
   "metadata": {
    "collapsed": false,
    "ExecuteTime": {
     "end_time": "2024-04-25T16:35:44.523414100Z",
     "start_time": "2024-04-25T16:35:44.519385100Z"
    }
   },
   "id": "6ac6c06b25d50eb1",
   "execution_count": 23
  },
  {
   "cell_type": "markdown",
   "id": "ca9c2d7b0168bd9c",
   "metadata": {
    "collapsed": false
   },
   "source": [
    "## Task\n",
    "\n",
    "$$\\mathbf{x} \\longrightarrow  \\boxed{\\text{Physical Model}} \\longrightarrow \\mathbf{y}  \\longrightarrow \\boxed{\\text{Estimator}}  \\longrightarrow \\hat{\\mathbf{x}}$$ \n",
    "\n",
    "### Physical Model\n",
    "$$ \\mathbf{y} = \\mathbf{g}(\\mathbf{x};\\mathbf{L}) + \\mathbf{w} $$\n",
    "\n",
    "- $\\mathbf{x} \\sim p(\\mathbf{x})$.\n",
    "- $\\mathbf{g}$ - a non-linear measurement function.\n",
    "- $\\mathbf{L}$ - the Laplacian matrix of the graph.\n",
    " \n",
    "### Estimator\n",
    "- $\\mathbf{y}$ - input of the estimator\n",
    "- $\\mathbf{x}$ - ground-truth corresponding label\n",
    "- The estimator is given a dataset pairs of $\\{\\mathbf{x_t}, \\mathbf{y_t} \\}_t$ for training.\n",
    "\n",
    "**Goal**: The estimator should recover $\\mathbf{x}$ out of $\\mathbf{y}$ with minimum MSE.\n",
    "#### GSP-based\n",
    "\n",
    "Use a GSP-based technique for estimation.\n",
    "\n",
    "#### GNN-based\n",
    "\n",
    "Use a GNN deep-learning architecture for estimation.\n",
    "\n",
    "**NOTE:**  $\\mathbf{y}$ is the input to the DP model and $\\mathbf{x}$ is the output (i.e., the label) not vise versa!"
   ]
  },
  {
   "cell_type": "markdown",
   "id": "6e5f862e6b2a95fa",
   "metadata": {
    "collapsed": false
   },
   "source": [
    "## Part 1: Physical Model"
   ]
  },
  {
   "cell_type": "code",
   "execution_count": 3,
   "id": "860a8f216a91cbae",
   "metadata": {
    "collapsed": false,
    "ExecuteTime": {
     "end_time": "2024-04-25T20:36:25.924173300Z",
     "start_time": "2024-04-25T20:36:25.921303600Z"
    }
   },
   "outputs": [],
   "source": [
    "def laplacian_evd(Y):\n",
    "    L = - np.imag(Y)\n",
    "    Lambda, V = np.linalg.eig(L)\n",
    "    Lambda = np.real(Lambda)\n",
    "    sorted_indices = np.argsort(Lambda)\n",
    "    Lambda = Lambda[sorted_indices]\n",
    "    Lambda = np.diag(Lambda)\n",
    "    V = V[:, sorted_indices]\n",
    "    return L, Lambda, V\n",
    "    \n",
    "def g_xL(Y, x):\n",
    "    v = np.exp(1j * x)\n",
    "    g_x = np.real(v * np.conj(Y @ v))\n",
    "    return g_x\n",
    "    \n",
    "def generate_data(nt, Y, Lambda, V, beta=3, c_ww=0.05):\n",
    "    N = Y.shape[0]\n",
    "    xt = (V[:, 1:] @ np.random.multivariate_normal(np.zeros(N - 1), beta * np.diag(1 / np.diag(Lambda)[1:]), nt).T).T\n",
    "    if nt == 1:\n",
    "        xt = xt[0, :]\n",
    "    \n",
    "    yt = np.zeros(xt.shape)\n",
    "    for t in range(0, nt):\n",
    "        yt[t] = g_xL(Y, xt[t])\n",
    "    yt += np.sqrt(c_ww) * np.random.randn(yt.shape[0], yt.shape[1])\n",
    "    \n",
    "    return xt, yt\n",
    "\n",
    "# filename = 'grid_data_ieee118cdf.mat'\n",
    "# grid_data = sio.loadmat(filename)\n",
    "# Y = grid_data['Y']\n",
    "# N = Y.shape[0]\n",
    "# nt = 1000\n",
    "# \n",
    "# L, Lambda, V = laplacian_evd(Y)\n",
    "# xt_train, yt_train = generate_data(nt, Y, Lambda, V, )"
   ]
  },
  {
   "cell_type": "markdown",
   "id": "2f1667db35646052",
   "metadata": {
    "collapsed": false
   },
   "source": [
    "## Part 2: GSP-LMMSE Estimator\n",
    "\n",
    "The GSP-LMMSE estimator is defined as an estimator which minimize the MSE among all estimators in the form of a graph filter:\n",
    "$$\n",
    "\\{\\bf{h}, \\bf{b} \\} = \\text{argmin}~ \\mathbb{E} [(\\bf{x} - \\hat{\\bf{x}}(\\bf{y}))^2]\n",
    "$$\n",
    "\n",
    "where $\\hat{\\bf{x}}(\\bf{y}) =  \\bf{V} \\text{diag} (\\bf{h}) \\bf{V}^T \\bf{y}+ \\bf{b}$.\n",
    "\n",
    "A closed form expression would be:\n",
    "$$ \\hat{\\bf{x}}(\\bf{y}) =  \\bf{V} \\text{diag} (\\bf{d}_{\\bf{xy}}\\oslash \\bf{d}_{\\bf{yy}}) \\bf{V}^T \\bf{y} + \\bar{\\bf{x}}$$\n",
    "\n",
    "where $\\bf{d}_{\\bf{xy}} := \\text{diag}(\\text{cov}(\\bf{V}^T \\bf{x}, \\bf{V}^T \\bf{y}))$, $\\bf{d}_{\\bf{yy}} := \\text{diag}(\\text{var}(\\bf{V}^T \\bf{y}))$ and $\\bar{\\bf{x}} :=\\mathbb{E}\\bf{x}$"
   ]
  },
  {
   "cell_type": "code",
   "execution_count": 4,
   "id": "b344e0714d5c5312",
   "metadata": {
    "collapsed": false,
    "ExecuteTime": {
     "end_time": "2024-04-25T20:36:29.434223800Z",
     "start_time": "2024-04-25T20:36:29.432207200Z"
    }
   },
   "outputs": [],
   "source": [
    "def train_gsp_lmmse_estimator(xt, yt, V):\n",
    "    xt = xt.T     # column vectors representation\n",
    "    yt = yt.T     # column vectors representation\n",
    "\n",
    "    xt_mean = np.mean(xt, axis=1)[:, np.newaxis]\n",
    "    yt_mean = np.mean(yt, axis=1)[:, np.newaxis]\n",
    "\n",
    "    d_xy = np.mean( ( V.T @ (xt - xt_mean) ) * ( V.T @ (yt - yt_mean) ) , axis=1)\n",
    "\n",
    "    d_yy = np.mean( ( V.T @ (yt - yt_mean) ) ** 2 , axis=1)\n",
    "    \n",
    "    h = d_xy / d_yy\n",
    "    \n",
    "    return h, xt_mean"
   ]
  },
  {
   "cell_type": "code",
   "outputs": [],
   "source": [
    "def test_estimator_mse(h, b, xt_test, yt_test, V):\n",
    "    xt_test = xt_test.T     # column vectors representation\n",
    "    yt_test = yt_test.T     # column vectors representation\n",
    "\n",
    "    err = V @ np.diag(h) @ V.T @ yt_test + b - xt_test\n",
    "    s_mse = np.linalg.norm(err, axis=0)\n",
    "    mse = np.mean(s_mse)\n",
    "    return mse\n"
   ],
   "metadata": {
    "collapsed": false,
    "ExecuteTime": {
     "end_time": "2024-04-25T20:36:31.415738600Z",
     "start_time": "2024-04-25T20:36:31.412222400Z"
    }
   },
   "id": "f86da8f2c3400c5c",
   "execution_count": 5
  },
  {
   "cell_type": "markdown",
   "id": "2d1c730c8e33707b",
   "metadata": {
    "collapsed": false
   },
   "source": [
    "## Part 3: GNN and Deep Learning based Estimation\n",
    "\n",
    "### Define Model Architecture"
   ]
  },
  {
   "cell_type": "code",
   "execution_count": 103,
   "id": "2196692421d14ac6",
   "metadata": {
    "collapsed": false,
    "ExecuteTime": {
     "end_time": "2024-04-25T21:52:29.722493800Z",
     "start_time": "2024-04-25T21:52:29.719489400Z"
    }
   },
   "outputs": [],
   "source": [
    "# class GNN(torch.nn.Module):\n",
    "#     def __init__(self, K = 30 ):  # K is the order of the Chebyshev polynomial\n",
    "#         super(GNN, self).__init__()\n",
    "#         \n",
    "#         self.conv1 = tg.nn.ChebConv(1, 1, K=K, normalization=None)\n",
    "#         self.relu1 = nn.LeakyReLU()\n",
    "#         self.conv2 = tg.nn.ChebConv(1, 1, K=K, normalization=None)\n",
    "#         self.relu2 = nn.ReLU()\n",
    "#         self.conv3 = tg.nn.ChebConv(1, 1, K=K, normalization=None)  \n",
    "# \n",
    "#     def forward(self, data):\n",
    "#         x, edge_index = data.x, data.edge_index\n",
    "#         x = self.conv1(x, edge_index=edge_index)\n",
    "#         x = self.relu1(x)\n",
    "#         x = self.conv2(x, edge_index=edge_index)\n",
    "#         # x = self.relu2(x)\n",
    "#         # x = self.conv3(x, edge_index=edge_index)\n",
    "#         return x\n",
    "# \n",
    "import torch.nn.functional as F\n",
    "\n",
    "class GNN(torch.nn.Module):\n",
    "    def __init__(self):\n",
    "        super(GNN, self).__init__()\n",
    "        # Since input and output features are 1, we set up the intermediate layers with a higher dimension\n",
    "        # Intermediate dimension for hidden layers\n",
    "        hidden_dim = 16\n",
    "        K = 30\n",
    "        # First GCN layer with 1 input feature and hidden_dim output features\n",
    "        self.conv1 = tg.nn.ChebConv(1, hidden_dim,  K=K, normalization=None)\n",
    "        # Second GCN layer\n",
    "        self.conv2 = tg.nn.ChebConv(hidden_dim, hidden_dim,  K=K, normalization=None)\n",
    "        # Third GCN layer, outputs hidden_dim features\n",
    "        self.conv3 = tg.nn.ChebConv(hidden_dim, hidden_dim,  K=K, normalization=None)\n",
    "        # Output linear layer to reduce back to 1 feature\n",
    "        self.linear = torch.nn.Linear(hidden_dim, 1, )\n",
    "        self.relu1 = nn.LeakyReLU()\n",
    "        self.relu2 = nn.LeakyReLU()\n",
    "        # self.relu1 = nn.LeakyReLU()\n",
    "\n",
    "    def forward(self, data):\n",
    "        x, edge_index, edge_weight = data.x, data.edge_index, data.edge_attr\n",
    "\n",
    "        # Apply the first convolution\n",
    "        x = self.conv1(x, edge_index, edge_weight=edge_weight)\n",
    "        x = self.relu1(x)  \n",
    "        # x = F.dropout(x, training=self.training)  # Apply dropout to avoid overfitting\n",
    "\n",
    "        # Apply the second convolution\n",
    "        x = self.conv2(x, edge_index, edge_weight=edge_weight)\n",
    "        x = self.relu2(x)  \n",
    "        # x = F.dropout(x, training=self.training)  # Apply dropout to avoid overfitting\n",
    "\n",
    "        # Apply the third convolution\n",
    "        x = self.conv3(x, edge_index, edge_weight=edge_weight)\n",
    "        # x = F.relu(x)\n",
    "\n",
    "        # Apply a final linear transformation\n",
    "        x = self.linear(x)\n",
    "\n",
    "        return x"
   ]
  },
  {
   "cell_type": "markdown",
   "id": "4cb09e26efe52704",
   "metadata": {
    "collapsed": false
   },
   "source": [
    "### Define training function\n",
    "\n",
    "In order to run on GPU via CUDA set device accordingly."
   ]
  },
  {
   "cell_type": "code",
   "execution_count": 76,
   "id": "b411d15073a81b43",
   "metadata": {
    "collapsed": false,
    "ExecuteTime": {
     "end_time": "2024-04-25T21:27:26.883951Z",
     "start_time": "2024-04-25T21:27:26.879556500Z"
    }
   },
   "outputs": [],
   "source": [
    "def train_model(model, train_data, valid_data, batch_size=500, valid_batch_size = 200, epochs=40, lr=0.01, weight_decay=1e-4, path=None, device='cpu'):\n",
    "    \n",
    "    train_loader = DataLoader(train_data, batch_size=batch_size, shuffle=True)\n",
    "    valid_loader = DataLoader(valid_data, batch_size=valid_batch_size, shuffle=False)\n",
    "\n",
    "    criterion = nn.MSELoss()\n",
    "    optimizer = torch.optim.Adam(model.parameters(), lr=lr, weight_decay=weight_decay)\n",
    "    \n",
    "    train_mse, valid_mse = [], []\n",
    "    \n",
    "    for epoch in range(epochs):\n",
    "                \n",
    "        # Training\n",
    "        model.train() \n",
    "        # train_loss = 0\n",
    "        # iters = 0\n",
    "        # test_loss = None\n",
    "        for data in train_loader:\n",
    "            data = data.to(device) \n",
    "            optimizer.zero_grad()\n",
    "            out = model(data)\n",
    "            loss = criterion(out, data.y)\n",
    "            loss.backward()\n",
    "            optimizer.step()\n",
    "            # test_loss = float(loss.item())\n",
    "            # train_loss += float(loss.item())\n",
    "            # iters += 1\n",
    "        test_loss = evaluate_model(model, train_loader, batch_size, device=device)\n",
    "        train_mse.append(test_loss)\n",
    "\n",
    "        # Validation\n",
    "        valid_loss = evaluate_model(model, valid_loader, valid_batch_size, device=device)\n",
    "        valid_mse.append(valid_loss)\n",
    "\n",
    "        if valid_mse[-1] <= min(valid_mse) and path is not None:\n",
    "            print(\"Current State Saved\")\n",
    "            torch.save(model.state_dict(), path)\n",
    "\n",
    "        print(f\"Epoch: {epoch}, Train MSE {train_mse[-1]}, Validation MSE {valid_mse[-1]}\")\n",
    "    \n",
    "    return train_mse, valid_mse\n",
    "        \n",
    "def evaluate_model(model, test_loader, batch_size, device='cpu'):\n",
    "    # criterion = nn.MSELoss(reduction='sum')\n",
    "    N = test_loader.dataset[0].x.shape[0]\n",
    "    model.eval()\n",
    "    mse = 0\n",
    "    iters = 0\n",
    "    with torch.no_grad():\n",
    "        for data in test_loader:\n",
    "            data = data.to(device) \n",
    "    \n",
    "            output = model(data)\n",
    "            # loss = criterion(output,data.y)\n",
    "            # mse += float(loss.item())\n",
    "            # print(f\"{output.shape}, {data.y.shape}\")\n",
    "            err = output - data.y\n",
    "            err = err.view(-1, N)\n",
    "            s_mse = torch.linalg.norm(err, dim=1)\n",
    "            m_mse = torch.mean(s_mse)\n",
    "            mse += m_mse\n",
    "            iters += 1\n",
    "    # print(s_mse)\n",
    "    # print(f\"{s_mse.shape}\")\n",
    "    # print(f\"{m_mse}\")\n",
    "    return float(mse) / iters\n",
    "\n",
    "def plot_learning_curve(train_mse, valid_mse):\n",
    "    plt.figure(figsize=(10, 5))\n",
    "    plt.plot(train_mse, label='Training MSE', color='blue')\n",
    "    plt.plot(valid_mse, label='Validation MSE', color='black')\n",
    "    plt.title('Training and Validation Losses')\n",
    "    plt.xlabel('Epochs')\n",
    "    plt.ylabel('MSE')\n",
    "    plt.legend()\n",
    "    plt.show()"
   ]
  },
  {
   "cell_type": "markdown",
   "id": "89560b0932c2d00d",
   "metadata": {
    "collapsed": false
   },
   "source": [
    "## Part 4: Train\n",
    "### Train GSP-LMMSE Estimator"
   ]
  },
  {
   "cell_type": "code",
   "outputs": [],
   "source": [
    "filename = 'grid_data_ieee118cdf.mat'\n",
    "grid_data = sio.loadmat(filename)\n",
    "Y = grid_data['Y']\n",
    "N = Y.shape[0]\n",
    "nt = 10000\n",
    "\n",
    "L, Lambda, V = laplacian_evd(Y)\n",
    "xt_total, yt_total = generate_data(nt, Y, Lambda, V )\n"
   ],
   "metadata": {
    "collapsed": false,
    "ExecuteTime": {
     "end_time": "2024-04-25T20:36:42.381620800Z",
     "start_time": "2024-04-25T20:36:40.902310900Z"
    }
   },
   "id": "8159c1744d97022e",
   "execution_count": 8
  },
  {
   "cell_type": "code",
   "execution_count": 59,
   "id": "316bdbd9af84669c",
   "metadata": {
    "collapsed": false,
    "ExecuteTime": {
     "end_time": "2024-04-24T20:09:54.737165100Z",
     "start_time": "2024-04-24T20:09:54.726908300Z"
    }
   },
   "outputs": [],
   "source": [
    "h_gsp, b_gsp = train_gsp_lmmse_estimator(xt_total, yt_total, V)"
   ]
  },
  {
   "cell_type": "code",
   "outputs": [
    {
     "data": {
      "text/plain": "3.1323176807415836"
     },
     "execution_count": 63,
     "metadata": {},
     "output_type": "execute_result"
    }
   ],
   "source": [
    "xt_test, yt_test = generate_data(nt, Y, Lambda, V )\n",
    "test_estimator_mse(h_gsp, b_gsp, xt_test, yt_test, V)"
   ],
   "metadata": {
    "collapsed": false,
    "ExecuteTime": {
     "end_time": "2024-04-24T20:14:16.281125900Z",
     "start_time": "2024-04-24T20:14:16.152512200Z"
    }
   },
   "id": "569f3c63bf485518",
   "execution_count": 63
  },
  {
   "cell_type": "code",
   "execution_count": 104,
   "id": "d16ed3b52df55492",
   "metadata": {
    "collapsed": false,
    "ExecuteTime": {
     "end_time": "2024-04-25T21:55:22.127660400Z",
     "start_time": "2024-04-25T21:52:34.533781400Z"
    }
   },
   "outputs": [
    {
     "name": "stdout",
     "output_type": "stream",
     "text": [
      "Current State Saved\n",
      "Epoch: 0, Train MSE 16.677755737304686, Validation MSE 16.620343017578126\n",
      "Current State Saved\n",
      "Epoch: 1, Train MSE 13.236488342285156, Validation MSE 13.149739074707032\n",
      "Epoch: 2, Train MSE 13.318162536621093, Validation MSE 13.221551513671875\n",
      "Current State Saved\n",
      "Epoch: 3, Train MSE 12.208760833740234, Validation MSE 12.146634674072265\n",
      "Current State Saved\n",
      "Epoch: 4, Train MSE 8.398030090332032, Validation MSE 8.390641021728516\n",
      "Epoch: 5, Train MSE 11.129740905761718, Validation MSE 11.137889099121093\n",
      "Current State Saved\n",
      "Epoch: 6, Train MSE 7.973898315429688, Validation MSE 7.972711181640625\n",
      "Current State Saved\n",
      "Epoch: 7, Train MSE 7.803739166259765, Validation MSE 7.808074951171875\n",
      "Current State Saved\n",
      "Epoch: 8, Train MSE 7.719200897216797, Validation MSE 7.7216438293457035\n",
      "Current State Saved\n",
      "Epoch: 9, Train MSE 7.638332366943359, Validation MSE 7.642005157470703\n",
      "Epoch: 10, Train MSE 8.071343231201173, Validation MSE 8.07981185913086\n",
      "Current State Saved\n",
      "Epoch: 11, Train MSE 7.2804443359375, Validation MSE 7.286511993408203\n",
      "Current State Saved\n",
      "Epoch: 12, Train MSE 7.0014801025390625, Validation MSE 7.01041259765625\n",
      "Epoch: 13, Train MSE 7.237161254882812, Validation MSE 7.2395881652832035\n",
      "Epoch: 14, Train MSE 7.0120384216308596, Validation MSE 7.023342132568359\n",
      "Epoch: 15, Train MSE 7.127096557617188, Validation MSE 7.120168304443359\n",
      "Current State Saved\n",
      "Epoch: 16, Train MSE 6.958393859863281, Validation MSE 6.963574981689453\n",
      "Current State Saved\n",
      "Epoch: 17, Train MSE 6.803030395507813, Validation MSE 6.810187530517578\n",
      "Epoch: 18, Train MSE 11.778533935546875, Validation MSE 11.783068084716797\n",
      "Current State Saved\n",
      "Epoch: 19, Train MSE 6.588841247558594, Validation MSE 6.600729370117188\n",
      "Epoch: 20, Train MSE 7.6753898620605465, Validation MSE 7.6831214904785154\n",
      "Epoch: 21, Train MSE 6.900721740722656, Validation MSE 6.912746429443359\n",
      "Current State Saved\n",
      "Epoch: 22, Train MSE 6.534548950195313, Validation MSE 6.542711639404297\n",
      "Epoch: 23, Train MSE 6.912269592285156, Validation MSE 6.922028350830078\n",
      "Epoch: 24, Train MSE 6.733275604248047, Validation MSE 6.7492515563964846\n",
      "Current State Saved\n",
      "Epoch: 25, Train MSE 6.277474594116211, Validation MSE 6.291393661499024\n",
      "Epoch: 26, Train MSE 6.7962486267089846, Validation MSE 6.8034507751464846\n",
      "Current State Saved\n",
      "Epoch: 27, Train MSE 6.120816802978515, Validation MSE 6.12628402709961\n",
      "Epoch: 28, Train MSE 7.482979583740234, Validation MSE 7.485882568359375\n",
      "Epoch: 29, Train MSE 6.400172424316406, Validation MSE 6.414790344238281\n",
      "Current State Saved\n",
      "Epoch: 30, Train MSE 6.044525146484375, Validation MSE 6.060004806518554\n",
      "Epoch: 31, Train MSE 6.357082748413086, Validation MSE 6.362474060058593\n",
      "Epoch: 32, Train MSE 6.478096771240234, Validation MSE 6.485413360595703\n",
      "Epoch: 33, Train MSE 7.704355621337891, Validation MSE 7.723734283447266\n",
      "Current State Saved\n",
      "Epoch: 34, Train MSE 5.9377296447753904, Validation MSE 5.961108779907226\n",
      "Epoch: 35, Train MSE 6.5617218017578125, Validation MSE 6.580862426757813\n",
      "Epoch: 36, Train MSE 6.209740066528321, Validation MSE 6.222536849975586\n",
      "Epoch: 37, Train MSE 6.4649208068847654, Validation MSE 6.471676635742187\n",
      "Current State Saved\n",
      "Epoch: 38, Train MSE 5.653002166748047, Validation MSE 5.67527961730957\n",
      "Current State Saved\n",
      "Epoch: 39, Train MSE 5.645610427856445, Validation MSE 5.66688232421875\n"
     ]
    },
    {
     "data": {
      "text/plain": "<Figure size 1000x500 with 1 Axes>",
      "image/png": "[encoded data removed]"
     },
     "metadata": {},
     "output_type": "display_data"
    }
   ],
   "source": [
    "path = \"./best_GNN_model.pk\"\n",
    "GNN_model = GNN()\n",
    "\n",
    "L_sparse = ssparse.csr_matrix(np.diag(np.diag(L)) -L)\n",
    "edge_index, edge_weight = tg.utils.from_scipy_sparse_matrix(L_sparse)\n",
    "\n",
    "edge_weight = edge_weight.to(dtype=torch.float32)\n",
    "\n",
    "yt_train = torch.tensor(xt_total, dtype=torch.float32)\n",
    "xt_train = torch.tensor(yt_total, dtype=torch.float32)\n",
    "\n",
    "# NOTE: yt is the input for the model, and xt is the label, in Data object x is the input and y is the label!\n",
    "total_data = [Data(x=yt_train[i].unsqueeze(-1), y=xt_train[i].unsqueeze(-1), edge_index=edge_index, edge_attr=edge_weight) for i in range(len(yt_train))]\n",
    "\n",
    "\n",
    "train_data = total_data[:int(len(total_data) * 0.8)]\n",
    "valid_data = total_data[int(len(total_data) * 0.8):]\n",
    "\n",
    "GNN_model.to(device)\n",
    "\n",
    "train_mse, valid_mse = train_model(GNN_model, train_data, valid_data, batch_size=100, lr = 0.01, path=path, device=device)\n",
    "plot_learning_curve(train_mse, valid_mse)"
   ]
  },
  {
   "cell_type": "markdown",
   "id": "de1915ae1723bcbb",
   "metadata": {
    "collapsed": false
   },
   "source": [
    "## Part 4: Comparison"
   ]
  },
  {
   "cell_type": "code",
   "outputs": [],
   "source": [
    "GNN_model = GNN()\n",
    "GNN_model.load_state_dict(torch.load(path))\n",
    "\n",
    "valid_loader = DataLoader(valid_data, batch_size=100, shuffle=False)\n",
    "\n"
   ],
   "metadata": {
    "collapsed": false,
    "ExecuteTime": {
     "end_time": "2024-04-25T20:44:48.357143700Z",
     "start_time": "2024-04-25T20:44:48.331603200Z"
    }
   },
   "id": "9f7148426bfc0538",
   "execution_count": 17
  },
  {
   "cell_type": "code",
   "outputs": [
    {
     "name": "stdout",
     "output_type": "stream",
     "text": [
      "torch.Size([15])\n",
      "tensor([[ 0.],\n",
      "        [ 1.],\n",
      "        [ 2.],\n",
      "        [ 3.],\n",
      "        [ 4.],\n",
      "        [ 5.],\n",
      "        [ 6.],\n",
      "        [ 7.],\n",
      "        [ 8.],\n",
      "        [ 9.],\n",
      "        [10.],\n",
      "        [11.],\n",
      "        [12.],\n",
      "        [13.],\n",
      "        [14.]])\n",
      "torch.Size([15, 1])\n",
      "tensor([[ 0.,  1.,  2.,  3.,  4.],\n",
      "        [ 5.,  6.,  7.,  8.,  9.],\n",
      "        [10., 11., 12., 13., 14.]])\n"
     ]
    },
    {
     "data": {
      "text/plain": "tensor([ 5.4772, 15.9687, 27.0185])"
     },
     "execution_count": 73,
     "metadata": {},
     "output_type": "execute_result"
    }
   ],
   "source": [
    "z = torch.arange(0,15).to(torch.float32)\n",
    "print(f\"{z.shape}\")\n",
    "z = z.unsqueeze(-1)\n",
    "print(z)\n",
    "print(f\"{z.shape}\")\n",
    "z = z.view(-1,5)\n",
    "print(z)\n",
    "torch.linalg.vector_norm(z, dim=1)"
   ],
   "metadata": {
    "collapsed": false,
    "ExecuteTime": {
     "end_time": "2024-04-25T21:21:21.328044500Z",
     "start_time": "2024-04-25T21:21:21.322934400Z"
    }
   },
   "id": "a1b9bb31202fc099",
   "execution_count": 73
  }
 ],
 "metadata": {
  "kernelspec": {
   "display_name": "Python 3 (ipykernel)",
   "language": "python",
   "name": "python3"
  },
  "language_info": {
   "codemirror_mode": {
    "name": "ipython",
    "version": 3
   },
   "file_extension": ".py",
   "mimetype": "text/x-python",
   "name": "python",
   "nbconvert_exporter": "python",
   "pygments_lexer": "ipython3",
   "version": "3.12.2"
  }
 },
 "nbformat": 4,
 "nbformat_minor": 5
}
