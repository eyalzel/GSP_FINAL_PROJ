{
 "cells": [
  {
   "cell_type": "markdown",
   "id": "a7269907016b4ac8",
   "metadata": {
    "collapsed": false
   },
   "source": [
    "# GSP Final Project\n",
    "In this notebook, we will demonstrate estimation of graph signals using a GSP-based technique vs.  a deep-learning-based technique. "
   ]
  },
  {
   "cell_type": "code",
   "execution_count": 11,
   "id": "51bc23eb3352395a",
   "metadata": {
    "collapsed": false,
    "ExecuteTime": {
     "end_time": "2024-04-30T08:19:00.384968100Z",
     "start_time": "2024-04-30T08:19:00.374459400Z"
    }
   },
   "outputs": [],
   "source": [
    "import torch\n",
    "import torch.nn as nn\n",
    "import numpy as np\n",
    "import scipy.sparse as ssparse\n",
    "import scipy.io as sio\n",
    "import torch_geometric as tg\n",
    "import matplotlib.pyplot as plt\n",
    "from torch_geometric.data import Data\n",
    "from torch_geometric.loader import DataLoader\n",
    "\n",
    "colab = False\n",
    "if colab:\n",
    "    drive_path = './' # For colab integration type here your path and set 'colab = True'\n",
    "else:\n",
    "    drive_path = './'\n",
    "\n",
    "# Set device CPU as default \n",
    "device = 'cpu'"
   ]
  },
  {
   "cell_type": "code",
   "execution_count": 12,
   "id": "cf0bb1d0827071d9",
   "metadata": {
    "collapsed": false,
    "ExecuteTime": {
     "end_time": "2024-04-30T08:19:03.246114Z",
     "start_time": "2024-04-30T08:19:03.059666200Z"
    }
   },
   "outputs": [
    {
     "name": "stdout",
     "output_type": "stream",
     "text": [
      "Tue Apr 30 11:19:03 2024       \n",
      "+-----------------------------------------------------------------------------------------+\n",
      "| NVIDIA-SMI 552.22                 Driver Version: 552.22         CUDA Version: 12.4     |\n",
      "|-----------------------------------------+------------------------+----------------------+\n",
      "| GPU  Name                     TCC/WDDM  | Bus-Id          Disp.A | Volatile Uncorr. ECC |\n",
      "| Fan  Temp   Perf          Pwr:Usage/Cap |           Memory-Usage | GPU-Util  Compute M. |\n",
      "|                                         |                        |               MIG M. |\n",
      "|=========================================+========================+======================|\n",
      "|   0  NVIDIA GeForce RTX 4060 ...  WDDM  |   00000000:01:00.0  On |                  N/A |\n",
      "| N/A   40C    P8              3W /   55W |     920MiB /   8188MiB |      1%      Default |\n",
      "|                                         |                        |                  N/A |\n",
      "+-----------------------------------------+------------------------+----------------------+\n",
      "                                                                                         \n",
      "+-----------------------------------------------------------------------------------------+\n",
      "| Processes:                                                                              |\n",
      "|  GPU   GI   CI        PID   Type   Process name                              GPU Memory |\n",
      "|        ID   ID                                                               Usage      |\n",
      "|=========================================================================================|\n",
      "|    0   N/A  N/A      3020    C+G   ...GeForce Experience\\NVIDIA Share.exe      N/A      |\n",
      "|    0   N/A  N/A      4876    C+G   ...0.0_x64__cv1g1gvanyjgm\\WhatsApp.exe      N/A      |\n",
      "|    0   N/A  N/A      7668    C+G   ...5n1h2txyewy\\ShellExperienceHost.exe      N/A      |\n",
      "|    0   N/A  N/A     11752    C+G   C:\\Windows\\explorer.exe                     N/A      |\n",
      "|    0   N/A  N/A     13572    C+G   ...nt.CBS_cw5n1h2txyewy\\SearchHost.exe      N/A      |\n",
      "|    0   N/A  N/A     13596    C+G   ...2txyewy\\StartMenuExperienceHost.exe      N/A      |\n",
      "|    0   N/A  N/A     14156    C+G   ...CBS_cw5n1h2txyewy\\TextInputHost.exe      N/A      |\n",
      "|    0   N/A  N/A     16000    C+G   ...werToys\\PowerToys.PowerLauncher.exe      N/A      |\n",
      "|    0   N/A  N/A     17188    C+G   ...on\\124.0.2478.67\\msedgewebview2.exe      N/A      |\n",
      "|    0   N/A  N/A     17248    C+G   ...t.LockApp_cw5n1h2txyewy\\LockApp.exe      N/A      |\n",
      "|    0   N/A  N/A     18104    C+G   ...siveControlPanel\\SystemSettings.exe      N/A      |\n",
      "|    0   N/A  N/A     22256    C+G   ...ASUSACCI\\ArmouryCrateKeyControl.exe      N/A      |\n",
      "+-----------------------------------------------------------------------------------------+\n"
     ]
    }
   ],
   "source": [
    "# Enable CUDA, use if supported\n",
    "device = torch.device(\"cuda\" if torch.cuda.is_available() else \"cpu\")\n",
    "\n",
    "gpu_info = !nvidia-smi\n",
    "gpu_info = '\\n'.join(gpu_info)\n",
    "if gpu_info.find('failed') >= 0:\n",
    "  print('Not connected to a GPU')\n",
    "else:\n",
    "  print(gpu_info)"
   ]
  },
  {
   "cell_type": "code",
   "outputs": [],
   "source": [
    "# To empty GPU cache - No need to run\n",
    "torch.cuda.empty_cache()\n",
    "torch.cuda.reset_peak_memory_stats()"
   ],
   "metadata": {
    "collapsed": false,
    "ExecuteTime": {
     "end_time": "2024-04-25T16:35:44.523414100Z",
     "start_time": "2024-04-25T16:35:44.519385100Z"
    }
   },
   "id": "6ac6c06b25d50eb1",
   "execution_count": 23
  },
  {
   "cell_type": "markdown",
   "id": "ca9c2d7b0168bd9c",
   "metadata": {
    "collapsed": false
   },
   "source": [
    "## Task\n",
    "\n",
    "$$\\mathbf{x} \\longrightarrow  \\boxed{\\text{Physical Model}} \\longrightarrow \\mathbf{y}  \\longrightarrow \\boxed{\\text{Estimator}}  \\longrightarrow \\hat{\\mathbf{x}}$$ \n",
    "\n",
    "### Physical Model\n",
    "$$ \\mathbf{y} = \\mathbf{g}(\\mathbf{x};\\mathbf{L}) + \\mathbf{w} $$\n",
    "\n",
    "- $\\mathbf{x} \\sim p(\\mathbf{x})$.\n",
    "- $\\mathbf{g}$ - a non-linear measurement function.\n",
    "- $\\mathbf{L}$ - the Laplacian matrix of the graph.\n",
    " \n",
    "### Estimator\n",
    "- $\\mathbf{y}$ - input of the estimator\n",
    "- $\\mathbf{x}$ - ground-truth corresponding label\n",
    "- The estimator is given a dataset pairs of $\\{\\mathbf{x_t}, \\mathbf{y_t} \\}_t$ for training.\n",
    "\n",
    "**Goal**: The estimator should recover $\\mathbf{x}$ out of $\\mathbf{y}$ with minimum MSE.\n",
    "#### GSP-based\n",
    "\n",
    "Use a GSP-based technique for estimation.\n",
    "\n",
    "#### GNN-based\n",
    "\n",
    "Use a GNN deep-learning architecture for estimation.\n",
    "\n",
    "**NOTE:**  $\\mathbf{y}$ is the input to the DP model and $\\mathbf{x}$ is the output (i.e., the label) not vise versa!"
   ]
  },
  {
   "cell_type": "markdown",
   "id": "6e5f862e6b2a95fa",
   "metadata": {
    "collapsed": false
   },
   "source": [
    "## Part 1: Physical Model"
   ]
  },
  {
   "cell_type": "code",
   "execution_count": 13,
   "id": "860a8f216a91cbae",
   "metadata": {
    "collapsed": false,
    "ExecuteTime": {
     "end_time": "2024-04-30T08:19:07.418165500Z",
     "start_time": "2024-04-30T08:19:07.415031100Z"
    }
   },
   "outputs": [],
   "source": [
    "def laplacian_evd(Y):\n",
    "    L = - np.imag(Y)\n",
    "    Lambda, V = np.linalg.eig(L)\n",
    "    Lambda = np.real(Lambda)\n",
    "    sorted_indices = np.argsort(Lambda)\n",
    "    Lambda = Lambda[sorted_indices]\n",
    "    Lambda = np.diag(Lambda)\n",
    "    V = V[:, sorted_indices]\n",
    "    return L, Lambda, V\n",
    "    \n",
    "def g_xL(Y, x):\n",
    "    v = np.exp(1j * x)\n",
    "    g_x = np.real(v * np.conj(Y @ v))\n",
    "    return g_x\n",
    "    \n",
    "def generate_data(nt, Y, Lambda, V, beta=3, c_ww=0.05):\n",
    "    N = Y.shape[0]\n",
    "    xt = (V[:, 1:] @ np.random.multivariate_normal(np.zeros(N - 1), beta * np.diag(1 / np.diag(Lambda)[1:]), nt).T).T\n",
    "    if nt == 1:\n",
    "        xt = xt[0, :]\n",
    "    \n",
    "    yt = np.zeros(xt.shape)\n",
    "    for t in range(0, nt):\n",
    "        yt[t] = g_xL(Y, xt[t])\n",
    "    yt += np.sqrt(c_ww) * np.random.randn(yt.shape[0], yt.shape[1])\n",
    "    \n",
    "    return xt, yt"
   ]
  },
  {
   "cell_type": "markdown",
   "id": "2f1667db35646052",
   "metadata": {
    "collapsed": false
   },
   "source": [
    "## Part 2: GSP-LMMSE Estimator\n",
    "\n",
    "The GSP-LMMSE estimator is defined as an estimator which minimize the MSE among all estimators in the form of a graph filter:\n",
    "$$\n",
    "\\{\\bf{h}, \\bf{b} \\} = \\text{argmin}~ \\mathbb{E} [(\\bf{x} - \\hat{\\bf{x}}(\\bf{y}))^2]\n",
    "$$\n",
    "\n",
    "where $\\hat{\\bf{x}}(\\bf{y}) =  \\bf{V} \\text{diag} (\\bf{h}) \\bf{V}^T \\bf{y}+ \\bf{b}$.\n",
    "\n",
    "A closed form expression would be:\n",
    "$$ \\hat{\\bf{x}}(\\bf{y}) =  \\bf{V} \\text{diag} (\\bf{d}_{\\bf{xy}}\\oslash \\bf{d}_{\\bf{yy}}) \\bf{V}^T \\bf{y} + \\bar{\\bf{x}}$$\n",
    "\n",
    "where $\\bf{d}_{\\bf{xy}} := \\text{diag}(\\text{cov}(\\bf{V}^T \\bf{x}, \\bf{V}^T \\bf{y}))$, $\\bf{d}_{\\bf{yy}} := \\text{diag}(\\text{var}(\\bf{V}^T \\bf{y}))$ and $\\bar{\\bf{x}} :=\\mathbb{E}\\bf{x}$"
   ]
  },
  {
   "cell_type": "code",
   "execution_count": 14,
   "id": "b344e0714d5c5312",
   "metadata": {
    "collapsed": false,
    "ExecuteTime": {
     "end_time": "2024-04-30T08:19:09.467622Z",
     "start_time": "2024-04-30T08:19:09.460190100Z"
    }
   },
   "outputs": [],
   "source": [
    "def train_gsp_lmmse_estimator(xt, yt, V):\n",
    "    xt = xt.T     # column vectors representation\n",
    "    yt = yt.T     # column vectors representation\n",
    "\n",
    "    xt_mean = np.mean(xt, axis=1)[:, np.newaxis]\n",
    "    yt_mean = np.mean(yt, axis=1)[:, np.newaxis]\n",
    "\n",
    "    d_xy = np.mean( ( V.T @ (xt - xt_mean) ) * ( V.T @ (yt - yt_mean) ) , axis=1)\n",
    "\n",
    "    d_yy = np.mean( ( V.T @ (yt - yt_mean) ) ** 2 , axis=1)\n",
    "    \n",
    "    h = d_xy / d_yy\n",
    "\n",
    "    return h, xt_mean\n",
    "\n",
    "def test_estimator_mse(h, b, xt_test, yt_test, V):\n",
    "    xt_test = xt_test.T     # column vectors representation\n",
    "    yt_test = yt_test.T     # column vectors representation\n",
    "\n",
    "    err = V @ np.diag(h) @ V.T @ yt_test + b - xt_test\n",
    "    s_mse = np.linalg.norm(err, axis=0)\n",
    "    mse = np.mean(s_mse)\n",
    "    return mse\n"
   ]
  },
  {
   "cell_type": "markdown",
   "id": "2d1c730c8e33707b",
   "metadata": {
    "collapsed": false
   },
   "source": [
    "## Part 3: GNN and Deep Learning based Estimation\n",
    "\n",
    "### Define Model Architecture"
   ]
  },
  {
   "cell_type": "code",
   "execution_count": 15,
   "id": "2196692421d14ac6",
   "metadata": {
    "collapsed": false,
    "ExecuteTime": {
     "end_time": "2024-04-30T08:19:12.312428600Z",
     "start_time": "2024-04-30T08:19:12.305514600Z"
    }
   },
   "outputs": [],
   "source": [
    "class GNN(torch.nn.Module):\n",
    "    def __init__(self):\n",
    "        super(GNN, self).__init__()\n",
    "        # Since input and output features are 1, we set up the intermediate layers with a higher dimension\n",
    "        # Intermediate dimension for hidden layers\n",
    "        hidden_dim = 16\n",
    "        K = 30\n",
    "        # First GCN layer with 1 input feature and hidden_dim output features\n",
    "        self.conv1 = tg.nn.ChebConv(1, hidden_dim,  K=K, normalization=None)\n",
    "        # Second GCN layer\n",
    "        self.conv2 = tg.nn.ChebConv(hidden_dim, hidden_dim,  K=K, normalization=None)\n",
    "        # Third GCN layer, outputs hidden_dim features\n",
    "        self.conv3 = tg.nn.ChebConv(hidden_dim, hidden_dim,  K=K, normalization=None)\n",
    "        # Output linear layer to reduce back to 1 feature\n",
    "        self.linear = torch.nn.Linear(hidden_dim, 1, )\n",
    "        self.relu1 = nn.LeakyReLU()\n",
    "        self.relu2 = nn.LeakyReLU()\n",
    "        # self.relu1 = nn.LeakyReLU()\n",
    "\n",
    "    def forward(self, data):\n",
    "        x, edge_index, edge_weight = data.x, data.edge_index, data.edge_attr\n",
    "\n",
    "        # Apply the first convolution\n",
    "        x = self.conv1(x, edge_index, edge_weight=edge_weight)\n",
    "        x = self.relu1(x)  \n",
    "        # x = F.dropout(x, training=self.training)  # Apply dropout to avoid overfitting\n",
    "\n",
    "        # Apply the second convolution\n",
    "        x = self.conv2(x, edge_index, edge_weight=edge_weight)\n",
    "        x = self.relu2(x)  \n",
    "        # x = F.dropout(x, training=self.training)  # Apply dropout to avoid overfitting\n",
    "\n",
    "        # Apply the third convolution\n",
    "        x = self.conv3(x, edge_index, edge_weight=edge_weight)\n",
    "        # x = F.relu(x)\n",
    "\n",
    "        # Apply a final linear transformation\n",
    "        x = self.linear(x)\n",
    "\n",
    "        return x"
   ]
  },
  {
   "cell_type": "markdown",
   "id": "4cb09e26efe52704",
   "metadata": {
    "collapsed": false
   },
   "source": [
    "### Define training function\n",
    "\n",
    "In order to run on GPU via CUDA set device accordingly."
   ]
  },
  {
   "cell_type": "code",
   "execution_count": 16,
   "id": "b411d15073a81b43",
   "metadata": {
    "collapsed": false,
    "ExecuteTime": {
     "end_time": "2024-04-30T08:19:15.659334100Z",
     "start_time": "2024-04-30T08:19:15.649417500Z"
    }
   },
   "outputs": [],
   "source": [
    "def train_model(model, train_data, valid_data, batch_size=500, valid_batch_size = 200, epochs=40, lr=0.01, weight_decay=1e-4, device='cpu'):\n",
    "    \n",
    "    train_loader = DataLoader(train_data, batch_size=batch_size, shuffle=True)\n",
    "    valid_loader = DataLoader(valid_data, batch_size=valid_batch_size, shuffle=False)\n",
    "\n",
    "    criterion = nn.MSELoss()\n",
    "    optimizer = torch.optim.Adam(model.parameters(), lr=lr, weight_decay=weight_decay)\n",
    "    \n",
    "    train_mse, valid_mse = [], []\n",
    "    \n",
    "    best_state_dict = None\n",
    "    best_val_loss = float('inf')\n",
    "    \n",
    "    for epoch in range(epochs):\n",
    "                \n",
    "        # Training\n",
    "        model.train() \n",
    "        # train_loss = 0\n",
    "        # iters = 0\n",
    "        # test_loss = None\n",
    "        for data in train_loader:\n",
    "            data = data.to(device) \n",
    "            optimizer.zero_grad()\n",
    "            out = model(data)\n",
    "            loss = criterion(out, data.y)\n",
    "            loss.backward()\n",
    "            optimizer.step()\n",
    "            # test_loss = float(loss.item())\n",
    "            # train_loss += float(loss.item())\n",
    "            # iters += 1\n",
    "        test_loss = evaluate_model(model, train_loader, device=device)\n",
    "        train_mse.append(test_loss)\n",
    "\n",
    "        # Validation\n",
    "        valid_loss = evaluate_model(model, valid_loader, device=device)\n",
    "        valid_mse.append(valid_loss)\n",
    "\n",
    "        if valid_mse[-1] <= min(valid_mse):\n",
    "            print(\"Current State Saved\")\n",
    "            # torch.save(model.state_dict(), path + f\"{valid_mse[-1]}.pk\")\n",
    "            best_state_dict = model.state_dict()\n",
    "            best_val_loss = valid_mse[-1]\n",
    "\n",
    "        print(f\"Epoch: {epoch}, Train MSE {train_mse[-1]}, Validation MSE {valid_mse[-1]}\")\n",
    "    \n",
    "    return train_mse, valid_mse, best_state_dict, best_val_loss\n",
    "        \n",
    "def evaluate_model(model, test_loader, device='cpu'):\n",
    "    # criterion = nn.MSELoss(reduction='sum')\n",
    "    N = test_loader.dataset[0].x.shape[0]\n",
    "    model.eval()\n",
    "    mse = 0\n",
    "    iters = 0\n",
    "    with torch.no_grad():\n",
    "        for data in test_loader:\n",
    "            data = data.to(device) \n",
    "    \n",
    "            output = model(data)\n",
    "            # loss = criterion(output,data.y)\n",
    "            # mse += float(loss.item())\n",
    "            # print(f\"{output.shape}, {data.y.shape}\")\n",
    "            err = output - data.y\n",
    "            err = err.view(-1, N)\n",
    "            s_mse = torch.linalg.norm(err, dim=1)\n",
    "            m_mse = torch.mean(s_mse)\n",
    "            mse += m_mse\n",
    "            iters += 1\n",
    "    # print(s_mse)\n",
    "    # print(f\"{s_mse.shape}\")\n",
    "    # print(f\"{m_mse}\")\n",
    "    return float(mse) / iters\n",
    "\n",
    "def plot_learning_curve(train_mse, valid_mse):\n",
    "    plt.figure(figsize=(10, 5))\n",
    "    plt.plot(train_mse, label='Training MSE', color='blue')\n",
    "    plt.plot(valid_mse, label='Validation MSE', color='black')\n",
    "    plt.title('Training and Validation Losses')\n",
    "    plt.xlabel('Epochs')\n",
    "    plt.ylabel('MSE')\n",
    "    plt.legend()\n",
    "    plt.show()"
   ]
  },
  {
   "cell_type": "markdown",
   "id": "89560b0932c2d00d",
   "metadata": {
    "collapsed": false
   },
   "source": [
    "## Part 4: Train\n",
    "We will test the estimators performances in different dataset sizes $n_t$ and compare the results.\n",
    "Define the $n_t$'s we would like to test:"
   ]
  },
  {
   "cell_type": "code",
   "outputs": [
    {
     "name": "stdout",
     "output_type": "stream",
     "text": [
      "nt_array = [    10    100   1000  10000 100000]\n"
     ]
    }
   ],
   "source": [
    "nt_arr = np.arange(1, 6)\n",
    "nt_arr = np.power(10, nt_arr)\n",
    "print(f\"nt_array = {nt_arr}\")"
   ],
   "metadata": {
    "collapsed": false,
    "ExecuteTime": {
     "end_time": "2024-04-30T08:19:19.663177200Z",
     "start_time": "2024-04-30T08:19:19.655503600Z"
    }
   },
   "id": "3594d836612d41",
   "execution_count": 17
  },
  {
   "cell_type": "markdown",
   "source": [
    "Generate a dataset of size $\\texttt{nt_array[i]}$.\n",
    "Please select the $i$.\n",
    "Then we will train the model for this dataset.\n",
    "You can adjust th hyper-parameters for better convergence."
   ],
   "metadata": {
    "collapsed": false
   },
   "id": "c18b95f98ce2b8ec"
  },
  {
   "cell_type": "code",
   "outputs": [],
   "source": [
    "filename = drive_path + 'grid_data_ieee118cdf.mat'\n",
    "grid_data = sio.loadmat(filename)\n",
    "Y = grid_data['Y']\n",
    "N = Y.shape[0]\n",
    "L, Lambda, V = laplacian_evd(Y)\n",
    "c_ww = 0.4\n",
    "L_sparse = ssparse.csr_matrix(np.diag(np.diag(L)) -L)\n",
    "edge_index, edge_weight = tg.utils.from_scipy_sparse_matrix(L_sparse)\n",
    "edge_weight = edge_weight.to(dtype=torch.float32)"
   ],
   "metadata": {
    "collapsed": false,
    "ExecuteTime": {
     "end_time": "2024-04-30T08:24:00.111586300Z",
     "start_time": "2024-04-30T08:24:00.049873600Z"
    }
   },
   "id": "a59ac5371a3b0837",
   "execution_count": 30
  },
  {
   "cell_type": "code",
   "outputs": [
    {
     "name": "stdout",
     "output_type": "stream",
     "text": [
      "Current State Saved\n",
      "Epoch: 0, Train MSE 9.0376220703125, Validation MSE 9.008775329589843\n",
      "Current State Saved\n",
      "Epoch: 1, Train MSE 7.839710235595703, Validation MSE 7.882241821289062\n",
      "Current State Saved\n",
      "Epoch: 2, Train MSE 7.22979965209961, Validation MSE 7.283677673339843\n",
      "Current State Saved\n",
      "Epoch: 3, Train MSE 6.801378631591797, Validation MSE 6.857171630859375\n",
      "Current State Saved\n",
      "Epoch: 4, Train MSE 6.460869598388672, Validation MSE 6.518212890625\n",
      "Current State Saved\n",
      "Epoch: 5, Train MSE 6.181130599975586, Validation MSE 6.238162231445313\n",
      "Current State Saved\n",
      "Epoch: 6, Train MSE 5.937953186035156, Validation MSE 5.9957633972167965\n",
      "Current State Saved\n",
      "Epoch: 7, Train MSE 5.7414695739746096, Validation MSE 5.800164031982422\n",
      "Current State Saved\n",
      "Epoch: 8, Train MSE 5.587727355957031, Validation MSE 5.647321319580078\n",
      "Current State Saved\n",
      "Epoch: 9, Train MSE 5.459206390380859, Validation MSE 5.520140075683594\n",
      "Current State Saved\n",
      "Epoch: 10, Train MSE 5.35304069519043, Validation MSE 5.41473617553711\n",
      "Current State Saved\n",
      "Epoch: 11, Train MSE 5.256460571289063, Validation MSE 5.318716812133789\n",
      "Current State Saved\n",
      "Epoch: 12, Train MSE 5.166363906860352, Validation MSE 5.2288368225097654\n",
      "Current State Saved\n",
      "Epoch: 13, Train MSE 5.0862163543701175, Validation MSE 5.149006652832031\n",
      "Current State Saved\n",
      "Epoch: 14, Train MSE 5.003404235839843, Validation MSE 5.065806198120117\n",
      "Current State Saved\n",
      "Epoch: 15, Train MSE 4.928436279296875, Validation MSE 4.9905235290527346\n",
      "Current State Saved\n",
      "Epoch: 16, Train MSE 4.8592571258544925, Validation MSE 4.920693206787109\n",
      "Current State Saved\n",
      "Epoch: 17, Train MSE 4.796337127685547, Validation MSE 4.857056045532227\n",
      "Current State Saved\n",
      "Epoch: 18, Train MSE 4.735473251342773, Validation MSE 4.795278930664063\n",
      "Current State Saved\n",
      "Epoch: 19, Train MSE 4.675740051269531, Validation MSE 4.734286499023438\n",
      "Current State Saved\n",
      "Epoch: 20, Train MSE 4.620382308959961, Validation MSE 4.67756233215332\n",
      "Current State Saved\n",
      "Epoch: 21, Train MSE 4.563907241821289, Validation MSE 4.620550918579101\n",
      "Current State Saved\n",
      "Epoch: 22, Train MSE 4.525201797485352, Validation MSE 4.5804603576660154\n",
      "Current State Saved\n",
      "Epoch: 23, Train MSE 4.4931079864501955, Validation MSE 4.543048477172851\n",
      "Current State Saved\n",
      "Epoch: 24, Train MSE 4.379558563232422, Validation MSE 4.428297424316407\n",
      "Current State Saved\n",
      "Epoch: 25, Train MSE 4.324357604980468, Validation MSE 4.371158218383789\n",
      "Current State Saved\n",
      "Epoch: 26, Train MSE 4.2659767150878904, Validation MSE 4.310392761230469\n",
      "Current State Saved\n",
      "Epoch: 27, Train MSE 4.17008056640625, Validation MSE 4.207834243774414\n",
      "Current State Saved\n",
      "Epoch: 28, Train MSE 4.077402496337891, Validation MSE 4.111346054077148\n",
      "Current State Saved\n",
      "Epoch: 29, Train MSE 4.0814155578613285, Validation MSE 4.107412338256836\n",
      "Current State Saved\n",
      "Epoch: 30, Train MSE 3.9827903747558593, Validation MSE 4.011012268066406\n",
      "Current State Saved\n",
      "Epoch: 31, Train MSE 3.867157745361328, Validation MSE 3.889902114868164\n",
      "Epoch: 32, Train MSE 5.652006912231445, Validation MSE 5.671974182128906\n",
      "Current State Saved\n",
      "Epoch: 33, Train MSE 3.6775691986083983, Validation MSE 3.693039321899414\n",
      "Epoch: 34, Train MSE 3.755611801147461, Validation MSE 3.7674007415771484\n",
      "Epoch: 35, Train MSE 3.7357215881347656, Validation MSE 3.7475353240966798\n",
      "Current State Saved\n",
      "Epoch: 36, Train MSE 3.516958236694336, Validation MSE 3.5302772521972656\n",
      "Epoch: 37, Train MSE 3.5439300537109375, Validation MSE 3.556806182861328\n",
      "Current State Saved\n",
      "Epoch: 38, Train MSE 3.4559982299804686, Validation MSE 3.469136047363281\n",
      "Epoch: 39, Train MSE 3.8490081787109376, Validation MSE 3.8625938415527346\n"
     ]
    },
    {
     "data": {
      "text/plain": "<Figure size 1000x500 with 1 Axes>",
      "image/png": "[encoded data removed]"
     },
     "metadata": {},
     "output_type": "display_data"
    }
   ],
   "source": [
    "i = 3\n",
    "nt = nt_arr[i]\n",
    "xt_total, yt_total = generate_data(nt, Y, Lambda, V, c_ww=c_ww)\n",
    "\n",
    "lr = 0.02\n",
    "batch_size = 50\n",
    "# path = drive_path + f\"model1_nt_{nt}_lr_{lr}_bs_{batch_size}\"\n",
    "GNN_model = GNN()\n",
    "\n",
    "xt_total = torch.tensor(xt_total, dtype=torch.float32)\n",
    "yt_total = torch.tensor(yt_total, dtype=torch.float32)\n",
    "\n",
    "# NOTE: yt is the input for the model, and xt is the label, in Data object x is the input and y is the label!\n",
    "total_data = [Data(x=yt_total[i].unsqueeze(-1), y=xt_total[i].unsqueeze(-1), edge_index=edge_index, edge_attr=edge_weight) for i in range(len(yt_total))]\n",
    "\n",
    "train_data = total_data[:int(len(total_data) * 0.8)]\n",
    "valid_data = total_data[int(len(total_data) * 0.8):]\n",
    "\n",
    "GNN_model.to(device)\n",
    "\n",
    "train_mse, valid_mse, best_state_dict, best_val_loss = train_model(GNN_model, train_data, valid_data, batch_size=batch_size, lr = lr, device=device)\n",
    "torch.save(best_state_dict, drive_path + f\"models/model1_nt_{nt}_lr_{lr}_bs_{batch_size}_loss_{best_val_loss}.pk\")\n",
    "\n",
    "plot_learning_curve(train_mse, valid_mse)"
   ],
   "metadata": {
    "collapsed": false,
    "ExecuteTime": {
     "end_time": "2024-04-30T10:34:37.780542300Z",
     "start_time": "2024-04-30T10:28:59.493380900Z"
    }
   },
   "id": "8159c1744d97022e",
   "execution_count": 63
  },
  {
   "cell_type": "markdown",
   "id": "de1915ae1723bcbb",
   "metadata": {
    "collapsed": false
   },
   "source": [
    "## Part 4: Comparison\n",
    "After we train the DL model for all data sizes we will compare its performance to those of the GSP-LMMSE estimator."
   ]
  },
  {
   "cell_type": "code",
   "outputs": [
    {
     "name": "stdout",
     "output_type": "stream",
     "text": [
      "[{'file': './models/model_nt_10_lr_0.02_bs_5_loss_8.850927352905273.pk', 'nt': 10, 'loss': 8.850927352905273}]\n",
      "[{'file': './models/model1_nt_100_lr_0.017_bs_75_loss_7.788823127746582.pk', 'nt': 100, 'loss': 7.788823127746582}, {'file': './models/model1_nt_100_lr_0.01_bs_100_loss_15.756387710571289.pk', 'nt': 100, 'loss': 15.756387710571289}, {'file': './models/model1_nt_100_lr_0.01_bs_10_loss_9.4478178024292.pk', 'nt': 100, 'loss': 9.4478178024292}, {'file': './models/model1_nt_100_lr_0.02_bs_5_loss_6.5818047523498535.pk', 'nt': 100, 'loss': 6.5818047523498535}, {'file': './models/model1_nt_100_lr_0.05_bs_5_loss_8.85502815246582.pk', 'nt': 100, 'loss': 8.85502815246582}]\n",
      "[{'file': './models/model1_nt_1000_lr_0.02_bs_5_loss_3.391406774520874.pk', 'nt': 1000, 'loss': 3.391406774520874}, {'file': './models/model1_nt_1000_lr_0.02_bs_75_loss_7.407615661621094.pk', 'nt': 1000, 'loss': 7.407615661621094}]\n",
      "[{'file': './models/model1_nt_10000_lr_0.01_bs_100_loss_5.089002227783203.pk', 'nt': 10000, 'loss': 5.089002227783203}, {'file': './models/model1_nt_10000_lr_0.02_bs_50_loss_3.469136047363281.pk', 'nt': 10000, 'loss': 3.469136047363281}]\n",
      "[{'file': './models/model1_nt_100000_lr_0.01_bs_1000_loss_3.549333190917969.pk', 'nt': 100000, 'loss': 3.549333190917969}]\n",
      "nt: 10 loss: 8.850927352905273\n",
      "nt: 100 loss: 6.5818047523498535\n",
      "nt: 1000 loss: 3.391406774520874\n",
      "nt: 10000 loss: 3.469136047363281\n",
      "nt: 100000 loss: 3.549333190917969\n"
     ]
    }
   ],
   "source": [
    "import glob\n",
    "\n",
    "models_prop = []\n",
    "models_path = drive_path + \"models/*\"\n",
    "files = sorted([file for file in glob.glob(models_path)])\n",
    "for file in files:\n",
    "    file = file.replace(\"\\\\\", \"/\")\n",
    "    name = \".\".join(file.split(\"/\")[-1].split(\".\")[0:-1])\n",
    "    # print(name)\n",
    "    prop = name.split(\"_\")\n",
    "    models_prop.append({})\n",
    "    models_prop[-1][\"file\"] = file\n",
    "    models_prop[-1][\"nt\"] = int(prop[2])\n",
    "    models_prop[-1][\"loss\"] = float(prop[-1])\n",
    "    # print(f\"nt: {models_prop[-1][\"nt\"]} loss: {models_prop[-1]['loss']}\")\n",
    "\n",
    "# print(models_prop)\n",
    "best_models = {}\n",
    "\n",
    "for nt in nt_arr:\n",
    "    filtered_prop = [prop for prop in models_prop if prop['nt'] == nt]\n",
    "    print(filtered_prop)\n",
    "    if filtered_prop:\n",
    "        best_models[nt] = (min(filtered_prop, key=lambda x: x['loss']))\n",
    "\n",
    "for md in best_models:\n",
    "    print(f\"nt: {best_models[md]['nt']} loss: {best_models[md]['loss']}\")"
   ],
   "metadata": {
    "collapsed": false,
    "ExecuteTime": {
     "end_time": "2024-04-30T10:34:49.846668900Z",
     "start_time": "2024-04-30T10:34:49.838723100Z"
    }
   },
   "id": "2c2cbcefa4270328",
   "execution_count": 64
  },
  {
   "cell_type": "code",
   "outputs": [
    {
     "data": {
      "text/plain": "<Figure size 1000x500 with 1 Axes>",
      "image/png": "[encoded data removed]"
     },
     "metadata": {},
     "output_type": "display_data"
    }
   ],
   "source": [
    "gnn_mse_nt = np.full(len(nt_arr), np.inf)\n",
    "gsp_mse_nt = np.full(len(nt_arr), np.inf)\n",
    "\n",
    "for i in range(len(nt_arr)):\n",
    "    nt = nt_arr[i]\n",
    "    xt_train_gnn, yt_train_gsp = generate_data(nt, Y, Lambda, V, c_ww=c_ww)\n",
    "    xt_test, yt_test = generate_data(50000, Y, Lambda, V, c_ww=c_ww)\n",
    "    \n",
    "    h_gsp, b_gsp = train_gsp_lmmse_estimator(xt_train_gnn, yt_train_gsp, V)\n",
    "    mse_gsp = test_estimator_mse(h_gsp, b_gsp, xt_test, yt_test, V)\n",
    "    gsp_mse_nt[i] = mse_gsp\n",
    "    \n",
    "    if nt not in best_models:\n",
    "        continue\n",
    "        \n",
    "    yt_test_torch = torch.tensor(yt_test, dtype=torch.float32)\n",
    "    xt_test_torch = torch.tensor(xt_test, dtype=torch.float32)\n",
    "        \n",
    "    GNN_model = GNN()\n",
    "    GNN_model.load_state_dict(torch.load(best_models[nt]['file']))\n",
    "    GNN_model.to(device)\n",
    "    \n",
    "    test_data = [Data(x=yt_test_torch[i].unsqueeze(-1), y=xt_test_torch[i].unsqueeze(-1), edge_index=edge_index, edge_attr=edge_weight) for i in range(len(yt_test))]\n",
    "    test_loader = DataLoader(test_data, batch_size=200, shuffle=False)\n",
    "\n",
    "    mse_gnn = evaluate_model(GNN_model, test_loader, device=device)\n",
    "    gnn_mse_nt[i] = mse_gnn\n",
    "\n",
    "plt.figure(figsize=(10, 5))\n",
    "plt.semilogx(np.array(nt_arr)[gnn_mse_nt != np.inf], gnn_mse_nt[gnn_mse_nt != np.inf], label='GNN', color='blue')\n",
    "plt.semilogx( np.array(nt_arr), gsp_mse_nt, label='GSP', color='black')\n",
    "plt.title('MSE')\n",
    "plt.xlabel('nt')\n",
    "plt.ylabel('MSE')\n",
    "plt.legend()\n",
    "plt.show()"
   ],
   "metadata": {
    "collapsed": false,
    "ExecuteTime": {
     "end_time": "2024-04-30T10:36:03.510526600Z",
     "start_time": "2024-04-30T10:35:01.341999400Z"
    }
   },
   "id": "9f7148426bfc0538",
   "execution_count": 65
  },
  {
   "cell_type": "code",
   "outputs": [],
   "source": [
    "gnn_mse_nt = np.full(len(nt_arr), np.inf)\n",
    "gsp_mse_nt = np.full(len(nt_arr), np.inf)\n",
    "\n",
    "for i in range(len(nt_arr)):\n",
    "    nt = nt_arr[i]\n",
    "    xt_train_gnn, yt_train_gsp = generate_data(nt, Y, Lambda, V, c_ww=c_ww)\n",
    "    xt_test, yt_test = generate_data(50000, Y, Lambda, V, c_ww=c_ww)\n",
    "    \n",
    "    h_gsp, b_gsp = train_gsp_lmmse_estimator(xt_train_gnn, yt_train_gsp, V)\n",
    "    mse_gsp = test_estimator_mse(h_gsp, b_gsp, xt_test, yt_test, V)\n",
    "    gsp_mse_nt[i] = mse_gsp\n",
    "    \n",
    "    if nt not in best_models:\n",
    "        continue\n",
    "        \n",
    "    yt_test_torch = torch.tensor(yt_test, dtype=torch.float32)\n",
    "    xt_test_torch = torch.tensor(xt_test, dtype=torch.float32)\n",
    "        \n",
    "    GNN_model = GNN()\n",
    "    GNN_model.load_state_dict(torch.load(best_models[nt]['file']))\n",
    "    GNN_model.to(device)\n",
    "    \n",
    "    test_data = [Data(x=yt_test_torch[i].unsqueeze(-1), y=xt_test_torch[i].unsqueeze(-1), edge_index=edge_index, edge_attr=edge_weight) for i in range(len(yt_test))]\n",
    "    test_loader = DataLoader(test_data, batch_size=200, shuffle=False)\n",
    "\n",
    "    mse_gnn = evaluate_model(GNN_model, test_loader, device=device)\n",
    "    gnn_mse_nt[i] = mse_gnn\n",
    "\n",
    "plt.figure(figsize=(10, 5))\n",
    "plt.semilogx(np.array(nt_arr)[gnn_mse_nt != np.inf], gnn_mse_nt[gnn_mse_nt != np.inf], label='GNN', color='blue')\n",
    "plt.semilogx( np.array(nt_arr), gsp_mse_nt, label='GSP', color='black')\n",
    "plt.title('MSE')\n",
    "plt.xlabel('nt')\n",
    "plt.ylabel('MSE')\n",
    "plt.legend()\n",
    "plt.show()"
   ],
   "metadata": {
    "collapsed": false
   },
   "id": "d57f0adee34122e4"
  },
  {
   "cell_type": "markdown",
   "source": [],
   "metadata": {
    "collapsed": false
   },
   "id": "6da45120c71f1e7d"
  },
  {
   "cell_type": "code",
   "outputs": [],
   "source": [],
   "metadata": {
    "collapsed": false
   },
   "id": "320046b4ec25cd53"
  }
 ],
 "metadata": {
  "kernelspec": {
   "display_name": "Python 3 (ipykernel)",
   "language": "python",
   "name": "python3"
  },
  "language_info": {
   "codemirror_mode": {
    "name": "ipython",
    "version": 3
   },
   "file_extension": ".py",
   "mimetype": "text/x-python",
   "name": "python",
   "nbconvert_exporter": "python",
   "pygments_lexer": "ipython3",
   "version": "3.12.2"
  }
 },
 "nbformat": 4,
 "nbformat_minor": 5
}
