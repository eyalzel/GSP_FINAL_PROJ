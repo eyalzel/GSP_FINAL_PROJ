{
 "cells": [
  {
   "cell_type": "markdown",
   "id": "a7269907016b4ac8",
   "metadata": {
    "collapsed": false
   },
   "source": [
    "# GSP Final Project\n",
    "In this notebook, we will demonstrate estimation of graph signals using a GSP-based technique vs.  a deep-learning-based technique. "
   ]
  },
  {
   "cell_type": "code",
   "execution_count": 38,
   "id": "51bc23eb3352395a",
   "metadata": {
    "collapsed": false,
    "ExecuteTime": {
     "end_time": "2024-04-24T20:02:19.232104700Z",
     "start_time": "2024-04-24T20:02:19.228265200Z"
    }
   },
   "outputs": [],
   "source": [
    "import util\n",
    "import torch\n",
    "import torch.nn as nn\n",
    "import numpy as np\n",
    "import scipy.sparse as ssparse\n",
    "import scipy.io as sio\n",
    "import torch_geometric as tg\n",
    "import matplotlib.pyplot as plt\n",
    "from torch_geometric.data import Data\n",
    "from torch_geometric.loader import DataLoader"
   ]
  },
  {
   "cell_type": "code",
   "execution_count": 39,
   "id": "cf0bb1d0827071d9",
   "metadata": {
    "collapsed": false,
    "ExecuteTime": {
     "end_time": "2024-04-24T20:02:21.155072900Z",
     "start_time": "2024-04-24T20:02:20.987842800Z"
    }
   },
   "outputs": [
    {
     "name": "stdout",
     "output_type": "stream",
     "text": [
      "Wed Apr 24 23:02:21 2024       \n",
      "+-----------------------------------------------------------------------------------------+\n",
      "| NVIDIA-SMI 552.22                 Driver Version: 552.22         CUDA Version: 12.4     |\n",
      "|-----------------------------------------+------------------------+----------------------+\n",
      "| GPU  Name                     TCC/WDDM  | Bus-Id          Disp.A | Volatile Uncorr. ECC |\n",
      "| Fan  Temp   Perf          Pwr:Usage/Cap |           Memory-Usage | GPU-Util  Compute M. |\n",
      "|                                         |                        |               MIG M. |\n",
      "|=========================================+========================+======================|\n",
      "|   0  NVIDIA GeForce RTX 4060 ...  WDDM  |   00000000:01:00.0  On |                  N/A |\n",
      "| N/A   44C    P8              3W /  115W |     579MiB /   8188MiB |      2%      Default |\n",
      "|                                         |                        |                  N/A |\n",
      "+-----------------------------------------+------------------------+----------------------+\n",
      "                                                                                         \n",
      "+-----------------------------------------------------------------------------------------+\n",
      "| Processes:                                                                              |\n",
      "|  GPU   GI   CI        PID   Type   Process name                              GPU Memory |\n",
      "|        ID   ID                                                               Usage      |\n",
      "|=========================================================================================|\n",
      "|    0   N/A  N/A      8444    C+G   ...t.LockApp_cw5n1h2txyewy\\LockApp.exe      N/A      |\n",
      "|    0   N/A  N/A     10320    C+G   C:\\Windows\\explorer.exe                     N/A      |\n",
      "|    0   N/A  N/A     11972    C+G   ...nt.CBS_cw5n1h2txyewy\\SearchHost.exe      N/A      |\n",
      "|    0   N/A  N/A     12092    C+G   ...2txyewy\\StartMenuExperienceHost.exe      N/A      |\n",
      "|    0   N/A  N/A     14196    C+G   ...5n1h2txyewy\\ShellExperienceHost.exe      N/A      |\n",
      "|    0   N/A  N/A     16784    C+G   ...ys\\WinUI3Apps\\PowerToys.Peek.UI.exe      N/A      |\n",
      "|    0   N/A  N/A     17564    C+G   ...werToys\\PowerToys.PowerLauncher.exe      N/A      |\n",
      "|    0   N/A  N/A     17708    C+G   ...ekyb3d8bbwe\\PhoneExperienceHost.exe      N/A      |\n",
      "|    0   N/A  N/A     18604    C+G   ...on\\123.0.2420.97\\msedgewebview2.exe      N/A      |\n",
      "|    0   N/A  N/A     18768    C+G   ...CBS_cw5n1h2txyewy\\TextInputHost.exe      N/A      |\n",
      "|    0   N/A  N/A     20524    C+G   ...les\\Microsoft OneDrive\\OneDrive.exe      N/A      |\n",
      "|    0   N/A  N/A     20808    C+G   ...Programs\\Microsoft VS Code\\Code.exe      N/A      |\n",
      "|    0   N/A  N/A     21860    C+G   ...Google\\NearbyShare\\nearby_share.exe      N/A      |\n",
      "|    0   N/A  N/A     24068    C+G   ...ASUSACCI\\ArmouryCrateKeyControl.exe      N/A      |\n",
      "|    0   N/A  N/A     27368    C+G   ...siveControlPanel\\SystemSettings.exe      N/A      |\n",
      "|    0   N/A  N/A     32192    C+G   ...crosoft\\Edge\\Application\\msedge.exe      N/A      |\n",
      "|    0   N/A  N/A     33328    C+G   ...GeForce Experience\\NVIDIA Share.exe      N/A      |\n",
      "|    0   N/A  N/A     34344    C+G   ...8.0_x64__cv1g1gvanyjgm\\WhatsApp.exe      N/A      |\n",
      "+-----------------------------------------------------------------------------------------+\n"
     ]
    }
   ],
   "source": [
    "# Enable CUDA\n",
    "device = torch.device(\"cuda\" if torch.cuda.is_available() else \"cpu\")\n",
    "\n",
    "gpu_info = !nvidia-smi\n",
    "gpu_info = '\\n'.join(gpu_info)\n",
    "if gpu_info.find('failed') >= 0:\n",
    "  print('Not connected to a GPU')\n",
    "else:\n",
    "  print(gpu_info)"
   ]
  },
  {
   "cell_type": "markdown",
   "id": "ca9c2d7b0168bd9c",
   "metadata": {
    "collapsed": false
   },
   "source": [
    "## Task\n",
    "\n",
    "$$\\mathbf{x} \\longrightarrow  \\boxed{\\text{Physical Model}} \\longrightarrow \\mathbf{y}  \\longrightarrow \\boxed{\\text{Estimator}}  \\longrightarrow \\hat{\\mathbf{x}}$$ \n",
    "\n",
    "### Physical Model\n",
    "$$ \\mathbf{y} = \\mathbf{g}(\\mathbf{x};\\mathbf{L}) + \\mathbf{w} $$\n",
    "\n",
    "- $\\mathbf{x} \\sim p(\\mathbf{x})$.\n",
    "- $\\mathbf{g}$ - a non-linear measurement function.\n",
    "- $\\mathbf{L}$ - the Laplacian matrix of the graph.\n",
    " \n",
    "### Estimator\n",
    "- $\\mathbf{y}$ - input of the estimator\n",
    "- $\\mathbf{x}$ - ground-truth corresponding label\n",
    "- The estimator is given a dataset pairs of $\\{\\mathbf{x_t}, \\mathbf{y_t} \\}_t$ for training.\n",
    "\n",
    "**Goal**: The estimator should recover $\\mathbf{x}$ out of $\\mathbf{y}$ with minimum MSE.\n",
    "#### GSP-based\n",
    "\n",
    "Use a GSP-based technique for estimation.\n",
    "\n",
    "#### GNN-based\n",
    "\n",
    "Use a GNN deep-learning architecture for estimation.\n",
    "\n",
    "**NOTE:**  $\\mathbf{y}$ is the input to the DP model and $\\mathbf{x}$ is the output (i.e., the label) not vise versa!"
   ]
  },
  {
   "cell_type": "markdown",
   "id": "6e5f862e6b2a95fa",
   "metadata": {
    "collapsed": false
   },
   "source": [
    "## Part 1: Physical Model"
   ]
  },
  {
   "cell_type": "code",
   "execution_count": 40,
   "id": "860a8f216a91cbae",
   "metadata": {
    "collapsed": false,
    "ExecuteTime": {
     "end_time": "2024-04-24T20:02:25.210484900Z",
     "start_time": "2024-04-24T20:02:25.058392400Z"
    }
   },
   "outputs": [],
   "source": [
    "def laplacian_evd(Y):\n",
    "    L = - np.imag(Y)\n",
    "    Lambda, V = np.linalg.eig(L)\n",
    "    Lambda = np.real(Lambda)\n",
    "    sorted_indices = np.argsort(Lambda)\n",
    "    Lambda = Lambda[sorted_indices]\n",
    "    Lambda = np.diag(Lambda)\n",
    "    V = V[:, sorted_indices]\n",
    "    return L, Lambda, V\n",
    "    \n",
    "def g_xL(Y, x):\n",
    "    v = np.exp(1j * x)\n",
    "    g_x = np.real(v * np.conj(Y @ v))\n",
    "    return g_x\n",
    "    \n",
    "def generate_data(nt, Y, Lambda, V, beta=3, c_ww=0.05):\n",
    "    N = Y.shape[0]\n",
    "    xt = (V[:, 1:] @ np.random.multivariate_normal(np.zeros(N - 1), beta * np.diag(1 / np.diag(Lambda)[1:]), nt).T).T\n",
    "    if nt == 1:\n",
    "        xt = xt[0, :]\n",
    "    \n",
    "    yt = np.zeros(xt.shape)\n",
    "    for t in range(0, nt):\n",
    "        yt[t] = g_xL(Y, xt[t])\n",
    "    yt += np.sqrt(c_ww) * np.random.randn(yt.shape[0], yt.shape[1])\n",
    "    \n",
    "    return xt, yt\n",
    "\n",
    "filename = 'grid_data_ieee118cdf.mat'\n",
    "grid_data = sio.loadmat(filename)\n",
    "Y = grid_data['Y']\n",
    "N = Y.shape[0]\n",
    "nt = 1000\n",
    "\n",
    "L, Lambda, V = laplacian_evd(Y)\n",
    "xt_train, yt_train = generate_data(nt, Y, Lambda, V, )"
   ]
  },
  {
   "cell_type": "markdown",
   "id": "2f1667db35646052",
   "metadata": {
    "collapsed": false
   },
   "source": [
    "## Part 2: GSP-LMMSE Estimator\n",
    "\n",
    "The GSP-LMMSE estimator is defined as an estimator which minimize the MSE among all estimators in the form of a graph filter:\n",
    "$$\n",
    "\\{\\bf{h}, \\bf{b} \\} = \\text{argmin}~ \\mathbb{E} [(\\bf{x} - \\hat{\\bf{x}}(\\bf{y}))^2]\n",
    "$$\n",
    "\n",
    "where $\\hat{\\bf{x}}(\\bf{y}) =  \\bf{V} \\text{diag} (\\bf{h}) \\bf{V}^T \\bf{y}+ \\bf{b}$.\n",
    "\n",
    "A closed form expression would be:\n",
    "$$ \\hat{\\bf{x}}(\\bf{y}) =  \\bf{V} \\text{diag} (\\bf{d}_{\\bf{xy}}\\oslash \\bf{d}_{\\bf{yy}}) \\bf{V}^T \\bf{y} + \\bar{\\bf{x}}$$\n",
    "\n",
    "where $\\bf{d}_{\\bf{xy}} := \\text{diag}(\\text{cov}(\\bf{V}^T \\bf{x}, \\bf{V}^T \\bf{y}))$, $\\bf{d}_{\\bf{yy}} := \\text{diag}(\\text{var}(\\bf{V}^T \\bf{y}))$ and $\\bar{\\bf{x}} :=\\mathbb{E}\\bf{x}$"
   ]
  },
  {
   "cell_type": "code",
   "execution_count": 41,
   "id": "b344e0714d5c5312",
   "metadata": {
    "collapsed": false,
    "ExecuteTime": {
     "end_time": "2024-04-24T20:02:28.604324100Z",
     "start_time": "2024-04-24T20:02:28.602815200Z"
    }
   },
   "outputs": [],
   "source": [
    "def train_gsp_lmmse_estimator(xt, yt, V):\n",
    "    xt = xt.T     # column vectors representation\n",
    "    yt = yt.T     # column vectors representation\n",
    "\n",
    "    xt_mean = np.mean(xt, axis=1)[:, np.newaxis]\n",
    "    yt_mean = np.mean(yt, axis=1)[:, np.newaxis]\n",
    "\n",
    "    d_xy = np.mean( ( V.T @ (xt - xt_mean) ) * ( V.T @ (yt - yt_mean) ) , axis=1)\n",
    "\n",
    "    d_yy = np.mean( ( V.T @ (yt - yt_mean) ) ** 2 , axis=1)\n",
    "    \n",
    "    h = d_xy / d_yy\n",
    "    \n",
    "    return h, xt_mean"
   ]
  },
  {
   "cell_type": "code",
   "outputs": [],
   "source": [
    "def test_estimator_mse(h, b, xt_test, yt_test, V):\n",
    "    xt_test = xt_test.T     # column vectors representation\n",
    "    yt_test = yt_test.T     # column vectors representation\n",
    "\n",
    "    err = V @ np.diag(h) @ V.T @ yt_test + b - xt_test\n",
    "    s_mse = np.linalg.norm(err, axis=0)\n",
    "    mse = np.mean(s_mse)\n",
    "    return mse\n"
   ],
   "metadata": {
    "collapsed": false,
    "ExecuteTime": {
     "end_time": "2024-04-24T20:13:29.866896900Z",
     "start_time": "2024-04-24T20:13:29.863159800Z"
    }
   },
   "id": "f86da8f2c3400c5c",
   "execution_count": 61
  },
  {
   "cell_type": "markdown",
   "id": "2d1c730c8e33707b",
   "metadata": {
    "collapsed": false
   },
   "source": [
    "## Part 3: GNN and Deep Learning based Estimation\n",
    "\n",
    "### Define Model Architecture"
   ]
  },
  {
   "cell_type": "code",
   "execution_count": 42,
   "id": "2196692421d14ac6",
   "metadata": {
    "collapsed": false,
    "ExecuteTime": {
     "end_time": "2024-04-24T20:02:30.901510100Z",
     "start_time": "2024-04-24T20:02:30.899999500Z"
    }
   },
   "outputs": [],
   "source": [
    "class GNN(torch.nn.Module):\n",
    "    def __init__(self, K = 30 ):  # K is the order of the Chebyshev polynomial\n",
    "        super(GNN, self).__init__()\n",
    "        \n",
    "        self.conv1 = tg.nn.ChebConv(1, 1, K=K, normalization=None)\n",
    "        self.relu1 = nn.ReLU()\n",
    "        self.conv2 = tg.nn.ChebConv(1, 1, K=K, normalization=None)\n",
    "        self.relu2 = nn.ReLU()\n",
    "        self.conv3 = tg.nn.ChebConv(1, 1, K=K, normalization=None)  \n",
    "\n",
    "    def forward(self, data):\n",
    "        x, edge_index = data.x, data.edge_index\n",
    "        x = self.conv1(x, edge_index=edge_index, edge_weight=data.edge_attr)\n",
    "        x = self.relu1(x)\n",
    "        x = self.conv2(x, edge_index=edge_index)\n",
    "        x = self.relu2(x)\n",
    "        x = self.conv3(x, edge_index=edge_index)\n",
    "        return x\n"
   ]
  },
  {
   "cell_type": "markdown",
   "id": "4cb09e26efe52704",
   "metadata": {
    "collapsed": false
   },
   "source": [
    "### Define training function\n",
    "\n",
    "In order to run on GPU via CUDA set device accordingly."
   ]
  },
  {
   "cell_type": "code",
   "execution_count": 57,
   "id": "b411d15073a81b43",
   "metadata": {
    "collapsed": false,
    "ExecuteTime": {
     "end_time": "2024-04-24T20:09:22.864087800Z",
     "start_time": "2024-04-24T20:09:22.857579600Z"
    }
   },
   "outputs": [],
   "source": [
    "def train_model(model, train_data, valid_data, batch_size=50, valid_batch_size = 50, epochs=40, lr=0.01, weight_decay=1e-4, path=None, device='cpu'):\n",
    "    \n",
    "    train_loader = DataLoader(train_data, batch_size=batch_size, shuffle=True)\n",
    "    valid_loader = DataLoader(valid_data, batch_size=valid_batch_size, shuffle=False)\n",
    "\n",
    "    criterion = nn.MSELoss()\n",
    "    optimizer = torch.optim.Adam(model.parameters(), lr=lr, weight_decay=weight_decay)\n",
    "    \n",
    "    train_mse, valid_mse = [], []\n",
    "    \n",
    "    for epoch in range(epochs):\n",
    "                \n",
    "        # Training\n",
    "        model.train() \n",
    "        train_loss = 0\n",
    "        iters = 0\n",
    "        for data in train_loader:\n",
    "            data = data.to(device) \n",
    "            optimizer.zero_grad()\n",
    "            out = model(data)\n",
    "            loss = criterion(out, data.y)\n",
    "            loss.backward()\n",
    "            optimizer.step()\n",
    "            train_loss += float(loss.item())\n",
    "            iters += 1\n",
    "        train_mse.append(train_loss / iters)\n",
    "\n",
    "        # Validation\n",
    "        model.eval()\n",
    "        valid_loss = 0\n",
    "        iters = 0\n",
    "        with torch.no_grad():\n",
    "            for data in valid_loader:\n",
    "                data = data.to(device) \n",
    "\n",
    "                output = model(data)\n",
    "                loss = criterion(output,data.y)\n",
    "                valid_loss += float(loss.item())\n",
    "                iters += 1\n",
    "            valid_mse.append(valid_loss / iters)\n",
    "\n",
    "        if valid_mse[-1] >= min(valid_mse) and path is not None:\n",
    "            print(\"Current State Saved\")\n",
    "            torch.save(model.state_dict(), path)\n",
    "\n",
    "        print(f\"Epoch: {epoch}, Train MSE {train_mse[-1]}, Validation MSE {valid_mse[-1]}\")\n",
    "    \n",
    "    return train_mse, valid_mse\n",
    "        \n",
    "        \n",
    "def plot_learning_curve(train_mse, valid_mse):\n",
    "    plt.figure(figsize=(10, 5))\n",
    "    plt.plot(train_mse, label='Training MSE', color='blue')\n",
    "    plt.plot(valid_mse, label='Validation MSE', color='black')\n",
    "    plt.title('Training and Validation Losses')\n",
    "    plt.xlabel('Epochs')\n",
    "    plt.ylabel('MSE')\n",
    "    plt.legend()\n",
    "    plt.show()"
   ]
  },
  {
   "cell_type": "markdown",
   "id": "89560b0932c2d00d",
   "metadata": {
    "collapsed": false
   },
   "source": [
    "## Part 4: Train\n",
    "### Train GSP-LMMSE Estimator"
   ]
  },
  {
   "cell_type": "code",
   "outputs": [],
   "source": [
    "filename = 'grid_data_ieee118cdf.mat'\n",
    "grid_data = sio.loadmat(filename)\n",
    "Y = grid_data['Y']\n",
    "N = Y.shape[0]\n",
    "nt = 1000\n",
    "\n",
    "L, Lambda, V = laplacian_evd(Y)\n",
    "xt_total, yt_total = generate_data(nt, Y, Lambda, V )\n"
   ],
   "metadata": {
    "collapsed": false,
    "ExecuteTime": {
     "end_time": "2024-04-24T20:02:38.517692300Z",
     "start_time": "2024-04-24T20:02:38.386007100Z"
    }
   },
   "id": "8159c1744d97022e",
   "execution_count": 44
  },
  {
   "cell_type": "code",
   "execution_count": 59,
   "id": "316bdbd9af84669c",
   "metadata": {
    "collapsed": false,
    "ExecuteTime": {
     "end_time": "2024-04-24T20:09:54.737165100Z",
     "start_time": "2024-04-24T20:09:54.726908300Z"
    }
   },
   "outputs": [],
   "source": [
    "h_gsp, b_gsp = train_gsp_lmmse_estimator(xt_total, yt_total, V)"
   ]
  },
  {
   "cell_type": "code",
   "outputs": [
    {
     "data": {
      "text/plain": "3.1323176807415836"
     },
     "execution_count": 63,
     "metadata": {},
     "output_type": "execute_result"
    }
   ],
   "source": [
    "xt_test, yt_test = generate_data(nt, Y, Lambda, V )\n",
    "test_estimator_mse(h_gsp, b_gsp, xt_test, yt_test, V)"
   ],
   "metadata": {
    "collapsed": false,
    "ExecuteTime": {
     "end_time": "2024-04-24T20:14:16.281125900Z",
     "start_time": "2024-04-24T20:14:16.152512200Z"
    }
   },
   "id": "569f3c63bf485518",
   "execution_count": 63
  },
  {
   "cell_type": "code",
   "execution_count": 58,
   "id": "d16ed3b52df55492",
   "metadata": {
    "collapsed": false,
    "ExecuteTime": {
     "end_time": "2024-04-24T20:09:47.891179400Z",
     "start_time": "2024-04-24T20:09:26.145437700Z"
    }
   },
   "outputs": [
    {
     "name": "stdout",
     "output_type": "stream",
     "text": [
      "Current State Saved\n",
      "Epoch: 0, Train MSE 182.49216842651367, Validation MSE 150.66976928710938\n",
      "Current State Saved\n",
      "Epoch: 1, Train MSE 150.17250633239746, Validation MSE 148.52824020385742\n",
      "Current State Saved\n",
      "Epoch: 2, Train MSE 149.08654308319092, Validation MSE 147.98661041259766\n",
      "Current State Saved\n",
      "Epoch: 3, Train MSE 148.55963516235352, Validation MSE 147.331298828125\n",
      "Current State Saved\n",
      "Epoch: 4, Train MSE 147.81861877441406, Validation MSE 146.24524307250977\n",
      "Current State Saved\n",
      "Epoch: 5, Train MSE 146.3821039199829, Validation MSE 144.15348052978516\n",
      "Current State Saved\n",
      "Epoch: 6, Train MSE 143.42647552490234, Validation MSE 140.21333694458008\n",
      "Current State Saved\n",
      "Epoch: 7, Train MSE 137.89978313446045, Validation MSE 132.96081924438477\n",
      "Current State Saved\n",
      "Epoch: 8, Train MSE 128.87824058532715, Validation MSE 122.15444755554199\n",
      "Current State Saved\n",
      "Epoch: 9, Train MSE 117.0212173461914, Validation MSE 110.10066795349121\n",
      "Current State Saved\n",
      "Epoch: 10, Train MSE 105.90690898895264, Validation MSE 99.54906845092773\n",
      "Current State Saved\n",
      "Epoch: 11, Train MSE 94.68167686462402, Validation MSE 88.61286926269531\n",
      "Current State Saved\n",
      "Epoch: 12, Train MSE 83.22314882278442, Validation MSE 77.66114616394043\n",
      "Current State Saved\n",
      "Epoch: 13, Train MSE 71.22196626663208, Validation MSE 66.20388603210449\n",
      "Current State Saved\n",
      "Epoch: 14, Train MSE 59.283480167388916, Validation MSE 54.73908805847168\n",
      "Current State Saved\n",
      "Epoch: 15, Train MSE 48.8323335647583, Validation MSE 45.99976062774658\n",
      "Current State Saved\n",
      "Epoch: 16, Train MSE 41.59567427635193, Validation MSE 39.88732719421387\n",
      "Current State Saved\n",
      "Epoch: 17, Train MSE 36.52981758117676, Validation MSE 35.41378211975098\n",
      "Current State Saved\n",
      "Epoch: 18, Train MSE 32.82868540287018, Validation MSE 31.967081546783447\n",
      "Current State Saved\n",
      "Epoch: 19, Train MSE 29.867934584617615, Validation MSE 29.20407009124756\n",
      "Current State Saved\n",
      "Epoch: 20, Train MSE 27.490379214286804, Validation MSE 26.966757774353027\n",
      "Current State Saved\n",
      "Epoch: 21, Train MSE 25.558546900749207, Validation MSE 25.11889934539795\n",
      "Current State Saved\n",
      "Epoch: 22, Train MSE 23.992226362228394, Validation MSE 23.693334579467773\n",
      "Current State Saved\n",
      "Epoch: 23, Train MSE 22.752098202705383, Validation MSE 22.56834363937378\n",
      "Current State Saved\n",
      "Epoch: 24, Train MSE 21.777588486671448, Validation MSE 21.665008544921875\n",
      "Current State Saved\n",
      "Epoch: 25, Train MSE 20.96000337600708, Validation MSE 20.924532890319824\n",
      "Current State Saved\n",
      "Epoch: 26, Train MSE 20.267937898635864, Validation MSE 20.237005710601807\n",
      "Current State Saved\n",
      "Epoch: 27, Train MSE 19.63382053375244, Validation MSE 19.612696647644043\n",
      "Current State Saved\n",
      "Epoch: 28, Train MSE 19.039012551307678, Validation MSE 18.989521026611328\n",
      "Current State Saved\n",
      "Epoch: 29, Train MSE 18.51351761817932, Validation MSE 18.46027946472168\n",
      "Current State Saved\n",
      "Epoch: 30, Train MSE 18.072162628173828, Validation MSE 18.062146186828613\n",
      "Current State Saved\n",
      "Epoch: 31, Train MSE 17.68446695804596, Validation MSE 17.68712091445923\n",
      "Current State Saved\n",
      "Epoch: 32, Train MSE 17.40822124481201, Validation MSE 17.445541381835938\n",
      "Current State Saved\n",
      "Epoch: 33, Train MSE 17.20921802520752, Validation MSE 17.28242540359497\n",
      "Current State Saved\n",
      "Epoch: 34, Train MSE 17.074224650859833, Validation MSE 17.156744956970215\n",
      "Current State Saved\n",
      "Epoch: 35, Train MSE 16.951483726501465, Validation MSE 17.053415775299072\n",
      "Current State Saved\n",
      "Epoch: 36, Train MSE 16.850372433662415, Validation MSE 16.94769525527954\n",
      "Current State Saved\n",
      "Epoch: 37, Train MSE 16.752041816711426, Validation MSE 16.87983226776123\n",
      "Current State Saved\n",
      "Epoch: 38, Train MSE 16.6804181933403, Validation MSE 16.788703441619873\n",
      "Current State Saved\n",
      "Epoch: 39, Train MSE 16.598408699035645, Validation MSE 16.73748540878296\n"
     ]
    },
    {
     "data": {
      "text/plain": "<Figure size 1000x500 with 1 Axes>",
      "image/png": "[encoded data removed]"
     },
     "metadata": {},
     "output_type": "display_data"
    }
   ],
   "source": [
    "path = \"./best_GNN_model.pk\"\n",
    "GNN_model = GNN()\n",
    "\n",
    "L_sparse = ssparse.csr_matrix(np.diag(np.diag(L)) -L)\n",
    "edge_index, edge_weight = tg.utils.from_scipy_sparse_matrix(L_sparse)\n",
    "\n",
    "edge_weight = edge_weight.to(dtype=torch.float32)\n",
    "\n",
    "yt_train = torch.tensor(xt_total, dtype=torch.float32)\n",
    "xt_train = torch.tensor(yt_total, dtype=torch.float32)\n",
    "\n",
    "# NOTE: yt is the input for the model, and xt is the label, in Data object x is the input and y is the label!\n",
    "total_data = [Data(x=yt_train[i].unsqueeze(-1), y=xt_train[i].unsqueeze(-1), edge_index=edge_index, edge_attr=edge_weight) for i in range(len(yt_train))]\n",
    "\n",
    "\n",
    "train_data = total_data[:int(len(total_data) * 0.8)]\n",
    "valid_data = total_data[int(len(total_data) * 0.8):]\n",
    "\n",
    "GNN_model.to(device)\n",
    "\n",
    "\n",
    "train_mse, valid_mse = train_model(GNN_model, train_data, valid_data, path=path, device=device)\n",
    "plot_learning_curve(train_mse, valid_mse)"
   ]
  },
  {
   "cell_type": "markdown",
   "id": "de1915ae1723bcbb",
   "metadata": {
    "collapsed": false
   },
   "source": [
    "## Part 4: Comparison"
   ]
  }
 ],
 "metadata": {
  "kernelspec": {
   "display_name": "Python 3 (ipykernel)",
   "language": "python",
   "name": "python3"
  },
  "language_info": {
   "codemirror_mode": {
    "name": "ipython",
    "version": 3
   },
   "file_extension": ".py",
   "mimetype": "text/x-python",
   "name": "python",
   "nbconvert_exporter": "python",
   "pygments_lexer": "ipython3",
   "version": "3.12.2"
  }
 },
 "nbformat": 4,
 "nbformat_minor": 5
}
